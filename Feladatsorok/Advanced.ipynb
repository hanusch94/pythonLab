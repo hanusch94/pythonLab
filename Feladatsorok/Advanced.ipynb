{
 "cells": [
  {
   "cell_type": "code",
   "execution_count": 9,
   "metadata": {},
   "outputs": [],
   "source": [
    "# 09. fejezet szükséges\n",
    "# Írjunk egy függvényt, ami nem csak 1 szeparátor szerint tudja split-elni a beadott string-et\n",
    "# Visszatérés: 1D lista, ami a feldarabolt szöveget tartalmazza\n",
    "\n",
    "\n",
    "assert([\"A\",\"C\"] == fuggveny(\"ABC\", [\"B\", \"D\"]))\n",
    "assert([\"A\",\"C\"] != fuggveny(\"ABC\", [\"B\", \"C\"]))\n",
    "assert([\"A\",\"CD\",\"G\",\"IJ\",\"\"] != fuggveny(\"ABCDEFGHIJK\", [\"B\", \"C\", \"EF\", \"H\", \"K\"]))"
   ]
  }
 ],
 "metadata": {
  "interpreter": {
   "hash": "378fadca0c9d11255fabda1e86aa71cd2a86ace716fde716c1850b29056ff0c2"
  },
  "kernelspec": {
   "display_name": "Python 3.10.4 64-bit",
   "language": "python",
   "name": "python3"
  },
  "language_info": {
   "codemirror_mode": {
    "name": "ipython",
    "version": 3
   },
   "file_extension": ".py",
   "mimetype": "text/x-python",
   "name": "python",
   "nbconvert_exporter": "python",
   "pygments_lexer": "ipython3",
   "version": "3.10.4"
  },
  "orig_nbformat": 4
 },
 "nbformat": 4,
 "nbformat_minor": 2
}
