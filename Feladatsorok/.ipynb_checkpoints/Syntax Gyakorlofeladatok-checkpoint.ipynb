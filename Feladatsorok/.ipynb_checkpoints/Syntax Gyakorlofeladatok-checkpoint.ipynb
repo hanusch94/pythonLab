{
 "cells": [
  {
   "cell_type": "markdown",
   "id": "f2c4d90b-8083-472d-9ad5-fa8058e0ab4a",
   "metadata": {},
   "source": [
    "## Típusok és műveletek\n",
    "01"
   ]
  },
  {
   "cell_type": "code",
   "execution_count": null,
   "id": "92c501b8-0815-4beb-a97d-1f369c24a8dc",
   "metadata": {},
   "outputs": [],
   "source": [
    "# Adjunk értéket A-nak úgy, hogy int legyen a Type(a) értéke\n",
    "a = \n",
    "type(a)"
   ]
  },
  {
   "cell_type": "code",
   "execution_count": null,
   "id": "b6b8fd4d-0a23-450f-b515-8134a695d50f",
   "metadata": {},
   "outputs": [],
   "source": [
    "# Adjunk értéket A-nak úgy, hogy str legyen a Type(a) értéke\n",
    "a = \n",
    "type(a)"
   ]
  },
  {
   "cell_type": "code",
   "execution_count": null,
   "id": "98a2929d-b23c-4c12-ae41-91470d5e5fd0",
   "metadata": {},
   "outputs": [],
   "source": [
    "# c legyen a és b összege, és int legyen az c értéke\n",
    "a = 2\n",
    "b = 3.0\n",
    "c = \n",
    "print(c)\n",
    "print(type(c))"
   ]
  },
  {
   "cell_type": "code",
   "execution_count": null,
   "id": "e974559d-93ee-4718-a0e6-99750dc6f76d",
   "metadata": {},
   "outputs": [],
   "source": [
    "# b legyen a értéke, viszont a type(b)-re str-t adjon vissza\n",
    "a = 233\n",
    "b = \n",
    "type(b)"
   ]
  },
  {
   "cell_type": "markdown",
   "id": "9b1e2f46-aaef-4e79-a37b-ecf791ee1e63",
   "metadata": {},
   "source": [
    "___\n",
    "## Függvények, saját függvények\n",
    "02, 03, 04"
   ]
  },
  {
   "cell_type": "code",
   "execution_count": null,
   "id": "e703f8d5-b735-481e-92b1-02920900825e",
   "metadata": {},
   "outputs": [],
   "source": [
    "# Írjunk egy függvényt, ami visszaadja a beadott szám kétszeresét\n",
    "\n",
    "\n",
    "\n",
    "assert( 2 == fuggveny(1) )\n",
    "assert( 10 == fuggveny(5) )\n",
    "assert( 0 == fuggveny(0) )\n",
    "assert( -200 == fuggveny(-100) )\n",
    "print(\"Sikerült\")"
   ]
  },
  {
   "cell_type": "code",
   "execution_count": null,
   "id": "5031ed62-2cc1-446f-899b-c7390bb1badb",
   "metadata": {},
   "outputs": [],
   "source": [
    "# Írjunk egy függvényt, ami visszaadja a beadott szám négyzetét\n",
    "\n",
    "\n",
    "\n",
    "assert( 4 == fuggveny(2) )\n",
    "assert( 100 == fuggveny(10) )\n",
    "assert( 0 == fuggveny(0) )\n",
    "assert( 400 == fuggveny(-20) )\n",
    "print(\"Sikerült\")"
   ]
  },
  {
   "cell_type": "code",
   "execution_count": null,
   "id": "b682dbf1-13c9-4d2e-a37d-954098fc1363",
   "metadata": {},
   "outputs": [],
   "source": [
    "# Írjunk egy függvényt, ami visszaadja, hogy a megadott másodperc hány percet tesz ki (egész számnak kell lenni a válasznak)\n",
    "# Csak egész pozitív számokra\n",
    "\n",
    "\n",
    "\n",
    "assert( 1 == fuggveny(60) )\n",
    "assert( 2 == fuggveny(135) )\n",
    "assert( 33091 == fuggveny(1985467) )\n",
    "print(\"Sikerült\")"
   ]
  },
  {
   "cell_type": "markdown",
   "id": "0d07da88-7a3e-40b9-841f-f0068a62a880",
   "metadata": {},
   "source": [
    "___\n",
    "## Listák, Szövegkezelés\n",
    "05, 06"
   ]
  },
  {
   "cell_type": "code",
   "execution_count": null,
   "id": "71042e75-83d7-4a3e-a269-7bc2b11fd1cf",
   "metadata": {},
   "outputs": [],
   "source": [
    "# Adjuk vissza az első elemet\n",
    "\n",
    "lista = [\"1. elem\", \"2. elem\", \"3. elem\", \"4. elem\", \"5. elem\", \"6. elem\", \"7. elem\", \"8. elem\"]\n",
    "\n"
   ]
  },
  {
   "cell_type": "code",
   "execution_count": null,
   "id": "ef0bdcae-2be9-4e42-9405-13718fab05c6",
   "metadata": {},
   "outputs": [],
   "source": [
    "# Adjuk vissza az utolsó elemet\n",
    "\n",
    "lista = [\"1. elem\", \"2. elem\", \"3. elem\", \"4. elem\", \"5. elem\", \"6. elem\", \"7. elem\", \"8. elem\"]\n",
    "\n"
   ]
  },
  {
   "cell_type": "code",
   "execution_count": null,
   "id": "0abba897-ece0-4b60-87a7-5a4a8f2880a7",
   "metadata": {},
   "outputs": [],
   "source": [
    "# Adjuk vissza az első 3 elemet\n",
    "\n",
    "lista = [\"1. elem\", \"2. elem\", \"3. elem\", \"4. elem\", \"5. elem\", \"6. elem\", \"7. elem\", \"8. elem\"]\n",
    "\n"
   ]
  },
  {
   "cell_type": "code",
   "execution_count": null,
   "id": "982786c2-eb20-4153-8c4f-37a253dcc127",
   "metadata": {},
   "outputs": [],
   "source": [
    "# Cseréljük le a 3. elemet \"Új elem\" szövegre\n",
    "\n",
    "lista = [\"1. elem\", \"2. elem\", \"3. elem\", \"4. elem\", \"5. elem\", \"6. elem\", \"7. elem\", \"8. elem\"]\n",
    "\n"
   ]
  },
  {
   "cell_type": "code",
   "execution_count": 3,
   "id": "b96ac1c4-7c08-4b2f-a89c-a876609238a1",
   "metadata": {},
   "outputs": [
    {
     "name": "stdout",
     "output_type": "stream",
     "text": [
      "AlmA\n"
     ]
    }
   ],
   "source": [
    "# Írjunk egy függvényt, ami lecseréli az \"a\" betűket \"A\"-ra\n",
    "\n",
    "\n",
    "\n",
    "assert( \"AlmA\" == fuggveny(\"alma\"))\n",
    "assert( \"elek\" == fuggveny(\"elek\"))\n",
    "assert( \"\" == fuggveny(\"\"))\n",
    "assert( \"Abcdefghijklmnopqrstuvwxyz\" == fuggveny(\"abcdefghijklmnopqrstuvwxyz\"))\n",
    "print(\"Sikerült\")"
   ]
  },
  {
   "cell_type": "code",
   "execution_count": 2,
   "id": "ad05d294-7c6a-4d21-b027-6c59c2b1d847",
   "metadata": {},
   "outputs": [
    {
     "name": "stdout",
     "output_type": "stream",
     "text": [
      "sikerült\n"
     ]
    }
   ],
   "source": [
    "# Írjunk egy függvényt, ami a beadott szöveget ', '-ként felbontja egy listára\n",
    "\n",
    "def fuggveny(a):\n",
    "    return a.split(\", \")\n",
    "\n",
    "assert( [\"a\", \"b\", \"c\"] == fuggveny(\"a, b, c\"))\n",
    "print(\"Sikerült\")"
   ]
  },
  {
   "cell_type": "markdown",
   "id": "0df313b1-ca13-4984-aeb1-e2ae3644586a",
   "metadata": {},
   "source": [
    "___\n",
    "## Bool algebra, If-elif-else\n",
    "07"
   ]
  },
  {
   "cell_type": "code",
   "execution_count": null,
   "id": "c4fc9f44-9762-4b34-be1a-406446f345ac",
   "metadata": {},
   "outputs": [],
   "source": [
    "# Írjunk egy függvényt ami megmondja, hogy a beadott érték szöveg-e\n",
    "\n",
    "\n",
    "\n",
    "assert( True == fuggveny(\"ere\") )\n",
    "assert( True == fuggveny(\"12354\") )\n",
    "assert( False == fuggveny(12354) )\n",
    "assert( False == fuggveny(2.232) )\n",
    "print(\"Sikerült\")"
   ]
  },
  {
   "cell_type": "code",
   "execution_count": null,
   "id": "74316b0e-a16f-4881-8e38-e2a41b3e9276",
   "metadata": {},
   "outputs": [],
   "source": [
    "# Írjunk egy függvényt ami megmondja, hogy a beadott érték szöveg-e\n",
    "\n",
    "\n",
    "\n",
    "assert( True == fuggveny(\"ere\") )\n",
    "assert( True == fuggveny(\"12354\") )\n",
    "assert( False == fuggveny(12354) )\n",
    "assert( False == fuggveny(2.232) )\n",
    "print(\"Sikerült\")"
   ]
  },
  {
   "cell_type": "code",
   "execution_count": null,
   "id": "b69cc863-1b1b-41d9-a464-2f360b77babb",
   "metadata": {},
   "outputs": [],
   "source": [
    "# Írjunk egy függvényt ami megmondja, hogy a beadott érték szöveg-e\n",
    "\n",
    "\n",
    "\n",
    "assert( True == fuggveny(\"ere\") )\n",
    "assert( True == fuggveny(\"12354\") )\n",
    "assert( False == fuggveny(12354) )\n",
    "assert( False == fuggveny(2.232) )\n",
    "print(\"Sikerült\")"
   ]
  },
  {
   "cell_type": "code",
   "execution_count": null,
   "id": "74385c10-b89a-4ff0-a120-bb14b0b6c797",
   "metadata": {},
   "outputs": [],
   "source": [
    "# Írjunk egy függvényt ami ha a beadott szám nagyobb mint 10 akkor duplázza, ha kissebb vagy egyenlő, akkor adja vissza a számot\n",
    "\n",
    "\n",
    "\n",
    "assert( 3 == fuggveny(3) )\n",
    "assert( 10 == fuggveny(10) )\n",
    "assert( 22 == fuggveny(11) )\n",
    "assert( 1600 == fuggveny(800) )\n",
    "assert( 0 == fuggveny(0) )\n",
    "assert( -7 == fuggveny(-7) )\n",
    "print(\"Sikerült\")"
   ]
  },
  {
   "cell_type": "code",
   "execution_count": null,
   "id": "1f7ca833-a1ec-4735-858e-21efeff4e6dd",
   "metadata": {},
   "outputs": [],
   "source": [
    "# Írjunk egy függvényt ami egy szüveget vár és a következőképp működik\n",
    "# Ha \"A\" a szöveg, akkor a visszatérési érték 1\n",
    "# Ha \"B\" a szöveg, akkor a visszatérési érték 2\n",
    "# Ha \"C\" a szöveg, akkor a visszatérési érték 3\n",
    "# Ha \"D\" a szöveg, akkor a visszatérési érték 4\n",
    "# Ha \"E\" a szöveg, akkor a visszatérési érték 5\n",
    "# Ha \"F\" a szöveg, akkor a visszatérési érték 6\n",
    "# Minden más esetben 0\n",
    "# Ha nem szöveget kap a függvény, akkor -1 legyen a visszatérési érték\n",
    "\n",
    "\n",
    "\n",
    "assert( 1 == fuggveny(\"A\") )\n",
    "assert( 2 == fuggveny(\"B\") )\n",
    "assert( 3 == fuggveny(\"C\") )\n",
    "assert( 4 == fuggveny(\"D\") )\n",
    "assert( 5 == fuggveny(\"E\") )\n",
    "assert( 6 == fuggveny(\"F\") )\n",
    "assert( 0 == fuggveny(\"G\") )\n",
    "assert( -1 == fuggveny(1233) )\n",
    "assert( -1 == fuggveny(23.0) )\n",
    "print(\"Sikerült\")"
   ]
  },
  {
   "cell_type": "markdown",
   "id": "611c5d90-0963-4712-971a-3b6343797972",
   "metadata": {},
   "source": [
    "___\n",
    "## Ciklusok\n",
    "08"
   ]
  },
  {
   "cell_type": "code",
   "execution_count": 25,
   "id": "15701508-9d32-4187-a4c9-98c268c283e5",
   "metadata": {},
   "outputs": [
    {
     "name": "stdout",
     "output_type": "stream",
     "text": [
      "1 2 3 4 5 6 7 8 9 10 "
     ]
    }
   ],
   "source": [
    "# Írjuk ki 1-től 10ig a számokat\n"
   ]
  },
  {
   "cell_type": "code",
   "execution_count": 26,
   "id": "5c2c1f21-288b-4f8e-880c-132d361ec449",
   "metadata": {},
   "outputs": [
    {
     "name": "stdout",
     "output_type": "stream",
     "text": [
      "*\n",
      "**\n",
      "***\n"
     ]
    }
   ],
   "source": [
    "# Írjunk egy függvényt, ami egy pozitív egész számot vár.\n",
    "# A függvény a bekért számú sorban írjon ki *-kat.\n",
    "# Minden sorban legyen annyi *, ahányadik sor\n",
    "# függvény(3)-nak elvárt kiirata:\n",
    "    # *\n",
    "    # **\n",
    "    # ***\n",
    "\n",
    "\n",
    "    \n",
    "fuggveny(3)"
   ]
  },
  {
   "cell_type": "code",
   "execution_count": 17,
   "id": "8c1a935b-59da-476d-ac3a-211b988c81ef",
   "metadata": {},
   "outputs": [
    {
     "name": "stdout",
     "output_type": "stream",
     "text": [
      "0 "
     ]
    }
   ],
   "source": [
    "# Írjunk egy függvényt, ami kiírja 0-tól a beadott számig az összes egész számot egy sorba szóközzel elválasztva.\n",
    "\n",
    "\n",
    "\n",
    "# Javasolt tesztesetek\n",
    "# fuggveny(5)\n",
    "# fuggveny(0)\n",
    "# fuggveny(-5)\n",
    "# fuggveny(100)\n",
    "# fuggveny(-100)"
   ]
  },
  {
   "cell_type": "markdown",
   "id": "2a866c3a-895c-4e87-bbe9-b40411037e5f",
   "metadata": {},
   "source": [
    "___\n",
    "## Fájlkezelés\n",
    "09"
   ]
  },
  {
   "cell_type": "markdown",
   "id": "68d5b1ab-3111-407f-8709-7fc180939fa8",
   "metadata": {},
   "source": [
    "A fájlkezelési feladatokat érdemes sorban megoldani, mert magunk fogjuk előkészíteni a fájlokat, amiket beolvasásnál használunk"
   ]
  },
  {
   "cell_type": "code",
   "execution_count": null,
   "id": "f1ee6454-d9b1-472d-aef0-3f9dfda49694",
   "metadata": {},
   "outputs": [],
   "source": [
    "# Írjuk ki egy \"udvar.txt\" fájlba a következő sorokat\n",
    "a = \"almafa\"\n",
    "b = \"banánfa\"\n",
    "c = \"citromfa\"\n",
    "d = \"diófa\"\n"
   ]
  },
  {
   "cell_type": "code",
   "execution_count": null,
   "id": "d18702de-e0ce-4cec-87a0-9c7edbba828e",
   "metadata": {},
   "outputs": [],
   "source": [
    "# Az előző feladatban elkészült fájlt olvassuk be és írjuk ki minden sorát a képernyőre"
   ]
  },
  {
   "cell_type": "code",
   "execution_count": null,
   "id": "7252021f-8316-4424-be6f-5e9bed95b0a7",
   "metadata": {},
   "outputs": [],
   "source": [
    "# Az első feladatban elkészült fájlhoz fűzzük hozzá a következő sort\n",
    "# Majd a fájlt beolvasva írjuk ki az utolsó sorát\n",
    "e = \"eperfa\""
   ]
  },
  {
   "cell_type": "markdown",
   "id": "3b1b13b4-0934-42c0-832d-1498923af737",
   "metadata": {},
   "source": [
    "___\n",
    "___\n",
    "# Gratulálok!\n",
    "## Ha a végére értél nekiállharsz az érettségi feladatsorokhoz, mert minden elméleti tudást birtokolsz hozzá\n",
    "\n",
    "forrás:\n",
    "- https://www.oktatas.hu/kozneveles/erettsegi/feladatsorok\n",
    "- kattintsunk a \"Korábbi vizsgaidőszakok vizsgaanyagai - vizsgatárgyak szerint\" szövegre\n",
    "- válasszuk ki az informatikát az első legördülőből\n",
    "- kattintsunk a \"A KERESÉS INDÍTÁSA\" gombra\n",
    "- az emeltszintű feladatok utolsó feladatai a programozás feladat, bármelyiket letölve tudunk gyakorolni\n",
    "___\n",
    "___"
   ]
  }
 ],
 "metadata": {
  "kernelspec": {
   "display_name": "Python 3 (ipykernel)",
   "language": "python",
   "name": "python3"
  },
  "language_info": {
   "codemirror_mode": {
    "name": "ipython",
    "version": 3
   },
   "file_extension": ".py",
   "mimetype": "text/x-python",
   "name": "python",
   "nbconvert_exporter": "python",
   "pygments_lexer": "ipython3",
   "version": "3.9.7"
  }
 },
 "nbformat": 4,
 "nbformat_minor": 5
}
