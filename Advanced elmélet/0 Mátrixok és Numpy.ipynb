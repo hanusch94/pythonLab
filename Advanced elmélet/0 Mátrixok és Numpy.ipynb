{
 "cells": [
  {
   "cell_type": "markdown",
   "id": "cd985a36-6b18-4a4e-bfd7-18417c67415a",
   "metadata": {},
   "source": [
    "# Numpy, Mátrixok\n",
    "Ez előtt a téma előtt érdemes a szintaktikában eljutni a Ciklusok tananyagig\n",
    "## Mátrixok\n",
    "A mátrixok alapvető eszközök sok területen.\n",
    "-képfeldolgozás\n",
    "-grafika\n",
    "-mesterséges intelligencia\n",
    "-adattárolás\n",
    "-adatbányászás\n",
    "(Fun Fact: Pont ezért van az, hogy a grafikai számításokat végző videókártya ennyire kell az adatbányászathoz és a mesterséges intelligencia számításokhoz)"
   ]
  },
  {
   "cell_type": "code",
   "execution_count": 23,
   "id": "26770be1-b392-425c-a57b-93dd77e81061",
   "metadata": {},
   "outputs": [
    {
     "name": "stdout",
     "output_type": "stream",
     "text": [
      "[1, 0, 0, 0, 0]\n",
      "[0, 1, 0, 0, 0]\n",
      "[0, 0, 1, 0, 0]\n",
      "[0, 0, 0, 1, 0]\n"
     ]
    }
   ],
   "source": [
    "# Egy mátrix az listák listája\n",
    "# Még hozzá szabályos, tehát minden sorban ugyanannyi elem kell, hogy legyen\n",
    "\n",
    "a = [[1,0,0,0,0],\n",
    "     [0,1,0,0,0],\n",
    "     [0,0,1,0,0],\n",
    "     [0,0,0,1,0]]\n",
    "for lm in a:\n",
    "    print(lm)"
   ]
  },
  {
   "cell_type": "code",
   "execution_count": 24,
   "id": "c9047fce-f40a-4b81-85df-934a47416e3d",
   "metadata": {},
   "outputs": [
    {
     "name": "stdout",
     "output_type": "stream",
     "text": [
      "[[1, 1, 1], [1, 0, 1], [1, 1, 1]]\n",
      "[[1, 0, 1], [0, 0, 0], [1, 0, 1]]\n",
      "[[1, 1, 1], [1, 0, 1], [1, 1, 1]]\n"
     ]
    }
   ],
   "source": [
    "# Amikor egy mátrix dimenzióiról beszélünk, akkor azt mondjuk meg, hány lista van egymásba ágyazva\n",
    "# Az előző példában 2D listáról beszéltünk, mert van szélessége, magassága\n",
    "# A 3D listában 3 szintre megyünk a listában\n",
    "\n",
    "a = [[[1,1,1], [1,0,1], [1,1,1]],\n",
    "     [[1,0,1], [0,0,0], [1,0,1]],\n",
    "     [[1,1,1], [1,0,1], [1,1,1]]]\n",
    "for lm in a:\n",
    "    print(lm)"
   ]
  },
  {
   "cell_type": "markdown",
   "id": "511c6e57-9fa9-4580-b16e-ee531d66cb5e",
   "metadata": {},
   "source": [
    "___\n",
    "# Numpy\n",
    "## Létrehozás"
   ]
  },
  {
   "cell_type": "code",
   "execution_count": 25,
   "id": "e6a19226-607f-4a60-9ddb-05167cd89ccc",
   "metadata": {},
   "outputs": [],
   "source": [
    "import numpy as np\n",
    "# A numpy fő célja a nagy mennyiségű adat kezelése\n",
    "# Ez gyakorlatilag egy olyan tömb, amin kényelmesen lehet műveleteket végezni\n",
    "a_ = [[1,0,0,0,0],\n",
    "     [0,1,0,0,0],\n",
    "     [0,0,1,0,0],\n",
    "     [0,0,0,1,0],\n",
    "     [0,0,0,0,1]]\n",
    "b_ = [[2,3,1,0,5],\n",
    "     [0,1,0,3,2],\n",
    "     [0,0,2,2,1],\n",
    "     [0,3,0,1,0],\n",
    "     [23,0,2,1,0]]\n",
    "c_ = [[3,3,1,2,0],\n",
    "     [1,0,0,3,2],\n",
    "     [2,0,2,2,1],\n",
    "     [5,3,0,3,0],\n",
    "     [2,0,2,1,1]]"
   ]
  },
  {
   "cell_type": "code",
   "execution_count": 26,
   "id": "8389320d-e952-43f8-bbac-4856e9041951",
   "metadata": {},
   "outputs": [
    {
     "name": "stdout",
     "output_type": "stream",
     "text": [
      "[[1 0 0 0 0]\n",
      " [0 1 0 0 0]\n",
      " [0 0 1 0 0]\n",
      " [0 0 0 1 0]\n",
      " [0 0 0 0 1]]\n",
      "<class 'numpy.matrix'>\n",
      "int32\n"
     ]
    },
    {
     "data": {
      "text/plain": [
       "matrix([[1, 0, 0, 0, 0],\n",
       "        [0, 1, 0, 0, 0],\n",
       "        [0, 0, 1, 0, 0],\n",
       "        [0, 0, 0, 1, 0],\n",
       "        [0, 0, 0, 0, 1]])"
      ]
     },
     "execution_count": 26,
     "metadata": {},
     "output_type": "execute_result"
    }
   ],
   "source": [
    "# Ahhoz, hogy egy mátrixot tudjunk numpyban kezelni, a matrix() függvénybe kell beadni az listába ágyazott listát\n",
    "\n",
    "a = np.matrix(a_)\n",
    "print(a)\n",
    "print(type(a))\n",
    "print(a.dtype)\n",
    "a"
   ]
  },
  {
   "cell_type": "code",
   "execution_count": 27,
   "id": "acdcb507-64ec-4d09-ad94-8b72ae1254ed",
   "metadata": {},
   "outputs": [
    {
     "name": "stdout",
     "output_type": "stream",
     "text": [
      "[[0 0 0 0]\n",
      " [0 0 0 0]\n",
      " [0 0 0 0]\n",
      " [0 0 0 0]]\n",
      "[[1 1 1 1]\n",
      " [1 1 1 1]\n",
      " [1 1 1 1]\n",
      " [1 1 1 1]]\n",
      "[[0.82945424 0.03803899 0.98464293 0.61913286]\n",
      " [0.88327565 0.22798311 0.66463134 0.60119517]\n",
      " [0.50383579 0.75831197 0.69566288 0.93346712]\n",
      " [0.52716531 0.19682105 0.67115916 0.104339  ]]\n",
      "[[1 0 0 0]\n",
      " [0 1 0 0]\n",
      " [0 0 1 0]\n",
      " [0 0 0 1]]\n"
     ]
    }
   ],
   "source": [
    "# Ha egy típikus mátrixot szeretnénk létrehozni, akkor vannak alap mátrixok, amik legenerálhatók\n",
    "\n",
    "# 4*4-es 0-kból álló mátrix\n",
    "print(np.zeros((4,4), dtype=\"int32\"))\n",
    "# 4*4-es 1-ekből álló mátrix\n",
    "print(np.ones((4,4), dtype=\"int32\"))\n",
    "# 4*4-es véletlen számokat generáló mátrix (minx: 0, max:1)\n",
    "print(np.random.rand(4,4))\n",
    "# Egységmátrix (Erről minimálisan lesz szó később, mátrixelmélettel érdemes foglalkozni, ha valakit éredekel a téma)\n",
    "print(np.diag([1,1,1,1]))"
   ]
  },
  {
   "cell_type": "markdown",
   "id": "2f29d4fb-b0f5-456b-855b-f28369666e35",
   "metadata": {},
   "source": [
    "___\n",
    "## Mátrixműveletek\n",
    "Valójában a tényleges értéke an umpynak most következik.\\n\n",
    "Olyan műveleteket tudunk végezni numpy mátrixokon, amit sima tömbökkel nem tudnánk"
   ]
  },
  {
   "cell_type": "code",
   "execution_count": 54,
   "id": "bfe5ec5f",
   "metadata": {},
   "outputs": [
    {
     "name": "stdout",
     "output_type": "stream",
     "text": [
      "[[1 0 0 0 0]\n",
      " [0 1 0 0 0]\n",
      " [0 0 1 0 0]\n",
      " [0 0 0 1 0]\n",
      " [0 0 0 0 1]]\n",
      "[[10  0  0  0  0]\n",
      " [ 0  1  0  0  0]\n",
      " [ 0  0  1  0  0]\n",
      " [ 0  0  0  1  0]\n",
      " [ 0  0  0  0  1]]\n"
     ]
    }
   ],
   "source": [
    "# VIGYÁZZUNK\n",
    "# Ha egy mátrixot átadunk egy másik változónak, az nem az értékeket adja át\n",
    "# Ilyenkor annyit csinálunk, hogy a és b változó is ugyanarra a mátrixra mutat\n",
    "# Így, ha egyiket változtatjuk, akkor A MÁSIK IS VÁLTOZIK\n",
    "a = np.matrix(a_)\n",
    "print(a)\n",
    "b = a\n",
    "b[0,0] = 10\n",
    "print(a)"
   ]
  },
  {
   "cell_type": "code",
   "execution_count": 56,
   "id": "7ad6de29",
   "metadata": {},
   "outputs": [
    {
     "name": "stdout",
     "output_type": "stream",
     "text": [
      "[[1 0 0 0 0]\n",
      " [0 1 0 0 0]\n",
      " [0 0 1 0 0]\n",
      " [0 0 0 1 0]\n",
      " [0 0 0 0 1]]\n",
      "[[1 0 0 0 0]\n",
      " [0 1 0 0 0]\n",
      " [0 0 1 0 0]\n",
      " [0 0 0 1 0]\n",
      " [0 0 0 0 1]]\n",
      "[[10  0  0  0  0]\n",
      " [ 0  1  0  0  0]\n",
      " [ 0  0  1  0  0]\n",
      " [ 0  0  0  1  0]\n",
      " [ 0  0  0  0  1]]\n"
     ]
    }
   ],
   "source": [
    "# Ezt a copy függvénnyel tudjuk megoldani. Ilyenkor csinálunk egy másolatot a mátrixról, és az új változó a másolatra fog mutatni.\n",
    "a = np.matrix(a_)\n",
    "print(a)\n",
    "b = a.copy()\n",
    "b[0,0] = 10\n",
    "print(a)\n",
    "print(b)"
   ]
  },
  {
   "cell_type": "code",
   "execution_count": 28,
   "id": "4adfc473-2fe9-484d-bf52-1205684eabb3",
   "metadata": {},
   "outputs": [
    {
     "name": "stdout",
     "output_type": "stream",
     "text": [
      "[[1 0 0 0 0]\n",
      " [0 1 0 0 0]\n",
      " [0 0 1 0 0]\n",
      " [0 0 0 1 0]\n",
      " [0 0 0 0 1]]\n",
      "[[ 2  3  1  0  5]\n",
      " [ 0  1  0  3  2]\n",
      " [ 0  0  2  2  1]\n",
      " [ 0  3  0  1  0]\n",
      " [23  0  2  1  0]]\n",
      "[[ 3  3  1  0  5]\n",
      " [ 0  2  0  3  2]\n",
      " [ 0  0  3  2  1]\n",
      " [ 0  3  0  2  0]\n",
      " [23  0  2  1  1]]\n"
     ]
    }
   ],
   "source": [
    "# Összeadás\n",
    "a = np.matrix(a_)\n",
    "b = np.matrix(b_)\n",
    "\n",
    "print(a)\n",
    "print(b)\n",
    "print(a+b)"
   ]
  },
  {
   "cell_type": "code",
   "execution_count": 29,
   "id": "2e9e1138-382b-4d20-bb11-808a1f2cf763",
   "metadata": {},
   "outputs": [
    {
     "name": "stdout",
     "output_type": "stream",
     "text": [
      "[[ 2  3  1  0  5]\n",
      " [ 0  1  0  3  2]\n",
      " [ 0  0  2  2  1]\n",
      " [ 0  3  0  1  0]\n",
      " [23  0  2  1  0]]\n",
      "[[1 0 0 0 0]\n",
      " [0 1 0 0 0]\n",
      " [0 0 1 0 0]\n",
      " [0 0 0 1 0]\n",
      " [0 0 0 0 1]]\n",
      "[[ 1  3  1  0  5]\n",
      " [ 0  0  0  3  2]\n",
      " [ 0  0  1  2  1]\n",
      " [ 0  3  0  0  0]\n",
      " [23  0  2  1 -1]]\n"
     ]
    }
   ],
   "source": [
    "# Kivonás\n",
    "a = np.matrix(a_)\n",
    "b = np.matrix(b_)\n",
    "\n",
    "print(b)\n",
    "print(a)\n",
    "print(b-a)"
   ]
  },
  {
   "cell_type": "code",
   "execution_count": 30,
   "id": "3866eba5-2c25-4ba9-846c-6692193bf339",
   "metadata": {},
   "outputs": [
    {
     "name": "stdout",
     "output_type": "stream",
     "text": [
      "[[3 3 1 2 0]\n",
      " [1 0 0 3 2]\n",
      " [2 0 2 2 1]\n",
      " [5 3 0 3 0]\n",
      " [2 0 2 1 1]]\n",
      "[[ 2  3  1  0  5]\n",
      " [ 0  1  0  3  2]\n",
      " [ 0  0  2  2  1]\n",
      " [ 0  3  0  1  0]\n",
      " [23  0  2  1  0]]\n",
      "[[ 5  6  2  2  5]\n",
      " [ 1  1  0  6  4]\n",
      " [ 2  0  4  4  2]\n",
      " [ 5  6  0  4  0]\n",
      " [25  0  4  2  1]]\n"
     ]
    }
   ],
   "source": [
    "# Szorzás, itt a matematikából ismert mátrix szorzásról van szó, matematikában érdemes utánanézni\n",
    "c = np.matrix(c_)\n",
    "b = np.matrix(b_)\n",
    "\n",
    "print(c)\n",
    "print(b)\n",
    "print(c+b)"
   ]
  },
  {
   "cell_type": "code",
   "execution_count": 31,
   "id": "fb4dd925-0c73-4f7c-90e9-9e61604c1d5e",
   "metadata": {},
   "outputs": [
    {
     "name": "stdout",
     "output_type": "stream",
     "text": [
      "[[1 0 0 0 0]\n",
      " [0 1 0 0 0]\n",
      " [0 0 1 0 0]\n",
      " [0 0 0 1 0]\n",
      " [0 0 0 0 1]]\n",
      "[[2 1 1 1 1]\n",
      " [1 2 1 1 1]\n",
      " [1 1 2 1 1]\n",
      " [1 1 1 2 1]\n",
      " [1 1 1 1 2]]\n"
     ]
    }
   ],
   "source": [
    "# Minden érték növelése egy számmal\n",
    "a = np.matrix(a_)\n",
    "print(a)\n",
    "print(a+1)"
   ]
  },
  {
   "cell_type": "code",
   "execution_count": 32,
   "id": "a4530392-41bb-447b-af65-1abfa83ad5f3",
   "metadata": {},
   "outputs": [
    {
     "name": "stdout",
     "output_type": "stream",
     "text": [
      "[[1 0 0 0 0]\n",
      " [0 1 0 0 0]\n",
      " [0 0 1 0 0]\n",
      " [0 0 0 1 0]\n",
      " [0 0 0 0 1]]\n",
      "[[2 0 0 0 0]\n",
      " [0 2 0 0 0]\n",
      " [0 0 2 0 0]\n",
      " [0 0 0 2 0]\n",
      " [0 0 0 0 2]]\n"
     ]
    }
   ],
   "source": [
    "# Minden érték szorzása egy számmal\n",
    "a = np.matrix(a_)\n",
    "print(a)\n",
    "print(2*a)"
   ]
  },
  {
   "cell_type": "markdown",
   "id": "070bdf0e-1b44-4b61-be44-04a3a843091f",
   "metadata": {},
   "source": [
    "___\n",
    "## Indexelés"
   ]
  },
  {
   "cell_type": "code",
   "execution_count": 33,
   "id": "7bcc68ec-6c42-462d-bed8-ab84e0194399",
   "metadata": {},
   "outputs": [
    {
     "data": {
      "text/plain": [
       "matrix([[ 2,  3,  1,  0,  5],\n",
       "        [ 0,  1,  0,  3,  2],\n",
       "        [ 0,  0,  2,  2,  1],\n",
       "        [ 0,  3,  0,  1,  0],\n",
       "        [23,  0,  2,  1,  0]])"
      ]
     },
     "execution_count": 33,
     "metadata": {},
     "output_type": "execute_result"
    }
   ],
   "source": [
    "# Vegyük ezt a mátrixot\n",
    "b = np.matrix(b_)\n",
    "b"
   ]
  },
  {
   "cell_type": "code",
   "execution_count": 51,
   "id": "5b22fe11-7455-461c-b73a-b91dfbe8a83f",
   "metadata": {},
   "outputs": [
    {
     "name": "stdout",
     "output_type": "stream",
     "text": [
      "[[ 2  3  1  0  5]\n",
      " [ 0  1  0  3  2]\n",
      " [ 0  0  2  2  1]\n",
      " [ 0  3  0  1  0]\n",
      " [23  0  2  1  0]]\n"
     ]
    },
    {
     "data": {
      "text/plain": [
       "matrix([[23,  0,  2,  1,  0]])"
      ]
     },
     "execution_count": 51,
     "metadata": {},
     "output_type": "execute_result"
    }
   ],
   "source": [
    "# Ahogy a kiírt struktúra is mutatja, ha simán egy indexet használunk, akkor a sort kapjuk vissza\n",
    "print(b)\n",
    "b[0]"
   ]
  },
  {
   "cell_type": "code",
   "execution_count": 52,
   "id": "a66a3dfb",
   "metadata": {},
   "outputs": [
    {
     "name": "stdout",
     "output_type": "stream",
     "text": [
      "[[ 2  3  1  0  5]\n",
      " [ 0  1  0  3  2]\n",
      " [ 0  0  2  2  1]\n",
      " [ 0  3  0  1  0]\n",
      " [23  0  2  1  0]]\n"
     ]
    },
    {
     "data": {
      "text/plain": [
       "matrix([[0, 3, 0, 1, 0]])"
      ]
     },
     "execution_count": 52,
     "metadata": {},
     "output_type": "execute_result"
    }
   ],
   "source": [
    "# Itt is működik a negatív indexelés\n",
    "print(b)\n",
    "b[-2]"
   ]
  },
  {
   "cell_type": "code",
   "execution_count": 45,
   "id": "7c226d20-962f-46d4-9c0b-4bf4a94b51fc",
   "metadata": {},
   "outputs": [
    {
     "name": "stdout",
     "output_type": "stream",
     "text": [
      "[[ 2  3  1  0  5]\n",
      " [ 0  1  0  3  2]\n",
      " [ 0  0  2  2  1]\n",
      " [ 0  3  0  1  0]\n",
      " [23  0  2  1  0]]\n",
      "[[2 3 1 0 5]]\n"
     ]
    }
   ],
   "source": [
    "# Ezt követően arra gondolnánk, hogy tovább tudjuk indexelni\n",
    "# Viszont ha jobban megnézzük, látszik, hogy egy mátrix a visszatérési értékünk\n",
    "# Tehát a megszokott indexelés, amit listáknál használnánk nem fog működni, mert egy 1 soros mátrixnak az első sorát kapjuk vissza\n",
    "print(b)\n",
    "print(b[0][0])"
   ]
  },
  {
   "cell_type": "code",
   "execution_count": 43,
   "id": "c4d03ed1-5d96-4cae-8ffd-27c87f9135e1",
   "metadata": {},
   "outputs": [
    {
     "name": "stdout",
     "output_type": "stream",
     "text": [
      "[[ 2  3  1  0  5]\n",
      " [ 0  1  0  3  2]\n",
      " [ 0  0  2  2  1]\n",
      " [ 0  3  0  1  0]\n",
      " [23  0  2  1  0]]\n"
     ]
    },
    {
     "data": {
      "text/plain": [
       "2"
      ]
     },
     "execution_count": 43,
     "metadata": {},
     "output_type": "execute_result"
    }
   ],
   "source": [
    "# Ehelyett ,-vel elválasztva kell beírni az indexeket\n",
    "print(b)\n",
    "b[0,0]"
   ]
  },
  {
   "cell_type": "code",
   "execution_count": 46,
   "id": "b50260f1-9dab-4884-b614-fcf5076b1a6d",
   "metadata": {},
   "outputs": [
    {
     "name": "stdout",
     "output_type": "stream",
     "text": [
      "[[ 2  3  1  0  5]\n",
      " [ 0  1  0  3  2]\n",
      " [ 0  0  2  2  1]\n",
      " [ 0  3  0  1  0]\n",
      " [23  0  2  1  0]]\n"
     ]
    },
    {
     "data": {
      "text/plain": [
       "matrix([[0, 1, 0, 3, 2],\n",
       "        [0, 0, 2, 2, 1]])"
      ]
     },
     "execution_count": 46,
     "metadata": {},
     "output_type": "execute_result"
    }
   ],
   "source": [
    "# Ha egy intervallumot szeretnénk kiemelni, azt a :-tal tudjuk megtenni\n",
    "# Az első index itt is a sorokra vonatkozik\n",
    "print(b)\n",
    "b[1:3]\n",
    "\n"
   ]
  },
  {
   "cell_type": "code",
   "execution_count": 47,
   "id": "b6cb3a07-09d9-4b05-b87e-7d22edd1be83",
   "metadata": {},
   "outputs": [
    {
     "name": "stdout",
     "output_type": "stream",
     "text": [
      "[[ 2  3  1  0  5]\n",
      " [ 0  1  0  3  2]\n",
      " [ 0  0  2  2  1]\n",
      " [ 0  3  0  1  0]\n",
      " [23  0  2  1  0]]\n"
     ]
    },
    {
     "data": {
      "text/plain": [
       "matrix([[2, 3, 1, 0, 5],\n",
       "        [0, 1, 0, 3, 2],\n",
       "        [0, 0, 2, 2, 1]])"
      ]
     },
     "execution_count": 47,
     "metadata": {},
     "output_type": "execute_result"
    }
   ],
   "source": [
    "# A listákhoz hasonlóan mödik a tól-ig egyik érték üresen hagyása\n",
    "print(b)\n",
    "b[:3]"
   ]
  },
  {
   "cell_type": "code",
   "execution_count": 48,
   "id": "53907cc7-7762-4861-bcb6-da8569a14689",
   "metadata": {},
   "outputs": [
    {
     "name": "stdout",
     "output_type": "stream",
     "text": [
      "[[ 2  3  1  0  5]\n",
      " [ 0  1  0  3  2]\n",
      " [ 0  0  2  2  1]\n",
      " [ 0  3  0  1  0]\n",
      " [23  0  2  1  0]]\n"
     ]
    },
    {
     "data": {
      "text/plain": [
       "matrix([[1, 0]])"
      ]
     },
     "execution_count": 48,
     "metadata": {},
     "output_type": "execute_result"
    }
   ],
   "source": [
    "# Ha a soron belül szeretnénk tól-ig intervallumot meghatározni, azt a vessző után a megszokott módon tudjuk megtenni\n",
    "print(b)\n",
    "b[1,1:3]"
   ]
  },
  {
   "cell_type": "code",
   "execution_count": 50,
   "id": "0f0d14fd",
   "metadata": {},
   "outputs": [
    {
     "name": "stdout",
     "output_type": "stream",
     "text": [
      "[[ 2  3  1  0  5]\n",
      " [ 0  1  0  3  2]\n",
      " [ 0  0  2  2  1]\n",
      " [ 0  3  0  1  0]\n",
      " [23  0  2  1  0]]\n"
     ]
    },
    {
     "data": {
      "text/plain": [
       "matrix([[1, 0, 3],\n",
       "        [0, 2, 2],\n",
       "        [3, 0, 1]])"
      ]
     },
     "execution_count": 50,
     "metadata": {},
     "output_type": "execute_result"
    }
   ],
   "source": [
    "# Ha egy 3*3-as részmátrixra van szükségünk, akkor azt egyszerűen mindkét érték intervallumként megadásával tudjuk megadni\n",
    "print(b)\n",
    "b[1:4, 1:4]"
   ]
  },
  {
   "cell_type": "code",
   "execution_count": 53,
   "id": "d1c9b60d",
   "metadata": {},
   "outputs": [
    {
     "name": "stdout",
     "output_type": "stream",
     "text": [
      "[[ 2  3  1  0  5]\n",
      " [ 0  1  0  3  2]\n",
      " [ 0  0  2  2  1]\n",
      " [ 0  3  0  1  0]\n",
      " [23  0  2  1  0]]\n"
     ]
    },
    {
     "data": {
      "text/plain": [
       "matrix([[0],\n",
       "        [3],\n",
       "        [2],\n",
       "        [1],\n",
       "        [1]])"
      ]
     },
     "execution_count": 53,
     "metadata": {},
     "output_type": "execute_result"
    }
   ],
   "source": [
    "# És itt jön be az oszlop visszakapása\n",
    "# Ha az első értékre csak :-ot írunk, az azt jelenti, hogy az összes értéket kérjük\n",
    "# Tehát a következő megoldás azt jelenti, hogy az összes sor 3. elemét kérjük le\n",
    "# Kicsit furcsán néz ki, de higgyétek el, ezt szeretnénk, és a következő pontban mutatom is, miért\n",
    "print(b)\n",
    "b[:,3]"
   ]
  },
  {
   "cell_type": "markdown",
   "id": "30e0e70e",
   "metadata": {},
   "source": [
    "## Oszlopműveletek\n",
    "Mire is jó ez a rengeteg eddigi szenvedés?<br />\n",
    "Oszlopot, sort is kényelmesen tudunk változtatni, amit 2D listával nem tudunk megtenni<br /> \n",
    "Nézzük is ez mit jelent<br /> \n",
    "<br /> \n",
    "Ha megnézzük az előző pontban a visszatérési értékek mindig mátrixok voltak<br /> \n",
    "Ez annyit tesz, hogy minden művelet végezhető a részmátrixra is, ami a teljesre működött"
   ]
  },
  {
   "cell_type": "code",
   "execution_count": 61,
   "id": "771454a8",
   "metadata": {},
   "outputs": [
    {
     "name": "stdout",
     "output_type": "stream",
     "text": [
      "[[ 2  3  1  0  5]\n",
      " [ 0  1  0  3  2]\n",
      " [ 0  0  2  2  1]\n",
      " [ 0  3  0  1  0]\n",
      " [23  0  2  1  0]]\n"
     ]
    },
    {
     "data": {
      "text/plain": [
       "matrix([[ 2,  3,  1,  0,  5],\n",
       "        [ 0,  1,  0,  3,  2],\n",
       "        [ 0,  0,  4,  4,  2],\n",
       "        [ 0,  3,  0,  1,  0],\n",
       "        [23,  0,  2,  1,  0]])"
      ]
     },
     "execution_count": 61,
     "metadata": {},
     "output_type": "execute_result"
    }
   ],
   "source": [
    "# Nézzük is, hogyan tudunk egy sort szorozni kettővel\n",
    "b = np.matrix(b_)\n",
    "print(b)\n",
    "b[2]=2*b[2]\n",
    "b"
   ]
  },
  {
   "cell_type": "code",
   "execution_count": 63,
   "id": "95111750",
   "metadata": {},
   "outputs": [
    {
     "name": "stdout",
     "output_type": "stream",
     "text": [
      "[[ 2  3  1  0  5]\n",
      " [ 0  1  0  3  2]\n",
      " [ 0  0  2  2  1]\n",
      " [ 0  3  0  1  0]\n",
      " [23  0  2  1  0]]\n"
     ]
    },
    {
     "data": {
      "text/plain": [
       "matrix([[ 2,  3,  0,  1,  5],\n",
       "        [ 0,  1,  3,  0,  2],\n",
       "        [ 0,  0,  2,  2,  1],\n",
       "        [ 0,  3,  1,  0,  0],\n",
       "        [23,  0,  1,  2,  0]])"
      ]
     },
     "execution_count": 63,
     "metadata": {},
     "output_type": "execute_result"
    }
   ],
   "source": [
    "# Ha egy oszlopot le szeretnénk cserélni, egy másik oszloppal\n",
    "\n",
    "b = np.matrix(b_)\n",
    "print(b)\n",
    "# Ehhez használok egy plussz változót, ami tárolja az egyik oszlopot, amíg a másikat másolom\n",
    "tmp = b[:,2].copy()\n",
    "b[:,2] = b[:,3]\n",
    "b[:,3] = tmp\n",
    "b"
   ]
  },
  {
   "cell_type": "code",
   "execution_count": 69,
   "id": "29bf6f22",
   "metadata": {},
   "outputs": [
    {
     "name": "stdout",
     "output_type": "stream",
     "text": [
      "[[ 2  3  1  0  5]\n",
      " [ 0  1  0  3  2]\n",
      " [ 0  0  2  2  1]\n",
      " [ 0  3  0  1  0]\n",
      " [23  0  2  1  0]]\n",
      "[[ 2  3  1  0  5]\n",
      " [ 0  1  0  3  2]\n",
      " [ 0  0  2  2  1]\n",
      " [ 0  3  0  1  0]\n",
      " [23  0  2  1  0]]\n",
      "[[ 2  3  0  0  5]\n",
      " [ 0  1  3  3  2]\n",
      " [ 0  0  2  2  1]\n",
      " [ 0  3  1  1  0]\n",
      " [23  0  1  1  0]]\n",
      "[[ 2  3  0  0  5]\n",
      " [ 0  1  3  3  2]\n",
      " [ 0  0  2  2  1]\n",
      " [ 0  3  1  1  0]\n",
      " [23  0  1  1  0]]\n"
     ]
    },
    {
     "data": {
      "text/plain": [
       "matrix([[ 2,  3, -1,  0,  5],\n",
       "        [ 0,  1,  3,  3,  2],\n",
       "        [ 0,  0,  2,  2,  1],\n",
       "        [ 0,  3,  1,  1,  0],\n",
       "        [23,  0,  1,  1,  0]])"
      ]
     },
     "execution_count": 69,
     "metadata": {},
     "output_type": "execute_result"
    }
   ],
   "source": [
    "# Ha nem figyelnénk a copy-ra akkor a tmp egy olyan változó lenne, ami a 2. indexen lévő oszlopra mutatna\n",
    "b = np.matrix(b_)\n",
    "print(b)\n",
    "# Tehát amikor ezzel egyenlővé tesszük a másik oszlopot, ugyanarra az adatra lesz rákötve két oszlop\n",
    "tmp = b[:,2]\n",
    "print(b)\n",
    "# Amikor felülírjuk az első értéket minden jónak tűnik\n",
    "b[:,2] = b[:,3]\n",
    "print(b)\n",
    "# Viszont a tmp-ből is az új b[:,2] értékeket fogjuk tudni kiolvasni\n",
    "b[:,3] = tmp\n",
    "print(b)"
   ]
  }
 ],
 "metadata": {
  "kernelspec": {
   "display_name": "Python 3 (ipykernel)",
   "language": "python",
   "name": "python3"
  },
  "language_info": {
   "codemirror_mode": {
    "name": "ipython",
    "version": 3
   },
   "file_extension": ".py",
   "mimetype": "text/x-python",
   "name": "python",
   "nbconvert_exporter": "python",
   "pygments_lexer": "ipython3",
   "version": "3.10.4"
  }
 },
 "nbformat": 4,
 "nbformat_minor": 5
}
