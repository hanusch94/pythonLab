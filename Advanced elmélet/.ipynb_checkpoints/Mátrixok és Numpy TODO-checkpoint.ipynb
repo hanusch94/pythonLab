{
 "cells": [
  {
   "cell_type": "markdown",
   "id": "cd985a36-6b18-4a4e-bfd7-18417c67415a",
   "metadata": {},
   "source": [
    "# Numpy, Mátrixok\n",
    "Ez előtt a téma előtt érdemes a szintaktikában eljutni a Ciklusok tananyagig"
   ]
  },
  {
   "cell_type": "markdown",
   "id": "d47fe400-4149-490f-857b-2fd5cfb7c977",
   "metadata": {},
   "source": [
    "## Mátrixok"
   ]
  },
  {
   "cell_type": "code",
   "execution_count": 7,
   "id": "26770be1-b392-425c-a57b-93dd77e81061",
   "metadata": {},
   "outputs": [
    {
     "name": "stdout",
     "output_type": "stream",
     "text": [
      "[1, 0, 0, 0, 0]\n",
      "[0, 1, 0, 0, 0]\n",
      "[0, 0, 1, 0, 0]\n",
      "[0, 0, 0, 1, 0]\n"
     ]
    }
   ],
   "source": [
    "# Egy mátrix az listák listája\n",
    "# Még hozzá szabályos, tehát minden sorban ugyanannyi elem kell, hogy legyen\n",
    "\n",
    "a = [[1,0,0,0,0],\n",
    "     [0,1,0,0,0],\n",
    "     [0,0,1,0,0],\n",
    "     [0,0,0,1,0]]\n",
    "for lm in a:\n",
    "    print(lm)"
   ]
  },
  {
   "cell_type": "code",
   "execution_count": 8,
   "id": "c9047fce-f40a-4b81-85df-934a47416e3d",
   "metadata": {},
   "outputs": [
    {
     "name": "stdout",
     "output_type": "stream",
     "text": [
      "[[1, 1, 1], [1, 0, 1], [1, 1, 1]]\n",
      "[[1, 0, 1], [0, 0, 0], [1, 0, 1]]\n",
      "[[1, 1, 1], [1, 0, 1], [1, 1, 1]]\n"
     ]
    }
   ],
   "source": [
    "# Amikor egy mátrix dimenzióiról beszélünk, akkor azt mondjuk meg, hány lista van egymásba ágyazva\n",
    "# Az előző példában 2D listáról beszéltünk, mert van szélessége, magassága\n",
    "# A 3D listában 3 szintre megyünk a listában\n",
    "\n",
    "a = [[[1,1,1], [1,0,1], [1,1,1]],\n",
    "     [[1,0,1], [0,0,0], [1,0,1]],\n",
    "     [[1,1,1], [1,0,1], [1,1,1]]]\n",
    "for lm in a:\n",
    "    print(lm)"
   ]
  },
  {
   "cell_type": "markdown",
   "id": "511c6e57-9fa9-4580-b16e-ee531d66cb5e",
   "metadata": {},
   "source": [
    "___\n",
    "# Numpy\n",
    "## Létrehozás"
   ]
  },
  {
   "cell_type": "code",
   "execution_count": 11,
   "id": "e6a19226-607f-4a60-9ddb-05167cd89ccc",
   "metadata": {},
   "outputs": [],
   "source": [
    "import numpy as np\n",
    "# A numpy fő célja a nagy mennyiségű adat kezelése\n",
    "# Ez gyakorlatilag egy olyan tömb, amin kényelmesen lehet műveleteket végezni\n",
    "a_ = [[1,0,0,0,0],\n",
    "     [0,1,0,0,0],\n",
    "     [0,0,1,0,0],\n",
    "     [0,0,0,1,0],\n",
    "     [0,0,0,0,1]]\n",
    "b_ = [[2,3,1,0,5],\n",
    "     [0,1,0,3,2],\n",
    "     [0,0,2,2,1],\n",
    "     [0,3,0,1,0],\n",
    "     [23,0,2,1,0]]\n",
    "c_ = [[3,3,1,2,0],\n",
    "     [1,0,0,3,2],\n",
    "     [2,0,2,2,1],\n",
    "     [5,3,0,3,0],\n",
    "     [2,0,2,1,1]]"
   ]
  },
  {
   "cell_type": "code",
   "execution_count": 18,
   "id": "8389320d-e952-43f8-bbac-4856e9041951",
   "metadata": {},
   "outputs": [
    {
     "name": "stdout",
     "output_type": "stream",
     "text": [
      "[[1 0 0 0 0]\n",
      " [0 1 0 0 0]\n",
      " [0 0 1 0 0]\n",
      " [0 0 0 1 0]\n",
      " [0 0 0 0 1]]\n",
      "<class 'numpy.matrix'>\n",
      "int32\n"
     ]
    },
    {
     "data": {
      "text/plain": [
       "matrix([[1, 0, 0, 0, 0],\n",
       "        [0, 1, 0, 0, 0],\n",
       "        [0, 0, 1, 0, 0],\n",
       "        [0, 0, 0, 1, 0],\n",
       "        [0, 0, 0, 0, 1]])"
      ]
     },
     "execution_count": 18,
     "metadata": {},
     "output_type": "execute_result"
    }
   ],
   "source": [
    "# Ahhoz, hogy egy mátrixot tudjunk numpyban kezelni, a matrix() függvénybe kell beadni az listába ágyazott listát\n",
    "\n",
    "a = np.matrix(a_)\n",
    "print(a)\n",
    "print(type(a))\n",
    "print(a.dtype)\n",
    "a"
   ]
  },
  {
   "cell_type": "code",
   "execution_count": 32,
   "id": "acdcb507-64ec-4d09-ad94-8b72ae1254ed",
   "metadata": {},
   "outputs": [
    {
     "name": "stdout",
     "output_type": "stream",
     "text": [
      "[[0 0 0 0]\n",
      " [0 0 0 0]\n",
      " [0 0 0 0]\n",
      " [0 0 0 0]]\n",
      "[[1 1 1 1]\n",
      " [1 1 1 1]\n",
      " [1 1 1 1]\n",
      " [1 1 1 1]]\n",
      "[[0.84118551 0.94809942 0.59219834 0.47934283]\n",
      " [0.17987132 0.68046856 0.19499946 0.51368951]\n",
      " [0.40824863 0.46040092 0.07408543 0.58384598]\n",
      " [0.2962812  0.76440167 0.69648809 0.74503649]]\n",
      "[[1 0 0 0]\n",
      " [0 1 0 0]\n",
      " [0 0 1 0]\n",
      " [0 0 0 1]]\n"
     ]
    }
   ],
   "source": [
    "# Ha egy típikus mátrixot szeretnénk létrehozni, akkor vannak alap mátrixok, amik legenerálhatók\n",
    "\n",
    "# 4*4-es 0-kból álló mátrix\n",
    "print(np.zeros((4,4), dtype=\"int32\"))\n",
    "# 4*4-es 1-ekből álló mátrix\n",
    "print(np.ones((4,4), dtype=\"int32\"))\n",
    "# 4*4-es véletlen számokat generáló mátrix (minx: 0, max:1)\n",
    "print(np.random.rand(4,4))\n",
    "# Egységmátrix (Erről minimálisan lesz szó később, mátrixelmélettel érdemes foglalkozni, ha valakit éredekel a téma)\n",
    "print(np.diag([1,1,1,1]))"
   ]
  },
  {
   "cell_type": "markdown",
   "id": "2f29d4fb-b0f5-456b-855b-f28369666e35",
   "metadata": {},
   "source": [
    "___\n",
    "## Műveletek\n",
    "Valójában a tényleges értéke an umpynak most következik.\\n\n",
    "Olyan műveleteket tudunk végezni numpy mátrixokon, amit sima tömbökkel nem tudnánk"
   ]
  },
  {
   "cell_type": "code",
   "execution_count": 35,
   "id": "4adfc473-2fe9-484d-bf52-1205684eabb3",
   "metadata": {},
   "outputs": [
    {
     "name": "stdout",
     "output_type": "stream",
     "text": [
      "[[1 0 0 0 0]\n",
      " [0 1 0 0 0]\n",
      " [0 0 1 0 0]\n",
      " [0 0 0 1 0]\n",
      " [0 0 0 0 1]]\n",
      "[[ 2  3  1  0  5]\n",
      " [ 0  1  0  3  2]\n",
      " [ 0  0  2  2  1]\n",
      " [ 0  3  0  1  0]\n",
      " [23  0  2  1  0]]\n",
      "[[ 3  3  1  0  5]\n",
      " [ 0  2  0  3  2]\n",
      " [ 0  0  3  2  1]\n",
      " [ 0  3  0  2  0]\n",
      " [23  0  2  1  1]]\n"
     ]
    }
   ],
   "source": [
    "# Összeadás\n",
    "a = np.matrix(a_)\n",
    "b = np.matrix(b_)\n",
    "\n",
    "print(a)\n",
    "print(b)\n",
    "print(a+b)"
   ]
  },
  {
   "cell_type": "code",
   "execution_count": 40,
   "id": "2e9e1138-382b-4d20-bb11-808a1f2cf763",
   "metadata": {},
   "outputs": [
    {
     "name": "stdout",
     "output_type": "stream",
     "text": [
      "[[ 2  3  1  0  5]\n",
      " [ 0  1  0  3  2]\n",
      " [ 0  0  2  2  1]\n",
      " [ 0  3  0  1  0]\n",
      " [23  0  2  1  0]]\n",
      "[[1 0 0 0 0]\n",
      " [0 1 0 0 0]\n",
      " [0 0 1 0 0]\n",
      " [0 0 0 1 0]\n",
      " [0 0 0 0 1]]\n",
      "[[ 1  3  1  0  5]\n",
      " [ 0  0  0  3  2]\n",
      " [ 0  0  1  2  1]\n",
      " [ 0  3  0  0  0]\n",
      " [23  0  2  1 -1]]\n"
     ]
    }
   ],
   "source": [
    "# Kivonás\n",
    "a = np.matrix(a_)\n",
    "b = np.matrix(b_)\n",
    "\n",
    "print(b)\n",
    "print(a)\n",
    "print(b-a)"
   ]
  },
  {
   "cell_type": "code",
   "execution_count": 36,
   "id": "3866eba5-2c25-4ba9-846c-6692193bf339",
   "metadata": {},
   "outputs": [
    {
     "name": "stdout",
     "output_type": "stream",
     "text": [
      "[[3 3 1 2 0]\n",
      " [1 0 0 3 2]\n",
      " [2 0 2 2 1]\n",
      " [5 3 0 3 0]\n",
      " [2 0 2 1 1]]\n",
      "[[ 2  3  1  0  5]\n",
      " [ 0  1  0  3  2]\n",
      " [ 0  0  2  2  1]\n",
      " [ 0  3  0  1  0]\n",
      " [23  0  2  1  0]]\n",
      "[[ 5  6  2  2  5]\n",
      " [ 1  1  0  6  4]\n",
      " [ 2  0  4  4  2]\n",
      " [ 5  6  0  4  0]\n",
      " [25  0  4  2  1]]\n"
     ]
    }
   ],
   "source": [
    "# Szorzás, itt a matematikából ismert mátrix szorzásról van szó, matematikában érdemes utánanézni\n",
    "c = np.matrix(c_)\n",
    "b = np.matrix(b_)\n",
    "\n",
    "print(c)\n",
    "print(b)\n",
    "print(c+b)"
   ]
  },
  {
   "cell_type": "code",
   "execution_count": 43,
   "id": "fb4dd925-0c73-4f7c-90e9-9e61604c1d5e",
   "metadata": {},
   "outputs": [
    {
     "name": "stdout",
     "output_type": "stream",
     "text": [
      "[[1 0 0 0 0]\n",
      " [0 1 0 0 0]\n",
      " [0 0 1 0 0]\n",
      " [0 0 0 1 0]\n",
      " [0 0 0 0 1]]\n",
      "[[2 1 1 1 1]\n",
      " [1 2 1 1 1]\n",
      " [1 1 2 1 1]\n",
      " [1 1 1 2 1]\n",
      " [1 1 1 1 2]]\n"
     ]
    }
   ],
   "source": [
    "# Minden érték növelése egy számmal\n",
    "a = np.matrix(a_)\n",
    "print(a)\n",
    "print(a+1)"
   ]
  },
  {
   "cell_type": "code",
   "execution_count": 45,
   "id": "a4530392-41bb-447b-af65-1abfa83ad5f3",
   "metadata": {},
   "outputs": [
    {
     "name": "stdout",
     "output_type": "stream",
     "text": [
      "[[1 0 0 0 0]\n",
      " [0 1 0 0 0]\n",
      " [0 0 1 0 0]\n",
      " [0 0 0 1 0]\n",
      " [0 0 0 0 1]]\n",
      "[[2 0 0 0 0]\n",
      " [0 2 0 0 0]\n",
      " [0 0 2 0 0]\n",
      " [0 0 0 2 0]\n",
      " [0 0 0 0 2]]\n"
     ]
    }
   ],
   "source": [
    "# Minden érték szorzása egy számmal\n",
    "a = np.matrix(a_)\n",
    "print(a)\n",
    "print(2*a)"
   ]
  },
  {
   "cell_type": "code",
   "execution_count": null,
   "id": "47a409db-edb4-4140-b010-6da96c2b0b2c",
   "metadata": {},
   "outputs": [],
   "source": []
  },
  {
   "cell_type": "code",
   "execution_count": null,
   "id": "7bcc68ec-6c42-462d-bed8-ab84e0194399",
   "metadata": {},
   "outputs": [],
   "source": []
  },
  {
   "cell_type": "code",
   "execution_count": null,
   "id": "5b22fe11-7455-461c-b73a-b91dfbe8a83f",
   "metadata": {},
   "outputs": [],
   "source": []
  },
  {
   "cell_type": "code",
   "execution_count": null,
   "id": "7c226d20-962f-46d4-9c0b-4bf4a94b51fc",
   "metadata": {},
   "outputs": [],
   "source": []
  },
  {
   "cell_type": "code",
   "execution_count": null,
   "id": "c4d03ed1-5d96-4cae-8ffd-27c87f9135e1",
   "metadata": {},
   "outputs": [],
   "source": []
  },
  {
   "cell_type": "code",
   "execution_count": null,
   "id": "b50260f1-9dab-4884-b614-fcf5076b1a6d",
   "metadata": {},
   "outputs": [],
   "source": []
  },
  {
   "cell_type": "code",
   "execution_count": null,
   "id": "b6cb3a07-09d9-4b05-b87e-7d22edd1be83",
   "metadata": {},
   "outputs": [],
   "source": []
  },
  {
   "cell_type": "code",
   "execution_count": null,
   "id": "53907cc7-7762-4861-bcb6-da8569a14689",
   "metadata": {},
   "outputs": [],
   "source": []
  }
 ],
 "metadata": {
  "kernelspec": {
   "display_name": "Python 3 (ipykernel)",
   "language": "python",
   "name": "python3"
  },
  "language_info": {
   "codemirror_mode": {
    "name": "ipython",
    "version": 3
   },
   "file_extension": ".py",
   "mimetype": "text/x-python",
   "name": "python",
   "nbconvert_exporter": "python",
   "pygments_lexer": "ipython3",
   "version": "3.9.7"
  }
 },
 "nbformat": 4,
 "nbformat_minor": 5
}
