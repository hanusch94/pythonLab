{
 "cells": [
  {
   "cell_type": "markdown",
   "id": "62d8e955-6c7d-4f83-a38a-7506bec20359",
   "metadata": {},
   "source": [
    "Képfeldolgozás\n",
    "A képfeldolgozás pythonban alapvetően a kép pixelenkénti kezelése.<br/>\n",
    "Ajánlott olvasmányok mielőtt elkezdi valaki a témát:<br/>\n",
    "- Python Syntax (0-09)\n",
    "- Advanced/Mátrixok és Numpy"
   ]
  },
  {
   "cell_type": "code",
   "execution_count": 6,
   "id": "f7318391",
   "metadata": {},
   "outputs": [],
   "source": [
    "# Mielőtt bármit elkezdtünk, csináljunk egy függvényt, ami megkönnyíti a fájlok útvonalának megadását\n",
    "# Így elég lesz a fájl nevét megadni, és automatikusan a megfelelő mappában fogunk dolgozni\n",
    "# Ezt a sort le kell futtatnunk, hogy a fájlkezeléses sorok le tudjanak futni\n",
    "def getPath(fajlnev):\n",
    "    return \"src\\\\Kepfeldolgozas\\\\\"+fajlnev\n",
    "\n",
    "\n",
    "# A mátrix műveletekhez a numpy-t fogjuk használni\n",
    "import numpy as np\n",
    "# A képek kezeléséhez az skimage-et fogjuk használni\n",
    "# Ha ez még nincs telepítve, akkor a command prompt-ba (cmd) írjuk be a következő parancsot\n",
    "    # pip install scikit-image\n",
    "import skimage as smg\n",
    "# Ezen kívül a képek kirajzolásához a matplotlib-et fogjuk használni\n",
    "# Ha ez még nincs telepítve, akkor a command prompt-ba (cmd) írjuk be a következő parancsot\n",
    "    # pip install matplotlib\n",
    "import matplotlib as plt"
   ]
  },
  {
   "cell_type": "markdown",
   "id": "2189983f",
   "metadata": {},
   "source": [
    "## Digitális képek\n",
    "Egy képet a számítógép képpontok mátrixaként lát. <br/>\n",
    "A kép kódolásától függ, hogy hány érték tartozik egy pixelhez. <br/>\n",
    "Minden kódolásnak megvan a saját jelölése pythonban:\n",
    "- bit/pixel (vagy fekete, vagy fehér) -> \n",
    "- \n"
   ]
  },
  {
   "cell_type": "code",
   "execution_count": null,
   "id": "c66dcad9",
   "metadata": {},
   "outputs": [],
   "source": []
  },
  {
   "cell_type": "code",
   "execution_count": null,
   "id": "dccd6665",
   "metadata": {},
   "outputs": [],
   "source": []
  },
  {
   "cell_type": "code",
   "execution_count": null,
   "id": "3e1669eb",
   "metadata": {},
   "outputs": [],
   "source": []
  },
  {
   "cell_type": "code",
   "execution_count": null,
   "id": "e30c949a",
   "metadata": {},
   "outputs": [],
   "source": []
  },
  {
   "cell_type": "code",
   "execution_count": null,
   "id": "74fac1e0",
   "metadata": {},
   "outputs": [],
   "source": []
  },
  {
   "cell_type": "code",
   "execution_count": null,
   "id": "6d3e01b4",
   "metadata": {},
   "outputs": [],
   "source": []
  }
 ],
 "metadata": {
  "interpreter": {
   "hash": "cdd33eb7a732f8bbc22e26ba9551d320ea5d538e8f030e8b706e9cc2ab241d6b"
  },
  "kernelspec": {
   "display_name": "Python 3.10.4 64-bit",
   "language": "python",
   "name": "python3"
  },
  "language_info": {
   "codemirror_mode": {
    "name": "ipython",
    "version": 3
   },
   "file_extension": ".py",
   "mimetype": "text/x-python",
   "name": "python",
   "nbconvert_exporter": "python",
   "pygments_lexer": "ipython3",
   "version": "3.10.4"
  }
 },
 "nbformat": 4,
 "nbformat_minor": 5
}
