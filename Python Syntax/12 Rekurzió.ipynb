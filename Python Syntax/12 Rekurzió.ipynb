{
 "cells": [
  {
   "cell_type": "markdown",
   "id": "1db63856-39a3-4949-a09d-91fab4cf5f9e",
   "metadata": {},
   "source": [
    "# Rekurzió"
   ]
  },
  {
   "cell_type": "code",
   "execution_count": 6,
   "id": "9879c1eb-3d52-43e3-810f-ddaf31be710b",
   "metadata": {},
   "outputs": [
    {
     "name": "stdout",
     "output_type": "stream",
     "text": [
      "if előtt:  1\n",
      "if előtt:  2\n",
      "if előtt:  3\n",
      "Rekurziv visszatér:  3\n",
      "Rekurziv visszatér:  2\n",
      "az első függvényhívás visszatérése 1\n"
     ]
    }
   ],
   "source": [
    "# Rekurziónak hívjük azt, amikor a függvény önmagát hívja\n",
    "\n",
    "# VÉGTELEN CIKLUS VESZÉLY\n",
    "# Itt is vigyáznunk kell a végtelen ciklussal\n",
    "def rekurzivFuggven(a):\n",
    "    a+=1\n",
    "    print(\"if előtt: \", a)\n",
    "    if(a<3):\n",
    "        b = rekurzivFuggven(a)\n",
    "        print(\"Rekurziv visszatér: \", b)\n",
    "    return a\n",
    "\n",
    "print(\"az első függvényhívás visszatérése\", rekurzivFuggven(0))"
   ]
  },
  {
   "cell_type": "markdown",
   "id": "85aa14f9-0c5c-4e4c-a170-c1c82257a3d9",
   "metadata": {},
   "source": [
    "### A futásnál a következő dolog történik\n",
    "- rekurzivFuggven(0)\n",
    "    - a+=1   //___________________________________________________a=1\n",
    "    - print(\"if előtt: \", a)   //______________________________________Kiír 1\n",
    "    - if(a<3):   //_________________________________________________1<3\n",
    "        - b = rekurzivFuggven(a)   //____________________________Meghívódik a 2. szint\n",
    "            - a+=1   //__________________________________________a=2\n",
    "            - print(\"if előtt: \", a)   // ____________________________Kiír 2\n",
    "            - if(a<3):   //________________________________________2<3\n",
    "                - b = rekurzivFuggven(a)   //__________________Meghívódik a 3. szint\n",
    "                    - a+=1   //________________________________a=3\n",
    "                    - print(\"if előtt: \", a)   //___________________Kiír 3\n",
    "                    - if(a<3):   //_______________________________3<3 (FALSE)\n",
    "                        - b = rekurzivFuggven(a)   //_________NEM FUT LE AZ IF MIATT\n",
    "                        - print(\"Rekurziv visszatér: \", b) //___NEM FUT LE AZ IF MIATT\n",
    "                    - return a   //______________________________Visszaadjuk a saját szintünk értékét (3)\n",
    "                - print(\"Rekurziv visszatér: \", b)   //_____________Kiírjuk a visszatért értéket (3)\n",
    "            - return a   //_________________________________________Visszaadjuk a saját szintünk értékét (2)\n",
    "        - print(\"Rekurziv visszatér: \", b)   //_______________________Kiírjuk a visszatért értéket (2)\n",
    "    - return a   //__________________________________________________Visszaadjuk a saját szintünk értékét\n",
    "- print() //_________________________________________________________A visszartért érték kiíródik (1)"
   ]
  },
  {
   "cell_type": "markdown",
   "id": "f625b6c7-900c-41a7-b77e-174215f3c9a7",
   "metadata": {},
   "source": [
    "___\n",
    "## Python és a rekurzió\n",
    "- Pythonban azért nem célszerű túlságosan komplex dolgokat csinálni, mert a függvény hívás időigényes nagyon eszi az erőforrásokat\n",
    "- A következő kóddal a behivas 2. paraméterével tudjuk állítani, hogy milyen mélységben hívjon rekurzívan a függvényünk\n",
    "- Jupyterben lesz egy szint felett egy hibaüzenet, ami arról szól, hogy a kernel, tehát a környezet, amin fut a kód megadta magát és újraindul"
   ]
  },
  {
   "cell_type": "code",
   "execution_count": 1,
   "id": "a2800292-808a-4369-9f2c-a91181274b59",
   "metadata": {},
   "outputs": [
    {
     "name": "stdout",
     "output_type": "stream",
     "text": [
      "50/500\n",
      "100/500\n",
      "150/500\n",
      "200/500\n",
      "250/500\n",
      "300/500\n",
      "350/500\n",
      "400/500\n",
      "450/500\n",
      "500/500\n"
     ]
    }
   ],
   "source": [
    "def behivas(melyseg, maxMelyseg):\n",
    "    if(melyseg<maxMelyseg):\n",
    "        melyseg+=1\n",
    "        if(not melyseg%50):    # Minden 50. mélységnél írunk ki a képernyőre, hogy látszódjon a futás\n",
    "            print(\"{}/{}\".format(melyseg, maxMelyseg))\n",
    "        behivas(melyseg, maxMelyseg)\n",
    "\n",
    "# A második paraméterrel tudjuk állítani, milyen mélységbe menjünk\n",
    "# Ha elég nagy számot írunk (pl 5000), hibát kapunk\n",
    "# Eredeti sor: behivas(0, 5000)\n",
    "behivas(0, 500)"
   ]
  },
  {
   "cell_type": "markdown",
   "id": "e916e74f-3ad4-4241-b96d-03e7a9e55e4a",
   "metadata": {},
   "source": [
    "___\n",
    "## Akkor mégis hogyan?\n",
    "- A rekurzió gyakorlatilag egy megtekert for ciklus\n",
    "- Nézzünk egy tipikusan rekurzív példát: Fibonacci sor\n",
    "    - A Fibonacci sornak a lényege, hogy a sorozat minden eleme az előző kettő elem összege"
   ]
  },
  {
   "cell_type": "code",
   "execution_count": null,
   "id": "2238ba31-65cb-444b-9303-0b6ef3f756c4",
   "metadata": {},
   "outputs": [],
   "source": [
    "# Nézzük meg először az eredeti megoldást\n",
    "\n",
    "def FibonacciSor(kettővelEzelőtti, előző, HanyadikElemetKerem, AktuálisSorszám):\n",
    "    mostani = kettővelEzelőtti+előző\n",
    "    AktuálisSorszám += 1\n",
    "    if(AktuálisSorszám<HanyadikElemetKerem):\n",
    "        return FibonacciSor(előző, mostani, HanyadikElemetKerem, AktuálisSorszám)\n",
    "    return mostani\n",
    "\n",
    "# A 3. paraméter változtatásával tudjuk megadni, hogy hanyadik elemét szeretnénk kérni a Fibonacci sornak\n",
    "# Ha elég nagy számot adunk meg, ugyanaz a hibe előhozható\n",
    "# Eredeti sor: FibonacciSor(0, 1, 10, 0)\n",
    "FibonacciSor(0, 1, 9999, 0)"
   ]
  },
  {
   "cell_type": "code",
   "execution_count": 1,
   "id": "1df75142-3363-4892-8117-35a231137fa2",
   "metadata": {},
   "outputs": [
    {
     "data": {
      "text/plain": [
       "33644764876431783266621612005107543310302148460680063906564769974680081442166662368155595513633734025582065332680836159373734790483865268263040892463056431887354544369559827491606602099884183933864652731300088830269235673613135117579297437854413752130520504347701602264758318906527890855154366159582987279682987510631200575428783453215515103870818298969791613127856265033195487140214287532698187962046936097879900350962302291026368131493195275630227837628441540360584402572114334961180023091208287046088923962328835461505776583271252546093591128203925285393434620904245248929403901706233888991085841065183173360437470737908552631764325733993712871937587746897479926305837065742830161637408969178426378624212835258112820516370298089332099905707920064367426202389783111470054074998459250360633560933883831923386783056136435351892133279732908133732642652633989763922723407882928177953580570993691049175470808931841056146322338217465637321248226383092103297701648054726243842374862411453093812206564914032751086643394517512161526545361333111314042436854805106765843493523836959653428071768775328348234345557366719731392746273629108210679280784718035329131176778924659089938635459327894523777674406192240337638674004021330343297496902028328145933418826817683893072003634795623117103101291953169794607632737589253530772552375943788434504067715555779056450443016640119462580972216729758615026968443146952034614932291105970676243268515992834709891284706740862008587135016260312071903172086094081298321581077282076353186624611278245537208532365305775956430072517744315051539600905168603220349163222640885248852433158051534849622434848299380905070483482449327453732624567755879089187190803662058009594743150052402532709746995318770724376825907419939632265984147498193609285223945039707165443156421328157688908058783183404917434556270520223564846495196112460268313970975069382648706613264507665074611512677522748621598642530711298441182622661057163515069260029861704945425047491378115154139941550671256271197133252763631939606902895650288268608362241082050562430701794976171121233066073310059947366875"
      ]
     },
     "execution_count": 1,
     "metadata": {},
     "output_type": "execute_result"
    }
   ],
   "source": [
    "# For ciklussal ugyanez\n",
    "\n",
    "def FibonacciSor(kettővelEzelőtti, előző, HanyadikElemetKerem):\n",
    "    mostani = -1\n",
    "    for lm in range(HanyadikElemetKerem):\n",
    "        mostani = kettővelEzelőtti+előző\n",
    "        kettővelEzelőtti = előző\n",
    "        előző = mostani\n",
    "    return mostani\n",
    "\n",
    "# A 3. paraméter változtatásával tudjuk megadni, hogy hanyadik elemét szeretnénk kérni a Fibonacci sornak\n",
    "# Itt akármekkora számot megadhatunk, maximum sokat fog számolni, de mindig kapunk eredményt\n",
    "# Eredeti sor: FibonacciSor(0, 1, 10)\n",
    "FibonacciSor(0, 1, 9999)"
   ]
  },
  {
   "cell_type": "markdown",
   "id": "9d7d6f5d-f6f2-4c60-814c-78aa3dc28aa7",
   "metadata": {},
   "source": [
    "# TANULSÁG\n",
    "- Pythonban kerüljük a Rekurzív hívásokat, mert költséges\n",
    "- Más hardware közelebbi nyelveken pl C, C++ semmi akadálya, mivel ott jóval hatékonyabban fut le a kód "
   ]
  }
 ],
 "metadata": {
  "kernelspec": {
   "display_name": "Python 3 (ipykernel)",
   "language": "python",
   "name": "python3"
  },
  "language_info": {
   "codemirror_mode": {
    "name": "ipython",
    "version": 3
   },
   "file_extension": ".py",
   "mimetype": "text/x-python",
   "name": "python",
   "nbconvert_exporter": "python",
   "pygments_lexer": "ipython3",
   "version": "3.9.7"
  }
 },
 "nbformat": 4,
 "nbformat_minor": 5
}
