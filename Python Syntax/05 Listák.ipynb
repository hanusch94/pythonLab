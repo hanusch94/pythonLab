{
 "cells": [
  {
   "cell_type": "markdown",
   "id": "3250c9ba-cca3-4b66-b1ec-0571376509e3",
   "metadata": {},
   "source": [
    "# Listák"
   ]
  },
  {
   "cell_type": "markdown",
   "id": "833f9bb8-439d-4d7a-842a-76a08e216fd8",
   "metadata": {
    "tags": []
   },
   "source": [
    "## Tömbök\n",
    "Ezek egyszerű listák, amiben bármilyen típusú elemet lehet tárolni"
   ]
  },
  {
   "cell_type": "code",
   "execution_count": 4,
   "id": "59a129d7-955c-4f3e-b23b-2861d8ff75de",
   "metadata": {},
   "outputs": [
    {
     "data": {
      "text/plain": [
       "['alma', 2, True, 54.2]"
      ]
     },
     "execution_count": 4,
     "metadata": {},
     "output_type": "execute_result"
    }
   ],
   "source": [
    "# Értékadáshoz egy [] zárójelben , -vel elválasztva kell megadni az értékeket\n",
    "a = [\"alma\", 2, True, 54.2]\n",
    "a"
   ]
  },
  {
   "cell_type": "code",
   "execution_count": 2,
   "id": "2fe8e188-ba89-4df6-a573-aae357a86360",
   "metadata": {},
   "outputs": [
    {
     "name": "stdout",
     "output_type": "stream",
     "text": [
      "első elem: 1. elem\n",
      "hátulról 2. elem: 4. elem\n",
      "\n",
      "első 3 elem: ['1. elem', '2. elem', '3. elem']\n",
      "utolsó 2 elem: ['4. elem', '5. elem']\n"
     ]
    }
   ],
   "source": [
    "# Egy elemet a következő képp tudjuk visszakérni\n",
    "a = [\"1. elem\", \"2. elem\", \"3. elem\", \"4. elem\", \"5. elem\"]\n",
    "# Az indexelés (sorszámozás) 0-tól kezdődik\n",
    "# Tehát az 1. elemet így tudjuk visszakapni\n",
    "print(\"első elem: \"+a[0])\n",
    "# Pythonban hátulról is tudunk számolni negatív indexeléssel\n",
    "# Itt -1 jelenti hátulról az első elemet, tehát a hátulról második elemet így tudjuk lekérni\n",
    "print(\"hátulról 2. elem: \"+a[-2])\n",
    "\n",
    "# Ha a listának egy részét szeretnénk visszakapni, akkor :-tal tudjuk megadni az intervallumot\n",
    "print(\"\\nelső 3 elem: \"+str(a[0:3]))\n",
    "# Ha az első vagy az utolsó elem is része a részlistának, akkor elhagyható a 0. és a -1 érték\n",
    "print(\"utolsó 2 elem: \"+str(a[-2:]))"
   ]
  },
  {
   "cell_type": "code",
   "execution_count": 3,
   "id": "c0cc9111-4b99-42d0-a4cc-3b1b989c4864",
   "metadata": {},
   "outputs": [
    {
     "name": "stdout",
     "output_type": "stream",
     "text": [
      "előtte: [1, 2, 3, 4]\n",
      "1. elem felülírva 8-ra: [1, 8, 3, 4]\n"
     ]
    }
   ],
   "source": [
    "# Egy elem felülírásához a lista[index] = érték módon tehetjük\n",
    "a = [1, 2, 3, 4]\n",
    "print(\"előtte: \" + str(a))\n",
    "# A lista 1. elemét (2) így tudjuk felül írni\n",
    "a[1] = 8\n",
    "print(\"1. elem felülírva 8-ra: \" + str(a))"
   ]
  },
  {
   "cell_type": "code",
   "execution_count": 4,
   "id": "968b3220-58da-4611-9d2a-b08735ed5339",
   "metadata": {},
   "outputs": [
    {
     "name": "stdout",
     "output_type": "stream",
     "text": [
      "1. és 2. elem felülírva: [1, 11, 12, 4]\n",
      "1. és 2. elem helyett 4 elem beszúrása: [1, 11, 12, 13, 14, 4]\n"
     ]
    }
   ],
   "source": [
    "a = [1, 2, 3, 4]\n",
    "# Ha egy részlistát szeretnénk felülírni, azt is megtehetjük\n",
    "a[1:3] = [11, 12]\n",
    "print(\"1. és 2. elem felülírva: \" + str(a))\n",
    "# Ugyanígy lehet bővíteni a listát\n",
    "a[1:3] = [11, 12, 13, 14]\n",
    "print(\"1. és 2. elem helyett 4 elem beszúrása: \" + str(a))"
   ]
  },
  {
   "cell_type": "code",
   "execution_count": 5,
   "id": "27f2b2ec-a68e-4e31-bf11-a178a9b8a154",
   "metadata": {},
   "outputs": [
    {
     "name": "stdout",
     "output_type": "stream",
     "text": [
      "a[0]:   [1, 2, 3]\n",
      "a[0]:   1\n"
     ]
    }
   ],
   "source": [
    "# Mivel egy listába bármilyen elem beilleszthető, így lista is lehet egy elem\n",
    "a = [[1,2,3],[4,5,6],[7,8,9]]\n",
    "# Ebben az esetben az indexelésnél az a[0]-val visszakapjuk az első tömböt\n",
    "print(\"a[0]:   \" + str(a[0]))\n",
    "# Ezt követően az a[0][0]-val tudjuk kiszedni az első számot, mert az a[0] tömbre hívunk egy indexelést a második [0]-vel\n",
    "print(\"a[0]:   \" + str(a[0][0]))\n",
    "# Amikor egy tömbnek minden eleme egy ugyanannyi elemet tartalmazó lista, akkor egy mátrixról beszélünk\n",
    "# A mátrixokról az elméleti anyagoknál található egy leírás, ami a numpy-t is bemutatja"
   ]
  },
  {
   "cell_type": "code",
   "execution_count": 3,
   "id": "8bcffdbc-42ee-4f1a-b503-19967f4cc677",
   "metadata": {},
   "outputs": [
    {
     "data": {
      "text/plain": [
       "7"
      ]
     },
     "execution_count": 3,
     "metadata": {},
     "output_type": "execute_result"
    }
   ],
   "source": [
    "# A lista hosszát a len() függvénnyel tudjuk megnézni\n",
    "len([1,2,3,4,5,6,7])"
   ]
  },
  {
   "cell_type": "markdown",
   "id": "b2186e75-78ba-4690-9d73-5e29b783ea9b",
   "metadata": {
    "tags": []
   },
   "source": [
    "### Tömbhöz tartozó függvények"
   ]
  },
  {
   "cell_type": "code",
   "execution_count": 6,
   "id": "ea5720d3-a250-4f4f-8301-66776129441b",
   "metadata": {},
   "outputs": [
    {
     "name": "stdout",
     "output_type": "stream",
     "text": [
      "['append', 'clear', 'copy', 'count', 'extend', 'index', 'insert', 'pop', 'remove', 'reverse', 'sort']\n"
     ]
    }
   ],
   "source": [
    "print(dir(a)[-11:])"
   ]
  },
  {
   "cell_type": "code",
   "execution_count": 7,
   "id": "4602e539-488a-4efd-be2d-c86e95f3314b",
   "metadata": {},
   "outputs": [
    {
     "data": {
      "text/plain": [
       "[1, 2, 3, 4, 5]"
      ]
     },
     "execution_count": 7,
     "metadata": {},
     "output_type": "execute_result"
    }
   ],
   "source": [
    "# A tömb végéhez új elemet az appenddel tudunk hozzáadni\n",
    "a = [1,2,3,4]\n",
    "a.append(5)\n",
    "a"
   ]
  },
  {
   "cell_type": "code",
   "execution_count": 8,
   "id": "8be20b76-8da8-4f6a-902a-6efa96c428ec",
   "metadata": {},
   "outputs": [
    {
     "name": "stdout",
     "output_type": "stream",
     "text": [
      "[1, 2, 3, 4]\n",
      "[]\n"
     ]
    }
   ],
   "source": [
    "# A clear függvény kiüríti a listát, ezt követően egy üres listánk lesz\n",
    "a = [1,2,3,4]\n",
    "print(a)\n",
    "a.clear()\n",
    "print(a)"
   ]
  },
  {
   "cell_type": "code",
   "execution_count": 9,
   "id": "97f3c8b6-9ac4-49bd-8996-1741c0d8bc00",
   "metadata": {},
   "outputs": [
    {
     "name": "stdout",
     "output_type": "stream",
     "text": [
      "[0, 2, 3, 4]\n",
      "[1, 2, 3, 4]\n"
     ]
    }
   ],
   "source": [
    "# Lista másolatok\n",
    "# Ha = jellel másolunk egy listát, akkor az új lista változtatásával a régi is változik\n",
    "a = [1, 2, 3, 4]\n",
    "b = a\n",
    "b[0] = 0\n",
    "print(a)\n",
    "\n",
    "# .copy() függvénnyel tudjuk úgy másolni a listát, hogy egy teljes másolat készüljön és az független legyen az előzőtől\n",
    "a = [1, 2, 3, 4]\n",
    "c = a.copy()\n",
    "c[0] = 0\n",
    "print(a)"
   ]
  },
  {
   "cell_type": "code",
   "execution_count": 10,
   "id": "e0f0d1cd-7adc-46b2-91a1-c5ff4823c31f",
   "metadata": {},
   "outputs": [
    {
     "name": "stdout",
     "output_type": "stream",
     "text": [
      "3\n",
      "1\n"
     ]
    }
   ],
   "source": [
    "# Ha egy elem előfordulására vagyunk kíváncsiak, a .count()-tal tudjuk ezt lekérni\n",
    "a = [1, 2, 1, 3, 1, 10]\n",
    "print(a.count(1))\n",
    "print(a.count(2))"
   ]
  },
  {
   "cell_type": "code",
   "execution_count": 2,
   "id": "cb429ccf-d072-494a-8cac-adc709ed4f56",
   "metadata": {},
   "outputs": [
    {
     "name": "stdout",
     "output_type": "stream",
     "text": [
      "+ [1, 2, 3, 4, 5, 6]\n",
      "extend() [1, 2, 3, 4, 5, 6]\n"
     ]
    }
   ],
   "source": [
    "# Két lista összefűzésére az .extend() függvény szolgál, viszont a + jel is alkalmas\n",
    "# Sebességen kívül nincs nagyon különbség, így ezen a szinten azt használjátok, amelyik kényelmesebb\n",
    "a = [1,2,3]\n",
    "b = [4,5,6]\n",
    "print(\"+ \" + str(a + b))\n",
    "# Figyeljünk rá, hogy itt nem \"a\"-t kell felülírni a.extend()-del hanem az a.extend() maga írja felül \"a\"-t\n",
    "a.extend(b)\n",
    "print(\"extend() \"+ str(a))"
   ]
  },
  {
   "cell_type": "code",
   "execution_count": 12,
   "id": "b47c4c6c-bbe3-4e80-9776-fbecba2821bf",
   "metadata": {},
   "outputs": [
    {
     "data": {
      "text/plain": [
       "2"
      ]
     },
     "execution_count": 12,
     "metadata": {},
     "output_type": "execute_result"
    }
   ],
   "source": [
    "# Az .index() függvény visszaadja az érték első helyét a listában\n",
    "a = [\"Első\", \"Második\", \"Harmadik\", \"Negyedik\"]\n",
    "a.index(\"Harmadik\")"
   ]
  },
  {
   "cell_type": "code",
   "execution_count": 13,
   "id": "863112e3-87e7-48a3-99f7-f22081a804ee",
   "metadata": {},
   "outputs": [
    {
     "name": "stdout",
     "output_type": "stream",
     "text": [
      "[1, 2, 111, 3]\n"
     ]
    }
   ],
   "source": [
    "# Egy elemet az .insert()-tel tudunk beszúrni egy adott helyre\n",
    "a = [1,2,3]\n",
    "a.insert(2, 111)\n",
    "print(a)"
   ]
  },
  {
   "cell_type": "code",
   "execution_count": 14,
   "id": "074a57ae-b5bc-466f-8ef2-6dd53d8d3970",
   "metadata": {},
   "outputs": [
    {
     "name": "stdout",
     "output_type": "stream",
     "text": [
      "[-23, 4, 12, 23, 120]\n",
      "['alma', 'banán', 'körte']\n",
      "[-2.1, 4.23, 21, 23]\n"
     ]
    },
    {
     "ename": "TypeError",
     "evalue": "'<' not supported between instances of 'int' and 'str'",
     "output_type": "error",
     "traceback": [
      "\u001b[1;31m---------------------------------------------------------------------------\u001b[0m",
      "\u001b[1;31mTypeError\u001b[0m                                 Traceback (most recent call last)",
      "\u001b[1;32mC:\\Users\\Public\\Documents\\Wondershare\\CreatorTemp/ipykernel_19556/1476795742.py\u001b[0m in \u001b[0;36m<module>\u001b[1;34m\u001b[0m\n\u001b[0;32m     17\u001b[0m \u001b[1;31m# Viszont ha szöveget és számot szeretnénk keverni, hibát kapunk\u001b[0m\u001b[1;33m\u001b[0m\u001b[1;33m\u001b[0m\u001b[0m\n\u001b[0;32m     18\u001b[0m \u001b[0ma\u001b[0m \u001b[1;33m=\u001b[0m \u001b[1;33m[\u001b[0m\u001b[1;34m\"alma\"\u001b[0m\u001b[1;33m,\u001b[0m \u001b[1;36m23\u001b[0m\u001b[1;33m,\u001b[0m \u001b[1;36m4.23\u001b[0m\u001b[1;33m]\u001b[0m\u001b[1;33m\u001b[0m\u001b[1;33m\u001b[0m\u001b[0m\n\u001b[1;32m---> 19\u001b[1;33m \u001b[0ma\u001b[0m\u001b[1;33m.\u001b[0m\u001b[0msort\u001b[0m\u001b[1;33m(\u001b[0m\u001b[1;33m)\u001b[0m\u001b[1;33m\u001b[0m\u001b[1;33m\u001b[0m\u001b[0m\n\u001b[0m",
      "\u001b[1;31mTypeError\u001b[0m: '<' not supported between instances of 'int' and 'str'"
     ]
    }
   ],
   "source": [
    "# A .sort()-tal tudunk rendezni egy listát\n",
    "# Ez működik számokra\n",
    "a = [4, 12, -23, 23, 120]\n",
    "# Figyeljünk rá, hogy itt az nem az \"a\"-t kell felülírni az a.sort()-tal, hanem az a.sort() automatikusan felülírja \"a\"-t\n",
    "a.sort()\n",
    "print(a)\n",
    "\n",
    "# Szövegekre\n",
    "a = [\"alma\", \"körte\", \"banán\"]\n",
    "a.sort()\n",
    "print(a)\n",
    "\n",
    "# Tört és egész számokra vegyesen is\n",
    "a = [21, -2.1, 23, 4.23]\n",
    "a.sort()\n",
    "print(a)\n",
    "\n",
    "# Viszont ha szöveget és számot szeretnénk keverni, hibát kapunk\n",
    "a = [\"alma\", 23, 4.23]\n",
    "a.sort()"
   ]
  },
  {
   "cell_type": "code",
   "execution_count": 15,
   "id": "672538ae-a019-4fef-9b46-abd4314e5967",
   "metadata": {},
   "outputs": [],
   "source": [
    "# A ciklusoknál írom le, hogyan lehet minden elemre ugyanazt a fügvényt lefuttatni"
   ]
  },
  {
   "cell_type": "markdown",
   "id": "743f9a4b-d5bd-4baf-9745-aab8d9859d90",
   "metadata": {
    "tags": []
   },
   "source": [
    "## Tuple\n",
    "Gyakorlatilag egy readonly (csak olvasható) tömb"
   ]
  },
  {
   "cell_type": "code",
   "execution_count": 16,
   "id": "4ccba93c-c5cc-4cf7-9484-e70856aee465",
   "metadata": {},
   "outputs": [
    {
     "name": "stdout",
     "output_type": "stream",
     "text": [
      "2\n"
     ]
    },
    {
     "ename": "TypeError",
     "evalue": "'tuple' object does not support item assignment",
     "output_type": "error",
     "traceback": [
      "\u001b[1;31m---------------------------------------------------------------------------\u001b[0m",
      "\u001b[1;31mTypeError\u001b[0m                                 Traceback (most recent call last)",
      "\u001b[1;32mC:\\Users\\Public\\Documents\\Wondershare\\CreatorTemp/ipykernel_19556/3691419997.py\u001b[0m in \u001b[0;36m<module>\u001b[1;34m\u001b[0m\n\u001b[0;32m      4\u001b[0m \u001b[0mprint\u001b[0m\u001b[1;33m(\u001b[0m\u001b[0ma\u001b[0m\u001b[1;33m[\u001b[0m\u001b[1;36m1\u001b[0m\u001b[1;33m]\u001b[0m\u001b[1;33m)\u001b[0m\u001b[1;33m\u001b[0m\u001b[1;33m\u001b[0m\u001b[0m\n\u001b[0;32m      5\u001b[0m \u001b[1;31m# Viszont ha törölni akarunk belőle, futás idejú hibát kapunk\u001b[0m\u001b[1;33m\u001b[0m\u001b[1;33m\u001b[0m\u001b[0m\n\u001b[1;32m----> 6\u001b[1;33m \u001b[0ma\u001b[0m\u001b[1;33m[\u001b[0m\u001b[1;36m1\u001b[0m\u001b[1;33m]\u001b[0m \u001b[1;33m=\u001b[0m \u001b[1;36m10\u001b[0m\u001b[1;33m\u001b[0m\u001b[1;33m\u001b[0m\u001b[0m\n\u001b[0m",
      "\u001b[1;31mTypeError\u001b[0m: 'tuple' object does not support item assignment"
     ]
    }
   ],
   "source": [
    "# Egy tuple létrehozásához (deklarálásához/inicializálásához) ()-be kell írni az elemeket vesszővel elválasztva\n",
    "a = (1,2,3,4,5)\n",
    "# Ugyanúgy tudjuk indexelni\n",
    "print(a[1])\n",
    "# Viszont ha törölni akarunk belőle, futás idejú hibát kapunk\n",
    "a[1] = 10"
   ]
  },
  {
   "cell_type": "code",
   "execution_count": 17,
   "id": "09f47fe6-0a1e-45f8-a0b0-8df48e4d09a4",
   "metadata": {},
   "outputs": [
    {
     "name": "stdout",
     "output_type": "stream",
     "text": [
      "['__add__', '__class__', '__class_getitem__', '__contains__', '__delattr__', '__dir__', '__doc__', '__eq__', '__format__', '__ge__', '__getattribute__', '__getitem__', '__getnewargs__', '__gt__', '__hash__', '__init__', '__init_subclass__', '__iter__', '__le__', '__len__', '__lt__', '__mul__', '__ne__', '__new__', '__reduce__', '__reduce_ex__', '__repr__', '__rmul__', '__setattr__', '__sizeof__', '__str__', '__subclasshook__', 'count', 'index']\n"
     ]
    }
   ],
   "source": [
    "# A fix tartalom miatt más fügvények is kiesnek, összesen kettő maradt meg\n",
    "a = (1,2,3)\n",
    "print(dir(a))"
   ]
  },
  {
   "cell_type": "markdown",
   "id": "cfa28ce5-c77e-4e75-8152-03543feb8908",
   "metadata": {
    "tags": []
   },
   "source": [
    "## Dictionary\n",
    "Ezek olyan listák, ahol az összes értékhez (\"value\") tartozik egy kulcs (\"key\")\n",
    "\n",
    "Ez annyit tesz, hogy sorszám helyett a kulcsokkal lehet indexelni a listát"
   ]
  },
  {
   "cell_type": "code",
   "execution_count": 18,
   "id": "f1d2b60a-72e4-496e-8e7f-7bd2f0f17676",
   "metadata": {},
   "outputs": [
    {
     "name": "stdout",
     "output_type": "stream",
     "text": [
      "{'b': 3}\n"
     ]
    }
   ],
   "source": [
    "# A létrehozásához {}-ben kell megadni a kulcs:érték párokat\n",
    "a = {\"alma\": \"almafa\", \"korte\": \"kortefa\", \"barack\": \"barackfa\"}\n",
    "# Mivel a kulcs az index helyett van, ezért egy kulcs nem szerepelhet kétszer\n",
    "# Ha mégis megpórbálnánk, akkor az utolsó érték lesz az értéke a kulcsnak\n",
    "a = {\"b\":1, \"b\":2, \"b\":3}\n",
    "print(a)"
   ]
  },
  {
   "cell_type": "code",
   "execution_count": 19,
   "id": "9c31aba0-a523-44b3-bfba-06b6d82ff9a4",
   "metadata": {},
   "outputs": [
    {
     "ename": "KeyError",
     "evalue": "'alma'",
     "output_type": "error",
     "traceback": [
      "\u001b[1;31m---------------------------------------------------------------------------\u001b[0m",
      "\u001b[1;31mKeyError\u001b[0m                                  Traceback (most recent call last)",
      "\u001b[1;32mC:\\Users\\Public\\Documents\\Wondershare\\CreatorTemp/ipykernel_19556/2100795498.py\u001b[0m in \u001b[0;36m<module>\u001b[1;34m\u001b[0m\n\u001b[0;32m      1\u001b[0m \u001b[1;31m# Ezt követően tudjuk használni a kulcsokat az értékek kinyerésére\u001b[0m\u001b[1;33m\u001b[0m\u001b[1;33m\u001b[0m\u001b[0m\n\u001b[1;32m----> 2\u001b[1;33m \u001b[0mprint\u001b[0m\u001b[1;33m(\u001b[0m\u001b[0ma\u001b[0m\u001b[1;33m[\u001b[0m\u001b[1;34m\"alma\"\u001b[0m\u001b[1;33m]\u001b[0m\u001b[1;33m)\u001b[0m\u001b[1;33m\u001b[0m\u001b[1;33m\u001b[0m\u001b[0m\n\u001b[0m\u001b[0;32m      3\u001b[0m \u001b[1;31m# A klasszikus sorszám alapján indexelés nem is működik ilyenkor\u001b[0m\u001b[1;33m\u001b[0m\u001b[1;33m\u001b[0m\u001b[0m\n\u001b[0;32m      4\u001b[0m \u001b[0mprint\u001b[0m\u001b[1;33m(\u001b[0m\u001b[0ma\u001b[0m\u001b[1;33m[\u001b[0m\u001b[1;36m0\u001b[0m\u001b[1;33m]\u001b[0m\u001b[1;33m)\u001b[0m\u001b[1;33m\u001b[0m\u001b[1;33m\u001b[0m\u001b[0m\n",
      "\u001b[1;31mKeyError\u001b[0m: 'alma'"
     ]
    }
   ],
   "source": [
    "# Ezt követően tudjuk használni a kulcsokat az értékek kinyerésére\n",
    "print(a[\"alma\"])\n",
    "# A klasszikus sorszám alapján indexelés nem is működik ilyenkor\n",
    "print(a[0])"
   ]
  },
  {
   "cell_type": "code",
   "execution_count": 20,
   "id": "bca8ba5c-8e41-4f1c-9228-0d9c564d57bb",
   "metadata": {},
   "outputs": [
    {
     "name": "stdout",
     "output_type": "stream",
     "text": [
      "a['alma'] előtte: almafa\n",
      "a['alma'] utána: ALMAFA\n"
     ]
    }
   ],
   "source": [
    "# Egy érték ugyanúgy tudunk felülírni, mint a sima listáknál lista[index] = érték\n",
    "a = {\"alma\": \"almafa\", \"korte\": \"kortefa\", \"barack\": \"barackfa\"}\n",
    "print(\"a['alma'] előtte: \"+str(a[\"alma\"]))\n",
    "a[\"alma\"] = \"ALMAFA\"\n",
    "print(\"a['alma'] utána: \"+str(a[\"alma\"]))"
   ]
  },
  {
   "cell_type": "code",
   "execution_count": 21,
   "id": "a35aba6b-c5f3-4d13-a469-80815074ed9f",
   "metadata": {},
   "outputs": [
    {
     "data": {
      "text/plain": [
       "{'alma': 'almafa',\n",
       " 'korte': 'kortefa',\n",
       " 'barack': 'barackfa',\n",
       " 'banan': 'bananfa'}"
      ]
     },
     "execution_count": 21,
     "metadata": {},
     "output_type": "execute_result"
    }
   ],
   "source": [
    "# Egy új kulcs-érték pár beszúrására megoldás: lista[\"ÚJKULCS\"] = érték\n",
    "a = {\"alma\": \"almafa\", \"korte\": \"kortefa\", \"barack\": \"barackfa\"}\n",
    "a[\"banan\"] = \"bananfa\"\n",
    "a"
   ]
  },
  {
   "cell_type": "code",
   "execution_count": 22,
   "id": "03a45c50-d8f9-4295-a4d7-2cd1de5da1a6",
   "metadata": {},
   "outputs": [
    {
     "name": "stdout",
     "output_type": "stream",
     "text": [
      "['__class__', '__class_getitem__', '__contains__', '__delattr__', '__delitem__', '__dir__', '__doc__', '__eq__', '__format__', '__ge__', '__getattribute__', '__getitem__', '__gt__', '__hash__', '__init__', '__init_subclass__', '__ior__', '__iter__', '__le__', '__len__', '__lt__', '__ne__', '__new__', '__or__', '__reduce__', '__reduce_ex__', '__repr__', '__reversed__', '__ror__', '__setattr__', '__setitem__', '__sizeof__', '__str__', '__subclasshook__', 'clear', 'copy', 'fromkeys', 'get', 'items', 'keys', 'pop', 'popitem', 'setdefault', 'update', 'values']\n"
     ]
    }
   ],
   "source": [
    "#A fügvényeknél két fontos van a listákhoz képest\n",
    "print(dir({\"a\":1}))"
   ]
  },
  {
   "cell_type": "code",
   "execution_count": 23,
   "id": "efd57e3b-b24a-4971-baa0-6c8ab1547833",
   "metadata": {},
   "outputs": [
    {
     "name": "stdout",
     "output_type": "stream",
     "text": [
      "keys: dict_keys(['a', 'b', 'c'])\n",
      "values: dict_values([1, 2, 3])\n"
     ]
    }
   ],
   "source": [
    "# A kulcsok listáját a .keys()-zel kaphatjuk meg\n",
    "a = {\"a\":1, \"b\":2, \"c\":3}\n",
    "print(\"keys: \"+ str(a.keys()))\n",
    "# Az érték listáját a .values() -zal\n",
    "print(\"values: \"+ str(a.values()))"
   ]
  },
  {
   "cell_type": "code",
   "execution_count": 24,
   "id": "c47e3c36-3ed0-4c13-804e-807954f5bd0c",
   "metadata": {},
   "outputs": [
    {
     "name": "stdout",
     "output_type": "stream",
     "text": [
      "{'a', 'c', 'b'}\n",
      "A hozzá tartozó függvények: ['__and__', '__class__', '__class_getitem__', '__contains__', '__delattr__', '__dir__', '__doc__', '__eq__', '__format__', '__ge__', '__getattribute__', '__gt__', '__hash__', '__iand__', '__init__', '__init_subclass__', '__ior__', '__isub__', '__iter__', '__ixor__', '__le__', '__len__', '__lt__', '__ne__', '__new__', '__or__', '__rand__', '__reduce__', '__reduce_ex__', '__repr__', '__ror__', '__rsub__', '__rxor__', '__setattr__', '__sizeof__', '__str__', '__sub__', '__subclasshook__', '__xor__', 'add', 'clear', 'copy', 'difference', 'difference_update', 'discard', 'intersection', 'intersection_update', 'isdisjoint', 'issubset', 'issuperset', 'pop', 'remove', 'symmetric_difference', 'symmetric_difference_update', 'union', 'update']\n"
     ]
    }
   ],
   "source": [
    "# Érdekesség set-nek szoktak hívni azt a listát, amiben nem lehet két ugyanolyan érték\n",
    "# Ez gyakorlatban egy olyan dictionary, aminek nincsenek értékei csak kulcsai\n",
    "a = { \"a\", \"b\", \"c\" }\n",
    "print(a)\n",
    "# A függvényekben ebben az esetben van egy kis változás\n",
    "print(\"A hozzá tartozó függvények: \" + str(dir(a)))"
   ]
  }
 ],
 "metadata": {
  "interpreter": {
   "hash": "cdd33eb7a732f8bbc22e26ba9551d320ea5d538e8f030e8b706e9cc2ab241d6b"
  },
  "kernelspec": {
   "display_name": "Python 3.10.4 64-bit",
   "language": "python",
   "name": "python3"
  },
  "language_info": {
   "codemirror_mode": {
    "name": "ipython",
    "version": 3
   },
   "file_extension": ".py",
   "mimetype": "text/x-python",
   "name": "python",
   "nbconvert_exporter": "python",
   "pygments_lexer": "ipython3",
   "version": "3.10.4"
  }
 },
 "nbformat": 4,
 "nbformat_minor": 5
}
