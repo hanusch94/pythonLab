{
 "cells": [
  {
   "cell_type": "markdown",
   "id": "dc509a21-9667-4a6c-a34d-11f3e0599d37",
   "metadata": {},
   "source": [
    "# Szövegkezelés\n",
    "A stringre gondolhatunk úgy is, mint egy karakterlistára"
   ]
  },
  {
   "cell_type": "code",
   "execution_count": 3,
   "id": "7d586a15-0f08-4b6b-95dc-ef39ae638ddb",
   "metadata": {},
   "outputs": [
    {
     "data": {
      "text/plain": [
       "'fa'"
      ]
     },
     "execution_count": 3,
     "metadata": {},
     "output_type": "execute_result"
    }
   ],
   "source": [
    "# Indexelhető\n",
    "a = \"almafa\"\n",
    "a[-2:]"
   ]
  },
  {
   "cell_type": "code",
   "execution_count": 4,
   "id": "18118ed3-600a-40ef-a56d-20c21f897214",
   "metadata": {},
   "outputs": [
    {
     "data": {
      "text/plain": [
       "'almafám alma van'"
      ]
     },
     "execution_count": 4,
     "metadata": {},
     "output_type": "execute_result"
    }
   ],
   "source": [
    "# Összefűzhető\n",
    "a = \"almafám \"\n",
    "b = \"alma van\"\n",
    "a+b"
   ]
  },
  {
   "cell_type": "markdown",
   "id": "c47b52f6-9ebe-4eb6-aed3-c0c8e33bf4ce",
   "metadata": {},
   "source": [
    "## Viszont sok speciális tulajdonsága is van"
   ]
  },
  {
   "cell_type": "code",
   "execution_count": null,
   "id": "b6c6dd62-f663-4e1a-b9aa-6ab29ab2b7c1",
   "metadata": {},
   "outputs": [
    {
     "name": "stdout",
     "output_type": "stream",
     "text": [
      "Azt mondta, 'alma'\n",
      "Én azt mondtam, \"körte\"\n"
     ]
    }
   ],
   "source": [
    "# Arról volt szó, hogy \" és ' is jó a szöveg jelölésének viszont az okáról nem\n",
    "# Ha \" közé tesszük a szöveget, bármikor használhatjuk a ' jelet, nem lép ki a szövegből (ez fordítva is igaz)\n",
    "print(\"Azt mondta, 'alma'\")\n",
    "print('Én azt mondtam, \"körte\"')"
   ]
  },
  {
   "cell_type": "code",
   "execution_count": 26,
   "id": "70a91478-dc8c-4b3a-bb26-b4d9681a7488",
   "metadata": {},
   "outputs": [
    {
     "name": "stdout",
     "output_type": "stream",
     "text": [
      "Ez egy olyan szöveg, ahol a \" és a ' karakter is előfordul\n",
      "__________\n",
      "Ide pedig húztam egy vonalat, hogy mutassam\n",
      "A sortörések\n",
      "működését.\n",
      "\n",
      "De ha már it vagyok, akkor a tabot is\tmegmutatom\tneked\n"
     ]
    }
   ],
   "source": [
    "# Mi történik, ha mindkettőt szeretnénk használni?\n",
    "# Ha speciális karaktert szeretnénk használni egy szövegen belül, akkor \"escape\"-elnünk kell\n",
    "# Ez annyit tesz, hogy egy \\ jelet teszünk elé\n",
    "# Teljes lista itt található: https://www.w3schools.com/python/gloss_python_escape_characters.asp\n",
    "print(\"Ez egy olyan szöveg, ahol a \\\" és a ' karakter is előfordul\")\n",
    "print(\"__________\\nIde pedig húztam egy vonalat, hogy mutassam\\nA sortörések\\nműködését.\\n\\nDe ha már it vagyok, akkor a tabot is\\tmegmutatom\\tneked\")"
   ]
  },
  {
   "cell_type": "code",
   "execution_count": 29,
   "id": "2ca16242-6b81-4e8a-9df5-4313b840806a",
   "metadata": {},
   "outputs": [
    {
     "name": "stdout",
     "output_type": "stream",
     "text": [
      "\n",
      "Ez itt\n",
      " több sorban\n",
      " lett leírva.\n",
      "\n"
     ]
    }
   ],
   "source": [
    "# Ha egy string-et több sorban szeretnénk leírni, ezt is megtehetjük, ha 3 \" jel közé tesszük\n",
    "print(\"\"\"\n",
    "Ez itt\n",
    "több sorban\n",
    "lett leírva.\n",
    "\"\"\")"
   ]
  },
  {
   "cell_type": "code",
   "execution_count": 30,
   "id": "7adaa3cd-204c-4721-a6ea-075b9e33aba6",
   "metadata": {},
   "outputs": [
    {
     "name": "stdout",
     "output_type": "stream",
     "text": [
      "Ez egy sorban lesz mikor kiprintelem.\n"
     ]
    }
   ],
   "source": [
    "# Ha úgy szeretnénk több sorba írni, hogy az enter ne legyen a végső szövegben, akkor konkatenálhatjuk (összefűzhetjük őket)\n",
    "print(\"Ez \"+\n",
    "     \"egy sorban lesz \"+\n",
    "     \"mikor kiprintelem.\")"
   ]
  },
  {
   "cell_type": "code",
   "execution_count": 32,
   "id": "d662e17f-3b48-42f1-aa64-03b853458f6b",
   "metadata": {},
   "outputs": [
    {
     "name": "stdout",
     "output_type": "stream",
     "text": [
      "Az udvaron 3 alma van az almafán\n",
      "Az udvaron z almafán alma van a3\n"
     ]
    }
   ],
   "source": [
    "# .format() függvény\n",
    "# Ha változókat szeretnénk beletenni egy szövegbe, akkor azt nem csak konkatenálással (összefűzéssel) tudjuk megtenni\n",
    "# A szövegben használjuk a {}-t, hogy a változó beszúrási helyét jelöljük, majd .format és a formatban adjuk meg a változókat/értékeket\n",
    "a = 3\n",
    "print(\"Az udvaron {} alma van a{}\".format(a, \"z almafán\"))\n",
    "# Ha könnyebb úgy számunkra, megadhatjuk, hogy hanyadik változó legyen a {} helyén, ha beleírjuk a sorszámot (0-tól kezdődik a számozás, részletek a listáknál)\n",
    "print(\"Az udvaron {1} alma van a{0}\".format(a, \"z almafán\"))"
   ]
  },
  {
   "cell_type": "code",
   "execution_count": 4,
   "id": "cbb06ec5-7ba8-4c07-9e00-8823d04fd2ca",
   "metadata": {},
   "outputs": [
    {
     "name": "stdout",
     "output_type": "stream",
     "text": [
      "C:\\repos\\python\\work\\file.py\n",
      "C:\\repos\\python\\work\\file.py\n"
     ]
    }
   ],
   "source": [
    "# Az elérési utakat, linkeket kényelmetlen lenne stringben tárolni, mert sok escape-elt karakter lenne benne\n",
    "a = \"C:\\\\repos\\\\python\\\\work\\\\file.py\"\n",
    "print(a)\n",
    "# Erre van egy olyan megoldás, hogy az első \" elé egy r betűt rakva jelezzük, hogy a \\ az tényleg \\, tehát nem kell duplán írni\n",
    "b = r\"C:\\repos\\python\\work\\file.py\"\n",
    "print(b)"
   ]
  },
  {
   "cell_type": "markdown",
   "id": "7830b180-ab5c-4213-8e27-fa6f6973c8cb",
   "metadata": {},
   "source": [
    "___\n",
    "## Füvvények"
   ]
  },
  {
   "cell_type": "code",
   "execution_count": 4,
   "id": "b81887d7-58a6-41fa-b8af-90bd40229514",
   "metadata": {},
   "outputs": [
    {
     "name": "stdout",
     "output_type": "stream",
     "text": [
      "['__add__', '__class__', '__contains__', '__delattr__', '__dir__', '__doc__', '__eq__', '__format__', '__ge__', '__getattribute__', '__getitem__', '__getnewargs__', '__gt__', '__hash__', '__init__', '__init_subclass__', '__iter__', '__le__', '__len__', '__lt__', '__mod__', '__mul__', '__ne__', '__new__', '__reduce__', '__reduce_ex__', '__repr__', '__rmod__', '__rmul__', '__setattr__', '__sizeof__', '__str__', '__subclasshook__', 'capitalize', 'casefold', 'center', 'count', 'encode', 'endswith', 'expandtabs', 'find', 'format', 'format_map', 'index', 'isalnum', 'isalpha', 'isascii', 'isdecimal', 'isdigit', 'isidentifier', 'islower', 'isnumeric', 'isprintable', 'isspace', 'istitle', 'isupper', 'join', 'ljust', 'lower', 'lstrip', 'maketrans', 'partition', 'removeprefix', 'removesuffix', 'replace', 'rfind', 'rindex', 'rjust', 'rpartition', 'rsplit', 'rstrip', 'split', 'splitlines', 'startswith', 'strip', 'swapcase', 'title', 'translate', 'upper', 'zfill']\n"
     ]
    }
   ],
   "source": [
    "# Nézzük a függvények listáját, és ezekből azokat, amik most számunkra érdekesek lehetnek\n",
    "print(dir(\"asd\"))"
   ]
  },
  {
   "cell_type": "code",
   "execution_count": 20,
   "id": "3178d70d-cc09-4e96-9733-70f6d2ba3f94",
   "metadata": {},
   "outputs": [
    {
     "data": {
      "text/plain": [
       "3"
      ]
     },
     "execution_count": 20,
     "metadata": {},
     "output_type": "execute_result"
    }
   ],
   "source": [
    "# .count()\n",
    "# Szövegrészlet keresése a string-ben szoveg.count(keresett)\n",
    "\"almafa\".count(\"a\")"
   ]
  },
  {
   "cell_type": "code",
   "execution_count": 23,
   "id": "bea89949-99a3-4f97-b95b-7363b2a0f598",
   "metadata": {},
   "outputs": [
    {
     "name": "stdout",
     "output_type": "stream",
     "text": [
      "4\n",
      "5\n",
      "-1\n"
     ]
    }
   ],
   "source": [
    "# .find()\n",
    "# visszaadja az első index-ét (helyét, sorszámát) a keresett szövegrésznek, ha nincs találat, -1 -et ad vissza\n",
    "print(\"egy almafa\".find(\"a\"))\n",
    "print(\"egy almafa\".find(\"lma\"))\n",
    "print(\"egy almafa\".find(\"ő\"))"
   ]
  },
  {
   "cell_type": "code",
   "execution_count": 38,
   "id": "295a61e2-7e5d-40ec-bd7d-d8f0cc68d2b5",
   "metadata": {},
   "outputs": [
    {
     "name": "stdout",
     "output_type": "stream",
     "text": [
      "2\n"
     ]
    },
    {
     "ename": "ValueError",
     "evalue": "substring not found",
     "output_type": "error",
     "traceback": [
      "\u001b[1;31m---------------------------------------------------------------------------\u001b[0m",
      "\u001b[1;31mValueError\u001b[0m                                Traceback (most recent call last)",
      "\u001b[1;32mC:\\Users\\Public\\Documents\\Wondershare\\CreatorTemp/ipykernel_5048/2525678421.py\u001b[0m in \u001b[0;36m<module>\u001b[1;34m\u001b[0m\n\u001b[0;32m      2\u001b[0m \u001b[1;31m# ugyanaz mint a find, viszont ha nincs találat, akkor hibát kapunk itt\u001b[0m\u001b[1;33m\u001b[0m\u001b[1;33m\u001b[0m\u001b[0m\n\u001b[0;32m      3\u001b[0m \u001b[0mprint\u001b[0m\u001b[1;33m(\u001b[0m\u001b[1;34m\"almafa\"\u001b[0m\u001b[1;33m.\u001b[0m\u001b[0mindex\u001b[0m\u001b[1;33m(\u001b[0m\u001b[1;34m\"m\"\u001b[0m\u001b[1;33m)\u001b[0m\u001b[1;33m)\u001b[0m\u001b[1;33m\u001b[0m\u001b[1;33m\u001b[0m\u001b[0m\n\u001b[1;32m----> 4\u001b[1;33m \u001b[0mprint\u001b[0m\u001b[1;33m(\u001b[0m\u001b[1;34m\"almafa\"\u001b[0m\u001b[1;33m.\u001b[0m\u001b[0mindex\u001b[0m\u001b[1;33m(\u001b[0m\u001b[1;34m\"i\"\u001b[0m\u001b[1;33m)\u001b[0m\u001b[1;33m)\u001b[0m\u001b[1;33m\u001b[0m\u001b[1;33m\u001b[0m\u001b[0m\n\u001b[0m",
      "\u001b[1;31mValueError\u001b[0m: substring not found"
     ]
    }
   ],
   "source": [
    "# .index()\n",
    "# ugyanaz mint a find, viszont ha nincs találat, akkor hibát kapunk itt\n",
    "print(\"almafa\".index(\"m\"))\n",
    "print(\"almafa\".index(\"i\"))"
   ]
  },
  {
   "cell_type": "code",
   "execution_count": 2,
   "id": "1ac114f4-c300-45a6-b913-02786a955732",
   "metadata": {},
   "outputs": [
    {
     "data": {
      "text/plain": [
       "'körte-|-alma-|-banán'"
      ]
     },
     "execution_count": 2,
     "metadata": {},
     "output_type": "execute_result"
    }
   ],
   "source": [
    "# A .join() összefűz egy szövegből lista elemeit a stringgel, amivel meghívjuk\n",
    "\"-|-\".join([\"körte\",\"alma\",\"banán\"])"
   ]
  },
  {
   "cell_type": "code",
   "execution_count": 8,
   "id": "bb3a6767-ff05-4b65-9768-a4a316fc4a30",
   "metadata": {},
   "outputs": [
    {
     "data": {
      "text/plain": [
       "'Az MÁSODIK alma, ami leesett az Első fáról az MÁSODIK almáspitébe lett belefőzve, amit az MÁSODIK nap megettünk'"
      ]
     },
     "execution_count": 8,
     "metadata": {},
     "output_type": "execute_result"
    }
   ],
   "source": [
    "# A .replace() függvény kicseréli az első szövegrészt a másodikra a szövegben, amire meghívják\n",
    "a = \"Az ELSŐ alma, ami leesett az Első fáról az ELSŐ almáspitébe lett belefőzve, amit az ELSŐ nap megettünk\"\n",
    "a.replace(\"ELSŐ\", \"MÁSODIK\")"
   ]
  },
  {
   "cell_type": "code",
   "execution_count": 10,
   "id": "9a05dcab-adb6-44fa-9b52-8f54bf038ddc",
   "metadata": {},
   "outputs": [
    {
     "name": "stdout",
     "output_type": "stream",
     "text": [
      "['Balázs', '2', 'Fő utca', '44', 'Férfi']\n",
      "['Az', 'alma', 'nem', 'esett', 'le', 'a', 'fáról,', 'ezért', 'onnan', 'szedtem', 'le']\n"
     ]
    }
   ],
   "source": [
    "# A .split() a szöveg felarabolására jó. Ezt egy listába pakolja. (pl mikor fájlból szeretnél beolvasni értékeket)\n",
    "# Felhasználás például, mikor szövegfájlban tárold adatokat szeretnénk beolvasni (fájlkezelésnél részletezem)\n",
    "a = \"Balázs, 2, Fő utca, 44, Férfi\"\n",
    "print(a.split(\", \"))\n",
    "\n",
    "# Ha üresen hagyjuk, akkor space-enként vág\n",
    "a = \"Az alma nem esett le a fáról, ezért onnan szedtem le\"\n",
    "print(a.split())"
   ]
  },
  {
   "cell_type": "code",
   "execution_count": 11,
   "id": "a84244cf-74cb-4d81-ba34-752f2dbf942b",
   "metadata": {},
   "outputs": [
    {
     "name": "stdout",
     "output_type": "stream",
     "text": [
      "\n",
      "\tAz almát ide raktam                 \n",
      "Az almát ide raktam\n"
     ]
    }
   ],
   "source": [
    "# A .strip() letakarítja a whitespace-eket a szöveg elejéről és végéről (space, tab, sortörés)\n",
    "a = \"\\n\\tAz almát ide raktam                 \"\n",
    "print(a)\n",
    "print(a.strip())"
   ]
  },
  {
   "cell_type": "markdown",
   "id": "c21c79bc-7d74-4e7c-8c3f-a77c7ab5af3c",
   "metadata": {},
   "source": [
    "## Kisbetű nagybetű függvények"
   ]
  },
  {
   "cell_type": "code",
   "execution_count": 16,
   "id": "4f7aad4d-ea9b-4a5e-a969-1c5e0cb46322",
   "metadata": {},
   "outputs": [
    {
     "name": "stdout",
     "output_type": "stream",
     "text": [
      "almafa\n",
      "almafa3235123..-,-/4=19)(\n",
      "almafa\n"
     ]
    }
   ],
   "source": [
    "# A .casefold()/.loser() Kisbetűsít.\n",
    "print(\"ALMAFA\".casefold())\n",
    "print(\"AlmaFa3235123..-,-/4=19)(\".casefold())\n",
    "print(\"almafa\")"
   ]
  },
  {
   "cell_type": "code",
   "execution_count": 1,
   "id": "8a40486f-f45b-4f81-8b0e-3780223cfe90",
   "metadata": {},
   "outputs": [
    {
     "data": {
      "text/plain": [
       "'almafa'"
      ]
     },
     "execution_count": 1,
     "metadata": {},
     "output_type": "execute_result"
    }
   ],
   "source": [
    "# A .lower() függvény kisbetűsíti az egész szöveget\n",
    "a = \"ALMAFA\"\n",
    "a.lower()"
   ]
  },
  {
   "cell_type": "code",
   "execution_count": 2,
   "id": "fc9259e6",
   "metadata": {},
   "outputs": [
    {
     "data": {
      "text/plain": [
       "'ALMAFA'"
      ]
     },
     "execution_count": 2,
     "metadata": {},
     "output_type": "execute_result"
    }
   ],
   "source": [
    "# A .upper() függvény kisbetűsíti az egész szöveget\n",
    "a = \"almafa\"\n",
    "a.upper()"
   ]
  },
  {
   "cell_type": "code",
   "execution_count": 13,
   "id": "4607822c-fcbf-488f-bf48-b6f90ecfb70d",
   "metadata": {},
   "outputs": [
    {
     "name": "stdout",
     "output_type": "stream",
     "text": [
      "Az almafa nem osztódik\n",
      "_____\n",
      "3 fa\n",
      ".fa\n",
      " fa\n",
      "Pfa\n"
     ]
    }
   ],
   "source": [
    "# capitalize()\n",
    "# String első karakterét nagybetűre állítja, ha betű\n",
    "print(\"az almafa nem osztódik\".capitalize())\n",
    "# Ha nem betű, vagy nagy betű, akkor nem történik semmi.\n",
    "print(\"_____\")\n",
    "print(\"3 fa\".capitalize())\n",
    "print(\".fa\".capitalize())\n",
    "print(\" fa\".capitalize())\n",
    "print(\"Pfa\".capitalize())"
   ]
  },
  {
   "cell_type": "code",
   "execution_count": 14,
   "id": "bb1157b9-6f41-4fd6-9a26-b7468134424d",
   "metadata": {},
   "outputs": [
    {
     "data": {
      "text/plain": [
       "'aZ ALmAfáról NEM VOLT idén tERmÉS :( '"
      ]
     },
     "execution_count": 14,
     "metadata": {},
     "output_type": "execute_result"
    }
   ],
   "source": [
    "# A .swapcase() felcseréli a kisbetű-nagybetűsítést, de egyszerűbb mutatni:\n",
    "a = \"Az alMaFÁRÓL nem volt IDÉN TerMés :( \"\n",
    "a.swapcase()"
   ]
  }
 ],
 "metadata": {
  "interpreter": {
   "hash": "cdd33eb7a732f8bbc22e26ba9551d320ea5d538e8f030e8b706e9cc2ab241d6b"
  },
  "kernelspec": {
   "display_name": "Python 3.10.4 64-bit",
   "language": "python",
   "name": "python3"
  },
  "language_info": {
   "codemirror_mode": {
    "name": "ipython",
    "version": 3
   },
   "file_extension": ".py",
   "mimetype": "text/x-python",
   "name": "python",
   "nbconvert_exporter": "python",
   "pygments_lexer": "ipython3",
   "version": "3.10.4"
  }
 },
 "nbformat": 4,
 "nbformat_minor": 5
}
