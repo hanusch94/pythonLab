{
 "cells": [
  {
   "cell_type": "markdown",
   "id": "7caa569f-a968-4f0e-8e81-52386539c952",
   "metadata": {},
   "source": [
    "# Típusok és Operátorok"
   ]
  },
  {
   "cell_type": "markdown",
   "id": "31835094-9771-401e-97a7-37f1b497b15e",
   "metadata": {},
   "source": [
    "___\n",
    "## Kommentek"
   ]
  },
  {
   "cell_type": "code",
   "execution_count": 1,
   "id": "183d02de-a06f-40db-a40a-53e9a21322fd",
   "metadata": {},
   "outputs": [
    {
     "ename": "SyntaxError",
     "evalue": "invalid syntax (CreatorTemp/ipykernel_12892/2473510826.py, line 1)",
     "output_type": "error",
     "traceback": [
      "\u001b[1;36m  File \u001b[1;32m\"C:\\Users\\Public\\Documents\\Wondershare\\CreatorTemp/ipykernel_12892/2473510826.py\"\u001b[1;36m, line \u001b[1;32m1\u001b[0m\n\u001b[1;33m    A parancsok mellett kommentek is fontosak egy kódban.\u001b[0m\n\u001b[1;37m      ^\u001b[0m\n\u001b[1;31mSyntaxError\u001b[0m\u001b[1;31m:\u001b[0m invalid syntax\n"
     ]
    }
   ],
   "source": [
    "A parancsok mellett kommentek is fontosak egy kódban.\n",
    "Ez szolgál arra, hogy szöveggel tudjuk magyarázni egy adott rész működését\n",
    "Visznont ha szabadon írnánk és megpróbálnánk futtatni a kódot, hibát kapnánk"
   ]
  },
  {
   "cell_type": "code",
   "execution_count": 7,
   "id": "c1d24304-fa48-4e8e-a1c6-6b757f9b0850",
   "metadata": {},
   "outputs": [],
   "source": [
    "# Erre a megoldásra van a # jel pythonban (ez a jelölő karakter programozási nyelvenként változhat)\n",
    "# Mivel ez a karakter csak egy sort kommentel ki, így minden sor elejére oda kell tenni, amit kommentelni szeretnénk"
   ]
  },
  {
   "cell_type": "code",
   "execution_count": 3,
   "id": "17267e5f-3392-4439-b82f-b484773bf636",
   "metadata": {},
   "outputs": [
    {
     "name": "stdout",
     "output_type": "stream",
     "text": [
      "tökevan a menyasszonynak\n"
     ]
    }
   ],
   "source": [
    "print(\"kiíródik\") # Ezt a sor közepén is meg tudjuk tenni. Ebben az esetben ismét a # után található szöveg kerül kommentbe"
   ]
  },
  {
   "cell_type": "code",
   "execution_count": 12,
   "id": "d2b8258b-3c3f-438c-b13d-8454ae9ddfcc",
   "metadata": {},
   "outputs": [
    {
     "data": {
      "text/plain": [
       "'Több\\nsoros kommentet a \\nhárom \" jellel tudunk írni'"
      ]
     },
     "execution_count": 12,
     "metadata": {},
     "output_type": "execute_result"
    }
   ],
   "source": [
    "\"\"\"Több\n",
    "soros kommentet a \n",
    "három \" jellel tudunk írni\"\"\"\n",
    "# De ez hogy lehet komment, ha mégis kiíródik?"
   ]
  },
  {
   "cell_type": "code",
   "execution_count": 17,
   "id": "85827834-cd77-44da-b988-cc45ffbe89b5",
   "metadata": {},
   "outputs": [
    {
     "data": {
      "text/plain": [
       "'Mindig az utolsó változó van a képernyőn a Jupyterben'"
      ]
     },
     "execution_count": 17,
     "metadata": {},
     "output_type": "execute_result"
    }
   ],
   "source": [
    "\"\"\"\n",
    "Igazából ez egy több soros szöveg.\n",
    "A jupyter ha talál egy kiírható változót a cella utolsó sorában, akkor azt kiírja.\n",
    "Itt igazából annyi történik, hogy egy szöveget írunk, viszont nem mentjük segova.\n",
    "Ezzel lett megoldva pythonban a több soros komment\n",
    "\"\"\"\n",
    "\"Mindig az utolsó változó van a képernyőn a Jupyterben\""
   ]
  },
  {
   "cell_type": "markdown",
   "id": "d7eb02b4-bfaa-405d-b1a6-3c5437ce7705",
   "metadata": {},
   "source": [
    "___\n",
    "## Alapvető típusok"
   ]
  },
  {
   "cell_type": "code",
   "execution_count": 14,
   "id": "59347b88-eb59-4941-ad11-22fd85094d32",
   "metadata": {},
   "outputs": [
    {
     "data": {
      "text/plain": [
       "(int, 1)"
      ]
     },
     "execution_count": 14,
     "metadata": {},
     "output_type": "execute_result"
    }
   ],
   "source": [
    "# int: egész szám\n",
    "type(1), 1"
   ]
  },
  {
   "cell_type": "code",
   "execution_count": 13,
   "id": "523067f9-ee63-4a6f-861f-8016ee71832d",
   "metadata": {},
   "outputs": [
    {
     "data": {
      "text/plain": [
       "(float, 1.2323)"
      ]
     },
     "execution_count": 13,
     "metadata": {},
     "output_type": "execute_result"
    }
   ],
   "source": [
    "# float: tört szám\n",
    "type(1.2323), 1.2323"
   ]
  },
  {
   "cell_type": "code",
   "execution_count": 38,
   "id": "72518f28-8841-490a-85e7-fecf7293b9e4",
   "metadata": {},
   "outputs": [
    {
     "data": {
      "text/plain": [
       "(str, str, 'alma', 'alma')"
      ]
     },
     "execution_count": 38,
     "metadata": {},
     "output_type": "execute_result"
    }
   ],
   "source": [
    "# str: szöveg (más helyeken string-ként is használják, \" és ' is használható a jelölésére)\n",
    "type(\"alma\"), type(\"alma\"), \"alma\", 'alma'"
   ]
  },
  {
   "cell_type": "code",
   "execution_count": 40,
   "id": "4454e9b2-c348-45bf-8369-5e780d307b11",
   "metadata": {},
   "outputs": [
    {
     "data": {
      "text/plain": [
       "(bool, False)"
      ]
     },
     "execution_count": 40,
     "metadata": {},
     "output_type": "execute_result"
    }
   ],
   "source": [
    "# bool: igaz/hamis érték (True/false)\n",
    "# (más helyeken booleanként is használják)\n",
    "type(True), False"
   ]
  },
  {
   "cell_type": "code",
   "execution_count": 1,
   "id": "2f096fd0-c652-479d-8ccb-3470ccc1d0fb",
   "metadata": {},
   "outputs": [
    {
     "data": {
      "text/plain": [
       "(type, str)"
      ]
     },
     "execution_count": 1,
     "metadata": {},
     "output_type": "execute_result"
    }
   ],
   "source": [
    "# type: ezek a típusok pl str, int, float\n",
    "# Ezeknek van egy külön típusa, amit type-nak hívnak\n",
    "type(str), str"
   ]
  },
  {
   "cell_type": "markdown",
   "id": "815ed56f-9bba-4985-bcb3-f663fad75e5f",
   "metadata": {
    "tags": []
   },
   "source": [
    "___\n",
    "## Alapvető operátorok"
   ]
  },
  {
   "cell_type": "markdown",
   "id": "9f565200-eb78-42e0-acdf-0904a03114f4",
   "metadata": {},
   "source": [
    "### = operator\n",
    "Az = jel értékadást jelent. (Ha kiolvasni szeretnénk, akkor \"legyen\"-nek olvassuk)"
   ]
  },
  {
   "cell_type": "code",
   "execution_count": 3,
   "id": "5c508bf8-6a72-4704-b8fa-ecaf0533eded",
   "metadata": {},
   "outputs": [
    {
     "data": {
      "text/plain": [
       "1"
      ]
     },
     "execution_count": 3,
     "metadata": {},
     "output_type": "execute_result"
    }
   ],
   "source": [
    "# Változó=érték esetén a változó mostantól azt az értéket jelenti\n",
    "a=1\n",
    "a"
   ]
  },
  {
   "cell_type": "code",
   "execution_count": 5,
   "id": "1f676e8d-5eb0-4c57-b8f4-21097fbc25b1",
   "metadata": {},
   "outputs": [
    {
     "data": {
      "text/plain": [
       "1"
      ]
     },
     "execution_count": 5,
     "metadata": {},
     "output_type": "execute_result"
    }
   ],
   "source": [
    "# Változó=változó esetén a baloldali változó értéke a jobb oldali változó értéke lesz\n",
    "a = 1\n",
    "b = a\n",
    "b"
   ]
  },
  {
   "cell_type": "code",
   "execution_count": 1,
   "id": "9a5405c2",
   "metadata": {},
   "outputs": [
    {
     "name": "stdout",
     "output_type": "stream",
     "text": [
      "a:  1\n",
      "b:  2\n"
     ]
    }
   ],
   "source": [
    "# Ha egy sorban több változónak is értéket szeretnénk adni, azt is megtehetjük\n",
    "a, b = 1, 2\n",
    "print(\"a: \", a)\n",
    "print(\"b: \", b)"
   ]
  },
  {
   "cell_type": "code",
   "execution_count": 7,
   "id": "3a36a155-1167-46fa-b351-b5de424a8861",
   "metadata": {},
   "outputs": [
    {
     "name": "stdout",
     "output_type": "stream",
     "text": [
      "alma\n",
      "alma\n"
     ]
    }
   ],
   "source": [
    "# Függvénynév esetén egy már meglévő függvényt is felül tudunk írni, de újra is tudunk nevezni egy létező függvényt (függvényekről részletek később)\n",
    "p=print\n",
    "print(\"alma\")\n",
    "p(\"alma\")"
   ]
  },
  {
   "cell_type": "markdown",
   "id": "24498c30-b655-4a95-b1e5-0f66523d9324",
   "metadata": {},
   "source": [
    "## + operátor\n",
    "a + jel összead, vagy összeköt dolgokat"
   ]
  },
  {
   "cell_type": "code",
   "execution_count": 19,
   "id": "000ca23e-5243-4a97-aa27-d921a2917478",
   "metadata": {},
   "outputs": [
    {
     "data": {
      "text/plain": [
       "3"
      ]
     },
     "execution_count": 19,
     "metadata": {},
     "output_type": "execute_result"
    }
   ],
   "source": [
    "# Két szám összeadásakor az összeadás hajtódik végre\n",
    "# Ez igaz arra is, ha két értéket adunk össze, de ugynígy működik, ha egy számot tartalmazó változó van az egyik oldalon\n",
    "1+2"
   ]
  },
  {
   "cell_type": "code",
   "execution_count": 20,
   "id": "08b02ccb-b60b-429e-9364-d11706916cfd",
   "metadata": {},
   "outputs": [
    {
     "data": {
      "text/plain": [
       "4.2"
      ]
     },
     "execution_count": 20,
     "metadata": {},
     "output_type": "execute_result"
    }
   ],
   "source": [
    "# Tört egésszel összeadásból automatikusan törtet csinál\n",
    "1.2+3"
   ]
  },
  {
   "cell_type": "code",
   "execution_count": 21,
   "id": "9a794eaf-d589-4953-a537-e213848e4416",
   "metadata": {},
   "outputs": [
    {
     "data": {
      "text/plain": [
       "'almafa'"
      ]
     },
     "execution_count": 21,
     "metadata": {},
     "output_type": "execute_result"
    }
   ],
   "source": [
    "# Két szöveg esetén összefűzi\n",
    "\"alma\"+\"fa\""
   ]
  },
  {
   "cell_type": "code",
   "execution_count": 43,
   "id": "4a6f3ed3-c96b-4e67-a9f2-0f4bce5e287b",
   "metadata": {},
   "outputs": [
    {
     "data": {
      "text/plain": [
       "(4.2, 9.2, 13.399999999999999)"
      ]
     },
     "execution_count": 43,
     "metadata": {},
     "output_type": "execute_result"
    }
   ],
   "source": [
    "# Változók ugyanúgy működnek, mintha az értéküket írnánk oda\n",
    "b = a+5\n",
    "c = a+b\n",
    "a, b, c"
   ]
  },
  {
   "cell_type": "code",
   "execution_count": 42,
   "id": "3d6a62b6-a5a9-4d3f-8fe9-607ebc562777",
   "metadata": {},
   "outputs": [
    {
     "ename": "TypeError",
     "evalue": "unsupported operand type(s) for +: 'int' and 'str'",
     "output_type": "error",
     "traceback": [
      "\u001b[1;31m---------------------------------------------------------------------------\u001b[0m",
      "\u001b[1;31mTypeError\u001b[0m                                 Traceback (most recent call last)",
      "\u001b[1;32mC:\\Users\\Public\\Documents\\Wondershare\\CreatorTemp/ipykernel_13280/1632807554.py\u001b[0m in \u001b[0;36m<module>\u001b[1;34m\u001b[0m\n\u001b[0;32m      1\u001b[0m \u001b[1;31m# Számot szöveggel nem tudunk összefűzni, később tanuljuk, hogyan lehet ezt megcsinálni\u001b[0m\u001b[1;33m\u001b[0m\u001b[1;33m\u001b[0m\u001b[0m\n\u001b[1;32m----> 2\u001b[1;33m \u001b[1;36m3\u001b[0m\u001b[1;33m+\u001b[0m\u001b[1;34m\" alma\"\u001b[0m\u001b[1;33m\u001b[0m\u001b[1;33m\u001b[0m\u001b[0m\n\u001b[0m",
      "\u001b[1;31mTypeError\u001b[0m: unsupported operand type(s) for +: 'int' and 'str'"
     ]
    }
   ],
   "source": [
    "# Számot szöveggel nem tudunk összefűzni, később tanuljuk, hogyan lehet ezt megcsinálni\n",
    "3+\" alma\""
   ]
  },
  {
   "cell_type": "markdown",
   "id": "bad06fd6-b39a-499f-8c67-52f03f1e179a",
   "metadata": {},
   "source": [
    "## += operátor\n",
    "A += gyakorlatilag rövidítés a hozzáadásra"
   ]
  },
  {
   "cell_type": "code",
   "execution_count": 3,
   "id": "636671fc-c8eb-4355-a9fd-f0042a60cc78",
   "metadata": {},
   "outputs": [
    {
     "name": "stdout",
     "output_type": "stream",
     "text": [
      "3\n",
      "asd asd\n"
     ]
    }
   ],
   "source": [
    "a = 1\n",
    "\n",
    "a = a+1\n",
    "# Tehát az a+=1 az a=a+1 rövidített változata\n",
    "a+=1\n",
    "\n",
    "print(a)\n",
    "\n",
    "# Ez az operátor stringre és törtre is igaz\n",
    "a = \"asd\"\n",
    "a+= \" asd\"\n",
    "print(a)"
   ]
  },
  {
   "cell_type": "markdown",
   "id": "fbe60c5d-5ff9-48ce-a12c-b690cef25acc",
   "metadata": {},
   "source": [
    "## -, /, * operátor\n",
    "A - / * jelek azt jelentik, mint a matematikában"
   ]
  },
  {
   "cell_type": "code",
   "execution_count": 31,
   "id": "99ebb019-1d41-4835-887e-b55bce64c66d",
   "metadata": {},
   "outputs": [
    {
     "data": {
      "text/plain": [
       "1"
      ]
     },
     "execution_count": 31,
     "metadata": {},
     "output_type": "execute_result"
    }
   ],
   "source": [
    "3-2"
   ]
  },
  {
   "cell_type": "code",
   "execution_count": 32,
   "id": "79b26b33-fcb6-40c2-a008-1d6edcd7a4d0",
   "metadata": {},
   "outputs": [
    {
     "data": {
      "text/plain": [
       "10"
      ]
     },
     "execution_count": 32,
     "metadata": {},
     "output_type": "execute_result"
    }
   ],
   "source": [
    "2*5"
   ]
  },
  {
   "cell_type": "code",
   "execution_count": 48,
   "id": "c83befa9-d9e5-4986-b3c6-07147a92003e",
   "metadata": {},
   "outputs": [
    {
     "data": {
      "text/plain": [
       "7.0"
      ]
     },
     "execution_count": 48,
     "metadata": {},
     "output_type": "execute_result"
    }
   ],
   "source": [
    "# Az osztás akor is törtet csinál, ha egész számra jön ki az eredmény\n",
    "21/3"
   ]
  },
  {
   "cell_type": "code",
   "execution_count": 60,
   "id": "fe3a77b0-5c61-46fa-893e-16633e61f8cf",
   "metadata": {},
   "outputs": [
    {
     "data": {
      "text/plain": [
       "0.3333333333333333"
      ]
     },
     "execution_count": 60,
     "metadata": {},
     "output_type": "execute_result"
    }
   ],
   "source": [
    "# Az osztásról és a törtekről azt érdemes még tudni, hogyha van, hogy egy az eredményhez nagyon közeli értéket ad vissza, de mégsem a várt eredményt\n",
    "# (Ez 2-es számrendszer számábrázolásából jön, ha valakit érdekel a háttere)\n",
    "1/3"
   ]
  },
  {
   "cell_type": "code",
   "execution_count": 64,
   "id": "cb81673a-fd96-4976-ad2e-05ee8b906e79",
   "metadata": {},
   "outputs": [
    {
     "name": "stdout",
     "output_type": "stream",
     "text": [
      "nagyárpinagyárpinagyárpinagyárpinagyárpi\n",
      "nagyárpinagyárpinagyárpinagyárpinagyárpi\n"
     ]
    }
   ],
   "source": [
    "# * jel szövegen\n",
    "# megsokszorozva teszi egymás mögé a megszorzott szöveget\n",
    "print(\"nagyárpi\"*5)\n",
    "print(5*\"nagyárpi\")"
   ]
  },
  {
   "cell_type": "markdown",
   "id": "3d1b1c6b-ba13-4778-bd1a-de0d3ba4ab31",
   "metadata": {},
   "source": [
    "## % operátor\n",
    "A % jel az osztási maradékot jelenti"
   ]
  },
  {
   "cell_type": "code",
   "execution_count": 44,
   "id": "34ca34e3-15d2-4a3d-8b87-fea45145ab74",
   "metadata": {},
   "outputs": [
    {
     "data": {
      "text/plain": [
       "1"
      ]
     },
     "execution_count": 44,
     "metadata": {},
     "output_type": "execute_result"
    }
   ],
   "source": [
    "# Ha a 10-et elosztjuk 3-mal, az 3, és marad 1, amit már nem tudunk hova tenni\n",
    "10%3"
   ]
  },
  {
   "cell_type": "code",
   "execution_count": 55,
   "id": "31ed246b-1263-4387-8206-d1e0d597c70b",
   "metadata": {},
   "outputs": [
    {
     "data": {
      "text/plain": [
       "0.019999999999999574"
      ]
     },
     "execution_count": 55,
     "metadata": {},
     "output_type": "execute_result"
    }
   ],
   "source": [
    "# Ez törtekre is igaz, bár itt vigyázni kell a prontossággal ami a 2-es számrendszerből adódik\n",
    "8.42 % 2.1"
   ]
  },
  {
   "cell_type": "markdown",
   "id": "f20d8c88-9558-476f-a42e-8bf30124a07a",
   "metadata": {},
   "source": [
    "## ** operátorok\n",
    "Így lehet a hatványozást kiszámoltatni"
   ]
  },
  {
   "cell_type": "code",
   "execution_count": 67,
   "id": "5fc3c17f-89e7-466b-86b9-c9e02ce849b8",
   "metadata": {},
   "outputs": [
    {
     "data": {
      "text/plain": [
       "32"
      ]
     },
     "execution_count": 67,
     "metadata": {},
     "output_type": "execute_result"
    }
   ],
   "source": [
    "# Hatványozás: 2 az 5-en annyit tesz, hogy 5* szorozzuk össze a 2-t\n",
    "# Tehát 2*2*2*2*2\n",
    "2**5"
   ]
  },
  {
   "cell_type": "code",
   "execution_count": 70,
   "id": "c6e1fce4-1810-4ca1-b57f-992a5e9416ca",
   "metadata": {},
   "outputs": [],
   "source": [
    "# A gyökvonáshoz külön függvényt kell használni, ami egy külön felyezetben lesz"
   ]
  }
 ],
 "metadata": {
  "kernelspec": {
   "display_name": "Python 3 (ipykernel)",
   "language": "python",
   "name": "python3"
  },
  "language_info": {
   "codemirror_mode": {
    "name": "ipython",
    "version": 3
   },
   "file_extension": ".py",
   "mimetype": "text/x-python",
   "name": "python",
   "nbconvert_exporter": "python",
   "pygments_lexer": "ipython3",
   "version": "3.10.4"
  }
 },
 "nbformat": 4,
 "nbformat_minor": 5
}
