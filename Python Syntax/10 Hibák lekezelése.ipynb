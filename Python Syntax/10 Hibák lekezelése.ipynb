{
 "cells": [
  {
   "cell_type": "markdown",
   "id": "f3a4c629-739d-444d-8083-3b6d8bbc8fdb",
   "metadata": {},
   "source": [
    "# Hibák lekezelése"
   ]
  },
  {
   "cell_type": "markdown",
   "id": "ff6e693f-8522-49d6-b39b-5e9d1adf5263",
   "metadata": {},
   "source": [
    "## Try-Except"
   ]
  },
  {
   "cell_type": "code",
   "execution_count": 1,
   "id": "43c36e12-2aa7-4472-acb7-b2588b4a3620",
   "metadata": {},
   "outputs": [
    {
     "name": "stdout",
     "output_type": "stream",
     "text": [
      "Hibát dobtunk, de nincs error\n"
     ]
    }
   ],
   "source": [
    "# A try-excpet (más nyelveken try-catch) segít, hogy egy esetleges hiba esetén ne szálljon el az alkalmazás, esetleg magyarázóbb hibaüzenetet adjunk\n",
    "try:\n",
    "    int(\"asd\")\n",
    "except:\n",
    "    print(\"Hibát dobtunk, de nincs error\")"
   ]
  },
  {
   "cell_type": "code",
   "execution_count": 2,
   "id": "b80f7a5f-6052-4e72-bae5-3af9bda8d320",
   "metadata": {},
   "outputs": [
    {
     "name": "stdout",
     "output_type": "stream",
     "text": [
      "Mert a hiba miatt ez fut le\n"
     ]
    }
   ],
   "source": [
    "# Ha a try-on belül hibát dobunk, akkor a hiba utáni dolgok nem futnak le\n",
    "try:\n",
    "    int(\"asd\")\n",
    "    print(\"Ez nem fut le\")\n",
    "except:\n",
    "    print(\"Mert a hiba miatt ez fut le\")"
   ]
  },
  {
   "cell_type": "code",
   "execution_count": 3,
   "id": "f510f0b8-f701-4072-9938-c304e84da06d",
   "metadata": {},
   "outputs": [
    {
     "name": "stdout",
     "output_type": "stream",
     "text": [
      "Ha nincs hiba, akkor csak eddig fut\n"
     ]
    }
   ],
   "source": [
    "# Az excepten belüli rész csak akkor fut le, ha hibát dobunk\n",
    "try:\n",
    "    print(\"Ha nincs hiba, akkor csak eddig fut\")\n",
    "except:\n",
    "    print(\"Mert az exceptnek nem volt mit elkapni\")"
   ]
  },
  {
   "cell_type": "code",
   "execution_count": 13,
   "id": "00115aef-a959-4f08-a48e-c0107beeb0cc",
   "metadata": {},
   "outputs": [
    {
     "name": "stdout",
     "output_type": "stream",
     "text": [
      "Itt hibára futunk\n",
      "Viszont ez is lefut\n",
      "___\n",
      "\n",
      "Most nem dobunk hibát\n",
      "Viszont ez így is lefut\n"
     ]
    }
   ],
   "source": [
    "# Ha szeretnénk, hogy egy kódrészlet mindenképp lefusson, azt finally-be kell tenni\n",
    "try:\n",
    "    int(\"asd\")\n",
    "except:\n",
    "    print(\"Itt hibára futunk\")\n",
    "finally:\n",
    "    print(\"Viszont ez is lefut\")\n",
    "    \n",
    "print(\"___\\n\")\n",
    "\n",
    "try:\n",
    "    int(\"1\")\n",
    "    print(\"Most nem dobunk hibát\")\n",
    "except:\n",
    "    print(\"Ez nem fut le\")\n",
    "finally:\n",
    "    print(\"Viszont ez így is lefut\")"
   ]
  },
  {
   "cell_type": "code",
   "execution_count": 20,
   "id": "43088b56-e25a-4f37-95cc-6685a4506bca",
   "metadata": {},
   "outputs": [
    {
     "name": "stdout",
     "output_type": "stream",
     "text": [
      "Hiba történt\n"
     ]
    },
    {
     "ename": "ValueError",
     "evalue": "invalid literal for int() with base 10: 'asd'",
     "output_type": "error",
     "traceback": [
      "\u001b[1;31m---------------------------------------------------------------------------\u001b[0m",
      "\u001b[1;31mValueError\u001b[0m                                Traceback (most recent call last)",
      "\u001b[1;32mC:\\Users\\Public\\Documents\\Wondershare\\CreatorTemp/ipykernel_14836/2661011486.py\u001b[0m in \u001b[0;36m<module>\u001b[1;34m\u001b[0m\n\u001b[0;32m      2\u001b[0m \u001b[1;31m# Ez automatikusan el fogja dobni az elkapott hibát\u001b[0m\u001b[1;33m\u001b[0m\u001b[1;33m\u001b[0m\u001b[0m\n\u001b[0;32m      3\u001b[0m \u001b[1;32mtry\u001b[0m\u001b[1;33m:\u001b[0m\u001b[1;33m\u001b[0m\u001b[1;33m\u001b[0m\u001b[0m\n\u001b[1;32m----> 4\u001b[1;33m     \u001b[0mint\u001b[0m\u001b[1;33m(\u001b[0m\u001b[1;34m\"asd\"\u001b[0m\u001b[1;33m)\u001b[0m\u001b[1;33m\u001b[0m\u001b[1;33m\u001b[0m\u001b[0m\n\u001b[0m\u001b[0;32m      5\u001b[0m \u001b[1;32mexcept\u001b[0m\u001b[1;33m:\u001b[0m\u001b[1;33m\u001b[0m\u001b[1;33m\u001b[0m\u001b[0m\n\u001b[0;32m      6\u001b[0m     \u001b[0mprint\u001b[0m\u001b[1;33m(\u001b[0m\u001b[1;34m\"Hiba történt\"\u001b[0m\u001b[1;33m)\u001b[0m\u001b[1;33m\u001b[0m\u001b[1;33m\u001b[0m\u001b[0m\n",
      "\u001b[1;31mValueError\u001b[0m: invalid literal for int() with base 10: 'asd'"
     ]
    }
   ],
   "source": [
    "# Ha azt szeretnénk, hogy az exceptben leírt lekezelés után ismét eldobjuk a hibát \"raise\"-elnünk kell\n",
    "# Ez automatikusan el fogja dobni az elkapott hibát\n",
    "try:\n",
    "    int(\"asd\")\n",
    "except:\n",
    "    print(\"Hiba történt\")\n",
    "    raise"
   ]
  },
  {
   "cell_type": "markdown",
   "id": "b4f0977d-3f7a-4f3b-9fb8-7b10c5e429b5",
   "metadata": {},
   "source": [
    "___\n",
    "## Hiba felhasználása az exceptben"
   ]
  },
  {
   "cell_type": "code",
   "execution_count": 14,
   "id": "93486c59-dc0c-4464-a468-55822a3700e5",
   "metadata": {},
   "outputs": [
    {
     "name": "stdout",
     "output_type": "stream",
     "text": [
      "Hiba történt:  invalid literal for int() with base 10: 'asd'\n"
     ]
    }
   ],
   "source": [
    "import sys\n",
    "\n",
    "# Ha fel szeretnénk használni a hibát, akkor az Except után kell írni a típust, amit el szeretnénk kapni, és a változó nevet egy as után\n",
    "try:\n",
    "    int(\"asd\")\n",
    "except Exception as e:\n",
    "    print(\"Hiba történt: \", e)"
   ]
  },
  {
   "cell_type": "markdown",
   "id": "61c257ba-cad3-4dce-b71a-a790342a149e",
   "metadata": {},
   "source": [
    "___\n",
    "## Speciális hibák elkapása"
   ]
  },
  {
   "cell_type": "code",
   "execution_count": 6,
   "id": "a6bac4da-4fc3-4565-a240-2b741adb508b",
   "metadata": {},
   "outputs": [
    {
     "ename": "ValueError",
     "evalue": "invalid literal for int() with base 10: 'asd'",
     "output_type": "error",
     "traceback": [
      "\u001b[1;31m---------------------------------------------------------------------------\u001b[0m",
      "\u001b[1;31mValueError\u001b[0m                                Traceback (most recent call last)",
      "\u001b[1;32mC:\\Users\\Public\\Documents\\Wondershare\\CreatorTemp/ipykernel_14836/1810148556.py\u001b[0m in \u001b[0;36m<module>\u001b[1;34m\u001b[0m\n\u001b[0;32m      1\u001b[0m \u001b[1;31m# Ha egy specifikus hibatípust szeretnénk elkapni, ezt a hiba típusának a megnevezésével tudjuk megtenni\u001b[0m\u001b[1;33m\u001b[0m\u001b[1;33m\u001b[0m\u001b[0m\n\u001b[0;32m      2\u001b[0m \u001b[1;31m# Nézzük, honnan tudjuk meg a hiba típusát\u001b[0m\u001b[1;33m\u001b[0m\u001b[1;33m\u001b[0m\u001b[0m\n\u001b[1;32m----> 3\u001b[1;33m \u001b[0mint\u001b[0m\u001b[1;33m(\u001b[0m\u001b[1;34m\"asd\"\u001b[0m\u001b[1;33m)\u001b[0m\u001b[1;33m\u001b[0m\u001b[1;33m\u001b[0m\u001b[0m\n\u001b[0m",
      "\u001b[1;31mValueError\u001b[0m: invalid literal for int() with base 10: 'asd'"
     ]
    }
   ],
   "source": [
    "# Ha egy specifikus hibatípust szeretnénk elkapni, ezt a hiba típusának a megnevezésével tudjuk megtenni\n",
    "# Nézzük, honnan tudjuk meg a hiba típusát\n",
    "int(\"asd\")"
   ]
  },
  {
   "cell_type": "code",
   "execution_count": 7,
   "id": "67ee1899-2f6a-4f03-ae66-92fa0cf99881",
   "metadata": {},
   "outputs": [
    {
     "name": "stdout",
     "output_type": "stream",
     "text": [
      "simán a változó kiírása:  invalid literal for int() with base 10: 'asd'\n"
     ]
    }
   ],
   "source": [
    "# A hiba típusa pirossal van kiírva a legelején is, és a message elején is\n",
    "try:\n",
    "    int(\"asd\")\n",
    "except ValueError as e:\n",
    "    print(\"simán a változó kiírása: \", e)"
   ]
  },
  {
   "cell_type": "code",
   "execution_count": 8,
   "id": "5ce5b235-ee51-40b3-8da3-ef8b95009be6",
   "metadata": {},
   "outputs": [
    {
     "ename": "TypeError",
     "evalue": "can only concatenate str (not \"int\") to str",
     "output_type": "error",
     "traceback": [
      "\u001b[1;31m---------------------------------------------------------------------------\u001b[0m",
      "\u001b[1;31mTypeError\u001b[0m                                 Traceback (most recent call last)",
      "\u001b[1;32mC:\\Users\\Public\\Documents\\Wondershare\\CreatorTemp/ipykernel_14836/1562906102.py\u001b[0m in \u001b[0;36m<module>\u001b[1;34m\u001b[0m\n\u001b[0;32m      1\u001b[0m \u001b[1;31m# Ha más típusú hiba van, az ugyanúgy elekasztja a programot\u001b[0m\u001b[1;33m\u001b[0m\u001b[1;33m\u001b[0m\u001b[0m\n\u001b[0;32m      2\u001b[0m \u001b[1;32mtry\u001b[0m\u001b[1;33m:\u001b[0m\u001b[1;33m\u001b[0m\u001b[1;33m\u001b[0m\u001b[0m\n\u001b[1;32m----> 3\u001b[1;33m     \u001b[1;34m\"a\"\u001b[0m\u001b[1;33m+\u001b[0m\u001b[1;36m1\u001b[0m\u001b[1;33m\u001b[0m\u001b[1;33m\u001b[0m\u001b[0m\n\u001b[0m\u001b[0;32m      4\u001b[0m \u001b[1;32mexcept\u001b[0m \u001b[0mValueError\u001b[0m \u001b[1;32mas\u001b[0m \u001b[0me\u001b[0m\u001b[1;33m:\u001b[0m\u001b[1;33m\u001b[0m\u001b[1;33m\u001b[0m\u001b[0m\n\u001b[0;32m      5\u001b[0m     \u001b[0mprint\u001b[0m\u001b[1;33m(\u001b[0m\u001b[1;34m\"simán a változó kiírása: \"\u001b[0m\u001b[1;33m,\u001b[0m \u001b[0me\u001b[0m\u001b[1;33m)\u001b[0m\u001b[1;33m\u001b[0m\u001b[1;33m\u001b[0m\u001b[0m\n",
      "\u001b[1;31mTypeError\u001b[0m: can only concatenate str (not \"int\") to str"
     ]
    }
   ],
   "source": [
    "# Ha más típusú hiba van, az ugyanúgy elekasztja a programot\n",
    "try:\n",
    "    \"a\"+1\n",
    "except ValueError as e:\n",
    "    print(\"simán a változó kiírása: \", e)"
   ]
  },
  {
   "cell_type": "code",
   "execution_count": 10,
   "id": "e45407f8-89fa-4dfd-86a8-5fd6ac11db37",
   "metadata": {},
   "outputs": [
    {
     "name": "stdout",
     "output_type": "stream",
     "text": [
      "TypeErrort kaptam el\n",
      "____\n",
      "\n",
      "ValueErrort kaptam el\n"
     ]
    }
   ],
   "source": [
    "# Ha több hibatípust szeretnénk elkapni, akkor vesszővel elválaszva tudjuk elkapni\n",
    "try:\n",
    "    \"a\"+1\n",
    "    int(\"asd\")\n",
    "except TypeError as e:\n",
    "    print(\"TypeErrort kaptam el\")\n",
    "except ValueError as e:\n",
    "    print(\"ValueErrort kaptam el\")\n",
    "\n",
    "print(\"____\\n\")\n",
    "\n",
    "# Itt mindig az első hiba akasztja el, mert a másikra nem fut már rá\n",
    "try:\n",
    "    int(\"asd\")\n",
    "    \"a\"+1\n",
    "except TypeError as e:\n",
    "    print(\"TypeErrort kaptam el\")\n",
    "except ValueError as e:\n",
    "    print(\"ValueErrort kaptam el\")"
   ]
  }
 ],
 "metadata": {
  "kernelspec": {
   "display_name": "Python 3 (ipykernel)",
   "language": "python",
   "name": "python3"
  },
  "language_info": {
   "codemirror_mode": {
    "name": "ipython",
    "version": 3
   },
   "file_extension": ".py",
   "mimetype": "text/x-python",
   "name": "python",
   "nbconvert_exporter": "python",
   "pygments_lexer": "ipython3",
   "version": "3.9.7"
  }
 },
 "nbformat": 4,
 "nbformat_minor": 5
}
