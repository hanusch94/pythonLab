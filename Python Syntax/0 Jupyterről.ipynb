{
 "cells": [
  {
   "cell_type": "markdown",
   "id": "2d3c0f0f-de8b-4db0-99df-76af1095b399",
   "metadata": {},
   "source": [
    "A jupyter egy fejlesztőkörnyezet. Két típusú munkára tökéletes. Tudásátadás és prezentáció (kutatói munka, és hasonló munkák menedzsereknek prezentálásra)"
   ]
  },
  {
   "cell_type": "markdown",
   "id": "b543af68-c3d1-4a4d-98dc-72442fa7703a",
   "metadata": {},
   "source": [
    "Ennek részben oka, hogy\n",
    "# Speciális szövegeket\n",
    "is tudunk benne kezelni\n",
    "___\n",
    "vagy akár vonalat tudunk húzni három _ egymás mögé írásával"
   ]
  },
  {
   "cell_type": "markdown",
   "id": "4496dfa3-0fb0-4b5e-aaa1-fec5b168c103",
   "metadata": {},
   "source": [
    "Emellett grafikonok kirajzolására is alkalmas, amire a python környezetek nagy részében nincs nagyon kényelmes megoldás"
   ]
  },
  {
   "cell_type": "markdown",
   "id": "49bb0311-31e6-4e8a-9203-cefd68cd16e3",
   "metadata": {},
   "source": [
    "## Legfontosabb gyorsgombok a környezet használatához\n",
    "- Shift+Enter: Sor futtatása következős sorba ugrással (ha nincs következő sor, akkor létrejön)\n",
    "- Control+Enter: Sor futtatása a sorban maradással\n",
    "- D, D: sor törtlése"
   ]
  },
  {
   "cell_type": "markdown",
   "id": "f27a5370-1802-419b-ab66-4d8208d83410",
   "metadata": {},
   "source": [
    "## Cell futtatása\n",
    "egy cell a futtatása esetén megmaradnak a változók, de egyszerűbb mutatva"
   ]
  },
  {
   "cell_type": "code",
   "execution_count": 8,
   "id": "a2274511-fb25-4731-be98-3f3c5ab779e5",
   "metadata": {},
   "outputs": [],
   "source": [
    "# A SOR\n",
    "#Futtassuk le ezt a sort\n",
    "a = \"A sorban voltam utoljára\""
   ]
  },
  {
   "cell_type": "code",
   "execution_count": 5,
   "id": "6eb5eebe-3d1f-415a-9bb7-596151277f79",
   "metadata": {},
   "outputs": [],
   "source": [
    "# B SOR\n",
    "#Majd futtassuk le ezt\n",
    "a = \"B sorban voltam utoljára\""
   ]
  },
  {
   "cell_type": "code",
   "execution_count": 9,
   "id": "5f5683ad-a479-410f-9b04-59f91075f685",
   "metadata": {},
   "outputs": [
    {
     "data": {
      "text/plain": [
       "'A sorban voltam utoljára'"
      ]
     },
     "execution_count": 9,
     "metadata": {},
     "output_type": "execute_result"
    }
   ],
   "source": [
    "# KIÍRÓ SOR\n",
    "# Ha ezt a sort lefuttatjuk, a B sort kapjuk\n",
    "a"
   ]
  },
  {
   "cell_type": "code",
   "execution_count": 7,
   "id": "73094f80-f8c0-4bd0-bb0f-3b584c97a594",
   "metadata": {},
   "outputs": [],
   "source": [
    "#Viszont ha visszamegyünk az A SOR-ra, és a B sor kihagyásával futtatjuk a KIÍRÓ SOR-t, akkor A sort kapunk"
   ]
  }
 ],
 "metadata": {
  "kernelspec": {
   "display_name": "Python 3 (ipykernel)",
   "language": "python",
   "name": "python3"
  },
  "language_info": {
   "codemirror_mode": {
    "name": "ipython",
    "version": 3
   },
   "file_extension": ".py",
   "mimetype": "text/x-python",
   "name": "python",
   "nbconvert_exporter": "python",
   "pygments_lexer": "ipython3",
   "version": "3.9.7"
  }
 },
 "nbformat": 4,
 "nbformat_minor": 5
}
