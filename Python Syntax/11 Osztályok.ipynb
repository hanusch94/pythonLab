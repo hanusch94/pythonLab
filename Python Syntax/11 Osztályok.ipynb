{
 "cells": [
  {
   "cell_type": "markdown",
   "id": "ba68242b-8e0a-4359-a6a9-eaa36e6fa2e7",
   "metadata": {},
   "source": [
    "# Osztályok\n",
    "Az osztályoknak az a funkciója, hogy egy egységbe zárható dolgot (entitást) valósítsanak meg\n",
    "De nézzünk rá példát"
   ]
  },
  {
   "cell_type": "markdown",
   "id": "0044617b-8570-45dd-882c-202d55d43f92",
   "metadata": {},
   "source": [
    "___\n",
    "## Első verzió\n",
    "- Ha egy játékban egy puskát szeretnénk valahogy lekódolni, akkor tudunk osztályt használni erre\n",
    "- Legyen egy Puska nevű osztályunk:\n",
    "    - Van X tölténye\n",
    "    - Lehet vele lőni (csökken a töltények száma 1-gyel)\n",
    "    - Újra lehessen tölteni (a max töltényre álljon vissza a töltény szám)\n",
    "    - print()-tel ki tudjuk írni az aktuális töltényszámot és a max töltényszámot"
   ]
  },
  {
   "cell_type": "code",
   "execution_count": 6,
   "id": "9355c64c-dc5e-42ce-ada7-961c18a64030",
   "metadata": {},
   "outputs": [],
   "source": [
    "class Puska:\n",
    "    \n",
    "    # A construktor mondja meg, hogy hogyan tudjuk majd létrehozni egy osztályt\n",
    "    # Ha nincs konstruktor leírva, akkor az üres konstruktól automatikusan létezik (a = Puska())\n",
    "    # Mi azt szeretnénk, hogy meg tudjuk adni a max töltényszámot a létrehozáskor, ezért kell egy konstruktor\n",
    "    # Az osztály függvényeiben az első paraméternek mindig self-nek kell lenni, ami arra szolgál, hogy a függvény az adott példányra (létrehozott Puska-ra vonatkozzon)\n",
    "    def __init__(self, toltenyszam):\n",
    "        # Kettő változóra van szükségünk. Ezeket a self.valtozónévvel tudjuk létrehozni\n",
    "            # Az első az aktuális töltényeket mutassa\n",
    "        self.toltenyszam = toltenyszam\n",
    "            # A második a maximumot, hogy tudjuk, mire kell állítani a töltés esetén\n",
    "        self.maxTöltenyszam = toltenyszam\n",
    "    \n",
    "    # Nézzük a lövést. Annyi dolgunkak van, hogy a töltényszámot csökkentsük 1-gyel\n",
    "    def loves(self):\n",
    "        self.toltenyszam -= 1\n",
    "        \n",
    "    # Az újratöltéshez a töltényszámot a maxtöltényszámmal kell egyenlővé tenni\n",
    "    def toltes(self):\n",
    "        self.toltenyszam = self.maxTöltenyszam\n",
    "    \n",
    "    # A printeléshez a __str__() függvényt kell leírni, amiben azt mondjuk meg, hogy milyen szöveget adjon vissza az osztály, ha meghívódik rá a print()\n",
    "    def __str__(self):\n",
    "        return \"{}/{}\".format(self.toltenyszam, self.maxTöltenyszam)"
   ]
  },
  {
   "cell_type": "markdown",
   "id": "0766ae6d-5368-408d-9837-6d3b0c2b160a",
   "metadata": {},
   "source": [
    "> Futtassuk le a 6-os sort, majd a következő teszteket"
   ]
  },
  {
   "cell_type": "markdown",
   "id": "7b9b6dec-5e3f-4faa-b3ae-1964887febe3",
   "metadata": {},
   "source": [
    "### Teszteljünk"
   ]
  },
  {
   "cell_type": "code",
   "execution_count": 18,
   "id": "bd33b335-aeca-43ac-89f0-71f7af596a88",
   "metadata": {},
   "outputs": [
    {
     "ename": "TypeError",
     "evalue": "__init__() missing 1 required positional argument: 'toltenyszam'",
     "output_type": "error",
     "traceback": [
      "\u001b[1;31m---------------------------------------------------------------------------\u001b[0m",
      "\u001b[1;31mTypeError\u001b[0m                                 Traceback (most recent call last)",
      "\u001b[1;32mC:\\Users\\Public\\Documents\\Wondershare\\CreatorTemp/ipykernel_12076/1514964462.py\u001b[0m in \u001b[0;36m<module>\u001b[1;34m\u001b[0m\n\u001b[0;32m      1\u001b[0m \u001b[1;31m# Példány létrehozás és kiírás\u001b[0m\u001b[1;33m\u001b[0m\u001b[1;33m\u001b[0m\u001b[0m\n\u001b[1;32m----> 2\u001b[1;33m \u001b[0mak\u001b[0m \u001b[1;33m=\u001b[0m \u001b[0mPuska\u001b[0m\u001b[1;33m(\u001b[0m\u001b[1;36m30\u001b[0m\u001b[1;33m)\u001b[0m\u001b[1;33m\u001b[0m\u001b[1;33m\u001b[0m\u001b[0m\n\u001b[0m\u001b[0;32m      3\u001b[0m \u001b[0mprint\u001b[0m\u001b[1;33m(\u001b[0m\u001b[0mak\u001b[0m\u001b[1;33m)\u001b[0m\u001b[1;33m\u001b[0m\u001b[1;33m\u001b[0m\u001b[0m\n",
      "\u001b[1;31mTypeError\u001b[0m: __init__() missing 1 required positional argument: 'toltenyszam'"
     ]
    }
   ],
   "source": [
    "# Példány létrehozás és kiírás\n",
    "ak = Puska(30)\n",
    "print(ak)"
   ]
  },
  {
   "cell_type": "code",
   "execution_count": null,
   "id": "93e61a88-da33-4b65-babd-d61ac6100c7b",
   "metadata": {},
   "outputs": [],
   "source": [
    "# Lövés\n",
    "ak = Puska(30)\n",
    "ak.loves()\n",
    "print(ak)"
   ]
  },
  {
   "cell_type": "code",
   "execution_count": null,
   "id": "412b6a62-7176-42f9-9156-ed15b0ccc5db",
   "metadata": {},
   "outputs": [],
   "source": [
    "# Töltés\n",
    "ak = Puska(30)\n",
    "ak.loves()\n",
    "print(ak)\n",
    "ak.toltes()\n",
    "print(ak)"
   ]
  },
  {
   "cell_type": "code",
   "execution_count": null,
   "id": "c03b0b68-bf53-4898-ae0d-e01deba4e213",
   "metadata": {},
   "outputs": [],
   "source": [
    "# Túl sok lövés\n",
    "vagottCsovu = Puska(2)\n",
    "vagottCsovu.loves()\n",
    "print(vagottCsovu)\n",
    "vagottCsovu.loves()\n",
    "print(vagottCsovu)\n",
    "vagottCsovu.loves()\n",
    "print(vagottCsovu)\n",
    "# Itt vegyük észre, hogy -ba is tud menni a töltényszám\n",
    "# A lövés esetén BOOM kiírásával meg tudjuk különböztetni, ha volt még töltény"
   ]
  },
  {
   "cell_type": "code",
   "execution_count": null,
   "id": "b39fbf77-0dc2-4a48-b742-cf53439e4ffe",
   "metadata": {},
   "outputs": [],
   "source": [
    "# Több fegyver párhuzamosan\n",
    "# Ehhez egy listát fogok használni, amiben puskák lesznek\n",
    "a = [Puska(30), Puska(10), Puska(2), Puska(25)]\n",
    "for lm in a:\n",
    "    lm.loves()\n",
    "for lm in a:\n",
    "    print(lm, end=\"; \")\n",
    "# Segíthetne az átláthatóságon, ha lenne neve a fegyvereknek, ami kiíródna a print esetén"
   ]
  },
  {
   "cell_type": "markdown",
   "id": "67ea8b20-28ad-448d-9e20-f1213d10fd34",
   "metadata": {},
   "source": [
    "## Javítsunk a tesztelés alapján\n",
    "- A teszteléssel 3 fejlesztési pont esett ki\n",
    "    - Név hozzáadása a puskához\n",
    "    - 0-nál ne mehessen lejjebb a töltényszám\n",
    "    - Lövés esetén ha van töltény, írjuk ki a képernyőre, hogy BOOM\n",
    "        - Ha már be van hozva a név, akkor itt is használjuk"
   ]
  },
  {
   "cell_type": "code",
   "execution_count": 27,
   "id": "5d297394-73b3-472b-b482-e4bcc5b23606",
   "metadata": {},
   "outputs": [],
   "source": [
    "class Puska:\n",
    "    \n",
    "    # Adjunk hozzá egy név paramétert a konstruktorhoz\n",
    "    def __init__(self, nev, toltenyszam):\n",
    "        # Ennek a változóját is létre kell hozni\n",
    "        self.nev = nev\n",
    "        self.toltenyszam = toltenyszam\n",
    "        self.maxTöltenyszam = toltenyszam\n",
    "    \n",
    "    def loves(self):\n",
    "        # Ne tudjunk 0 töltényszám esetén lőni\n",
    "        if(0<self.toltenyszam):\n",
    "            self.toltenyszam -= 1\n",
    "            #Idjuk ki, hogy BOOM, ha tudunk lőni\n",
    "            print(\"{}: BOOM\".format(self.nev))\n",
    "        \n",
    "    def toltes(self):\n",
    "        self.toltenyszam = self.maxTöltenyszam\n",
    "    \n",
    "    def __str__(self):\n",
    "        # Adjuk hozzá a nevet a kiírt formátumhoz print() esetén\n",
    "        return \"{}: {}/{}\".format(self.nev, self.toltenyszam, self.maxTöltenyszam)\n"
   ]
  },
  {
   "cell_type": "markdown",
   "id": "6ffc423b-acbf-46ec-be7f-74a5e3131212",
   "metadata": {},
   "source": [
    "> Miután futtattuk a 15-ös sort, futtassuk újra a lenti teszteket"
   ]
  },
  {
   "cell_type": "code",
   "execution_count": 28,
   "id": "8e299b2f-bffc-4585-a4de-675fcb0744b0",
   "metadata": {},
   "outputs": [
    {
     "name": "stdout",
     "output_type": "stream",
     "text": [
      "ak: 30/30\n"
     ]
    }
   ],
   "source": [
    "# Példány létrehozás és kiírás\n",
    "ak = Puska( \"ak\", 30)\n",
    "print(ak)"
   ]
  },
  {
   "cell_type": "code",
   "execution_count": 29,
   "id": "9c6d87a6-e5fc-4979-8a90-3213fa4ff2fb",
   "metadata": {},
   "outputs": [
    {
     "name": "stdout",
     "output_type": "stream",
     "text": [
      "ak: BOOM\n",
      "ak: 29/30\n"
     ]
    }
   ],
   "source": [
    "# Lövés\n",
    "ak = Puska( \"ak\", 30)\n",
    "ak.loves()\n",
    "print(ak)"
   ]
  },
  {
   "cell_type": "code",
   "execution_count": 30,
   "id": "0fc3074c-2394-4aa8-9b18-49a32d0486b6",
   "metadata": {},
   "outputs": [
    {
     "name": "stdout",
     "output_type": "stream",
     "text": [
      "ak: BOOM\n",
      "ak: 29/30\n",
      "ak: 30/30\n"
     ]
    }
   ],
   "source": [
    "# Töltés\n",
    "ak = Puska( \"ak\", 30)\n",
    "ak.loves()\n",
    "print(ak)\n",
    "ak.toltes()\n",
    "print(ak)"
   ]
  },
  {
   "cell_type": "code",
   "execution_count": 31,
   "id": "3a00a3a7-d9a8-4c8a-bc7f-64d916cbb61f",
   "metadata": {},
   "outputs": [
    {
     "name": "stdout",
     "output_type": "stream",
     "text": [
      "vagottCsovu: BOOM\n",
      "vagottCsovu: 1/2\n",
      "vagottCsovu: BOOM\n",
      "vagottCsovu: 0/2\n",
      "vagottCsovu: 0/2\n"
     ]
    }
   ],
   "source": [
    "# Túl sok lövés\n",
    "vagottCsovu = Puska( \"vagottCsovu\", 2)\n",
    "vagottCsovu.loves()\n",
    "print(vagottCsovu)\n",
    "vagottCsovu.loves()\n",
    "print(vagottCsovu)\n",
    "vagottCsovu.loves()\n",
    "print(vagottCsovu)\n",
    "# Itt vegyük észre, hogy -ba is tud menni a töltényszám\n",
    "# A lövés esetén BOOM kiírásával meg tudjuk különböztetni, ha volt még töltény"
   ]
  },
  {
   "cell_type": "code",
   "execution_count": 32,
   "id": "712cc678-9379-4b03-9a24-f1e7b87e15ef",
   "metadata": {},
   "outputs": [
    {
     "name": "stdout",
     "output_type": "stream",
     "text": [
      "ak: BOOM\n",
      "rifle: BOOM\n",
      "vagottCsovu: BOOM\n",
      "smg: BOOM\n",
      "ak: 29/30; rifle: 9/10; vagottCsovu: 1/2; smg: 24/25; "
     ]
    }
   ],
   "source": [
    "# Több fegyver párhuzamosan\n",
    "# Ehhez egy listát fogok használni, amiben puskák lesznek\n",
    "a = [Puska( \"ak\", 30), Puska( \"rifle\", 10), Puska( \"vagottCsovu\", 2), Puska( \"smg\", 25)]\n",
    "for lm in a:\n",
    "    lm.loves()\n",
    "for lm in a:\n",
    "    print(lm, end=\"; \")\n",
    "# Segíthetne az átláthatóságon, ha lenne neve a fegyvereknek, ami kiíródna a print esetén"
   ]
  }
 ],
 "metadata": {
  "kernelspec": {
   "display_name": "Python 3 (ipykernel)",
   "language": "python",
   "name": "python3"
  },
  "language_info": {
   "codemirror_mode": {
    "name": "ipython",
    "version": 3
   },
   "file_extension": ".py",
   "mimetype": "text/x-python",
   "name": "python",
   "nbconvert_exporter": "python",
   "pygments_lexer": "ipython3",
   "version": "3.9.7"
  }
 },
 "nbformat": 4,
 "nbformat_minor": 5
}
