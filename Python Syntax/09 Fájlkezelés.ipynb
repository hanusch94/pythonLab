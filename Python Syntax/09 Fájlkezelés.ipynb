{
 "cells": [
  {
   "cell_type": "markdown",
   "id": "1ae8e1e7-4ee7-457f-a5ee-f40dc56f6170",
   "metadata": {},
   "source": [
    "# Fájlkezelés"
   ]
  },
  {
   "cell_type": "code",
   "execution_count": 14,
   "id": "7f43ab29-3d53-4c1f-998c-6dd38664bbc1",
   "metadata": {},
   "outputs": [
    {
     "name": "stdout",
     "output_type": "stream",
     "text": [
      "<class '_io.TextIOWrapper'>\n"
     ]
    }
   ],
   "source": [
    "# open([fájlnév], [cél]) Egy fájl megnyitása\n",
    "# Cél (a teljesség igénye nélkül):\n",
    "    # r: olvasás, ha nem létezik, hiba\n",
    "    # w: írás, ha nem létezik a fájl, létrehozza\n",
    "    # a: a fájl végére írás: ha nem létezik a fájl, létrehozza\n",
    "f = open(\"src/fajlkezeles_input.txt\", \"r\")\n",
    "# Az a egy szövegstream, amin végig tudunk iterálni (lépkedni)\n",
    "print(type(f))\n",
    "# file.close() ha megnyitottunk egy fájlt, be is kell zárjuk\n",
    "f.close()"
   ]
  },
  {
   "cell_type": "code",
   "execution_count": 15,
   "id": "47adbdd1-b6e2-4bbc-9324-fd6a5e5536ad",
   "metadata": {},
   "outputs": [
    {
     "name": "stdout",
     "output_type": "stream",
     "text": [
      "Ez van a fÃ¡jl elsÅ‘ sorÃ¡ban\n",
      "\n",
      "2. sor\n",
      "\n",
      "3. sor\n",
      "\n",
      "4. azaz utolsÃ³ sor\n"
     ]
    }
   ],
   "source": [
    "# A fájl olvasására sok megoldás van\n",
    "# Én a for ciklust preferálom, mivel ezzel soronként végig tudunk menni a fájlon\n",
    "f = open(\"src/fajlkezeles_input.txt\", \"r\")\n",
    "for lm in f:\n",
    "    print(lm)\n",
    "f.close()"
   ]
  },
  {
   "cell_type": "code",
   "execution_count": 16,
   "id": "ca13c552-8c8e-4611-9f63-ee79aff8feec",
   "metadata": {},
   "outputs": [
    {
     "name": "stdout",
     "output_type": "stream",
     "text": [
      "Ez van a fÃ¡jl elsÅ‘ sorÃ¡ban\n",
      "\n",
      "2. sor\n",
      "\n",
      "3. sor\n",
      "\n",
      "4. azaz utolsÃ³ sor\n"
     ]
    }
   ],
   "source": [
    "# A with: a bezárandó, megsemmisítendő típusokat zárja be, ha lefutott a tartalma\n",
    "# Így nem kell emlékeznünk, és kézzel lezárnunk a megnyitott elemet\n",
    "with open(\"src/fajlkezeles_input.txt\", \"r\") as f:\n",
    "    for lm in f:\n",
    "        print(lm)"
   ]
  },
  {
   "cell_type": "code",
   "execution_count": 17,
   "id": "6c4cc316-437b-43b8-a280-ec7d41fcfcc5",
   "metadata": {},
   "outputs": [
    {
     "name": "stdout",
     "output_type": "stream",
     "text": [
      "Ez van a fÃ¡jl elsÅ‘ sorÃ¡ban\n",
      "2. sor\n",
      "3. sor\n",
      "4. azaz utolsÃ³ sor\n"
     ]
    }
   ],
   "source": [
    "# Ha megfigyeljük, a sorok közt van egy enter\n",
    "# Ennek az oka az, hogy a sor végén a \\n is be lett olvasva.\n",
    "# A string kezelésből emlékezhetünk, hogy a strip()-pel tudunk letakarítani whitespace-eket\n",
    "# Ennek egy speciális változata az rstrip()\n",
    "with open(\"src/fajlkezeles_input.txt\", \"r\") as f:\n",
    "    for lm in f:\n",
    "        print(lm.rstrip())"
   ]
  },
  {
   "cell_type": "code",
   "execution_count": 18,
   "id": "2d1dfeaa-6f0f-4346-a9d3-6b3177151433",
   "metadata": {},
   "outputs": [
    {
     "name": "stdout",
     "output_type": "stream",
     "text": [
      "Ez van a fájl első sorában\n",
      "2. sor\n",
      "3. sor\n",
      "4. azaz utolsó sor\n"
     ]
    }
   ],
   "source": [
    "# Az ékezetes betűkkel van még egy kis probléma, ami nem az igazi\n",
    "# Ezt az encoding paraméter utf-8-ra állításával tudjuk megoldani\n",
    "with open(\"src/fajlkezeles_input.txt\", \"r\", encoding=\"utf-8\") as f:\n",
    "    for lm in f:\n",
    "        print(lm.rstrip())"
   ]
  },
  {
   "cell_type": "code",
   "execution_count": 13,
   "id": "89ae8c73-7572-4b29-a111-12f88594c32b",
   "metadata": {},
   "outputs": [
    {
     "name": "stdout",
     "output_type": "stream",
     "text": [
      "['Ez van a fájl első sorában', '2. sor', '3. sor', '4. azaz utolsó sor']\n"
     ]
    }
   ],
   "source": [
    "# Ha nem túl nagy egy fájl, akkor kirakhatjuk a fájl tartalmát egy listába, amiben később tároljuk, esetleg új fájlba írjuk a listát\n",
    "b = []\n",
    "with open(\"src/fajlkezeles_input.txt\", \"r\", encoding=\"utf-8\") as f:\n",
    "    for lm in f:\n",
    "        b.append(lm.rstrip())\n",
    "print(b)"
   ]
  },
  {
   "cell_type": "code",
   "execution_count": 19,
   "id": "83972c56-2d06-4d54-99aa-2fad396ef8ef",
   "metadata": {},
   "outputs": [],
   "source": [
    "# A kiíráshoz is sok megoldás van\n",
    "# A print() szerintem a legkényelmesebb és legegyszerűbb, mivel máshol is szoktuk használni\n",
    "# Ha nem a képernyőre szeretnénk kiiratni az eredményt, hanem egy fájlba, akkor a file= paraméterrel tudjuk beállítani ezt\n",
    "# Figyeljünk a cél mezőben a w-re, ami az írást jelzi\n",
    "a = [1, \"asdldldl\", 3233, \"Zárás\"]\n",
    "with open(\"src/fajlkezeles_output.txt\", \"w\", encoding=\"utf-8\") as f:\n",
    "    for lm in a:\n",
    "        print(lm, file=f)\n",
    "#Az eredményt az src/fajlkezeles_output.txt fájlban tudjuk ellenőrizni"
   ]
  },
  {
   "cell_type": "code",
   "execution_count": 23,
   "id": "bcd60ad3-fad3-44c3-b9cb-09c6b65d2810",
   "metadata": {},
   "outputs": [],
   "source": [
    "# Ha túl nagy fájllal szeretnénk dolgozni (napi log egy banki szolgáltatásban, egy megszivatott ismerős billentyűlenyomásairól a log)\n",
    "# Ebben az esetben van haszna, hogy iterálható fájlunk van, és nem automatikusan listába olvasunk.\n",
    "# Ezen kívül a with-del több változót is tudunk egyszerre kezelni\n",
    "\n",
    "# a következő feladatban nézzük meg, hogy hogyan cseréljük le a \", \"-ket az egyik fájlból \"\\t\"-re\n",
    "# ha hosszú lenne egy sor, \\ jellel tudjuk törni a sort\n",
    "with open(\"src/mintaadat_input.txt\", \"r\", encoding=\"utf-8\") as fIn, \\\n",
    "    open(\"src/fajlkezeles_output.txt\", \"w\", encoding=\"utf-8\") as fOut:\n",
    "        for lm in fIn:\n",
    "            print(lm.rstrip().replace(\", \", \"\\t\"), file=fOut)\n",
    "#Az eredményt az src/fajlkezeles_output.txt fájlban tudjuk ellenőrizni"
   ]
  },
  {
   "cell_type": "code",
   "execution_count": 1,
   "id": "4dbfd591-77c3-4756-b157-d282b147c4c2",
   "metadata": {},
   "outputs": [
    {
     "data": {
      "text/plain": [
       "[['1', '2', '10', 'Róbert'],\n",
       " ['2', '4', '12', 'Gábor'],\n",
       " ['1', '2', '11', 'Lidi'],\n",
       " ['1', '54', '9', 'Zita'],\n",
       " ['3', '2', '3', 'Gergő']]"
      ]
     },
     "execution_count": 1,
     "metadata": {},
     "output_type": "execute_result"
    }
   ],
   "source": [
    "# Kicsit előre tekintve az érettségire\n",
    "# Adatok beolvasása, feldolgozása és listába rakása, hogy kényelmesen tudjuk kezelni a következő képpen működik\n",
    "\n",
    "# Létrehozunk egy listát az adatoknak\n",
    "adat = []\n",
    "# Megnyitjuk a fájlt\n",
    "with open(\"src/mintaadat_input.txt\", \"r\", encoding=\"utf-8\") as f:\n",
    "    # Végigmegyünk az összes soron\n",
    "    for lm in f:\n",
    "        # Hívási sorrendben minden sorra:\n",
    "            # rstrip(): letakarítjuk az entereket a sor végéről\n",
    "            # split(): feldaraboljuk a sort az adatok közti elválasztó karakterenként\n",
    "            # adat.append(): a listához adjuk a sort\n",
    "        adat.append(lm.rstrip().split(\", \"))\n",
    "# És meg is van a feldolgozott adatunk, amivel könnyen tudunk dolgozni\n",
    "adat"
   ]
  }
 ],
 "metadata": {
  "kernelspec": {
   "display_name": "Python 3 (ipykernel)",
   "language": "python",
   "name": "python3"
  },
  "language_info": {
   "codemirror_mode": {
    "name": "ipython",
    "version": 3
   },
   "file_extension": ".py",
   "mimetype": "text/x-python",
   "name": "python",
   "nbconvert_exporter": "python",
   "pygments_lexer": "ipython3",
   "version": "3.9.7"
  }
 },
 "nbformat": 4,
 "nbformat_minor": 5
}
