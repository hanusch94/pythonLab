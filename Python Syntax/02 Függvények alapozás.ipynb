{
 "cells": [
  {
   "cell_type": "markdown",
   "id": "1752c2b1-06c0-4c0e-882c-bff0cd10f904",
   "metadata": {},
   "source": [
    "# Függvények alapozás\n",
    "\n",
    "Egy függvény egy olyan feladat, amivel könnyen tudunk feladatokat végrehajtani egy változón"
   ]
  },
  {
   "cell_type": "code",
   "execution_count": 6,
   "id": "367f30ae-6d56-4fa1-9d6c-251a22a57b8a",
   "metadata": {},
   "outputs": [
    {
     "name": "stdout",
     "output_type": "stream",
     "text": [
      "232\n",
      "almafa\n"
     ]
    }
   ],
   "source": [
    "# print() kiírja a beletett változót\n",
    "print(232)\n",
    "print(\"almafa\")"
   ]
  },
  {
   "cell_type": "code",
   "execution_count": 4,
   "id": "6370468c-7454-4541-af9a-ff9815b86e32",
   "metadata": {},
   "outputs": [
    {
     "name": "stdout",
     "output_type": "stream",
     "text": [
      "<class 'str'>\n",
      "<class 'int'>\n"
     ]
    }
   ],
   "source": [
    "# type() kiírja egy változó típusát\n",
    "# ha egy függvénybe egy másik fügvényt teszünk, akkor először a belső függvény értékét számoljuk ki, majd arra hívódik meg a külső\n",
    "print(type(\"alma\"))\n",
    "print(type(123))"
   ]
  },
  {
   "cell_type": "code",
   "execution_count": 35,
   "id": "2102fd3b-579c-4a05-b696-975a8b7f3736",
   "metadata": {},
   "outputs": [
    {
     "name": "stdout",
     "output_type": "stream",
     "text": [
      "['__add__', '__class__', '__contains__', '__delattr__', '__dir__', '__doc__', '__eq__', '__format__', '__ge__', '__getattribute__', '__getitem__', '__getnewargs__', '__gt__', '__hash__', '__init__', '__init_subclass__', '__iter__', '__le__', '__len__', '__lt__', '__mod__', '__mul__', '__ne__', '__new__', '__reduce__', '__reduce_ex__', '__repr__', '__rmod__', '__rmul__', '__setattr__', '__sizeof__', '__str__', '__subclasshook__', 'capitalize', 'casefold', 'center', 'count', 'encode', 'endswith', 'expandtabs', 'find', 'format', 'format_map', 'index', 'isalnum', 'isalpha', 'isascii', 'isdecimal', 'isdigit', 'isidentifier', 'islower', 'isnumeric', 'isprintable', 'isspace', 'istitle', 'isupper', 'join', 'ljust', 'lower', 'lstrip', 'maketrans', 'partition', 'removeprefix', 'removesuffix', 'replace', 'rfind', 'rindex', 'rjust', 'rpartition', 'rsplit', 'rstrip', 'split', 'splitlines', 'startswith', 'strip', 'swapcase', 'title', 'translate', 'upper', 'zfill']\n",
      "________________\n",
      "         alma\n",
      "alma\n"
     ]
    }
   ],
   "source": [
    "# dir() visszaadja az adott függvényhez tartozó függvényeket\n",
    "# adott típusoknak is vannak saját függvényei, ezt változó.függvénynév()-vel lehet meghívni\n",
    "# itt a nem __-vel körbevett dolgokat érdekesek, mert azok a meghívható függvények\n",
    "print(dir(\"alma\"))\n",
    "#példának: a strip() letakarítja a whitespace-eket (szóköz, tab, sortörés) a szöveg elejéről, végéről (szövegkezelést érintő függvényekről lesz külön notebook)\n",
    "print(\"________________\")\n",
    "print(\"         alma\")\n",
    "print(\"         alma\".strip())"
   ]
  },
  {
   "cell_type": "code",
   "execution_count": 39,
   "id": "93cce004-009d-4a75-91e8-665f3db56402",
   "metadata": {},
   "outputs": [
    {
     "name": "stdout",
     "output_type": "stream",
     "text": [
      "7\n",
      "4\n"
     ]
    }
   ],
   "source": [
    "# len() a megadott elem hosszát adja meg (hány elem van benne)\n",
    "# tipikusan a szövegeknek és a listáknak a hosszát szokták lekérdezni vele\n",
    "print(len(\"asddder\"))\n",
    "#listákról később, ennek a listának 4 eleme van\n",
    "print(len([1,32323,23555,\"sdkdk\"]))"
   ]
  },
  {
   "cell_type": "code",
   "execution_count": 36,
   "id": "7727e39a-732f-4b30-b2c4-38910315d572",
   "metadata": {},
   "outputs": [
    {
     "ename": "SyntaxError",
     "evalue": "invalid syntax (CreatorTemp/ipykernel_10184/1157038416.py, line 3)",
     "output_type": "error",
     "traceback": [
      "\u001b[1;36m  File \u001b[1;32m\"C:\\Users\\Public\\Documents\\Wondershare\\CreatorTemp/ipykernel_10184/1157038416.py\"\u001b[1;36m, line \u001b[1;32m3\u001b[0m\n\u001b[1;33m    \"alma\".\u001b[0m\n\u001b[1;37m           ^\u001b[0m\n\u001b[1;31mSyntaxError\u001b[0m\u001b[1;31m:\u001b[0m invalid syntax\n"
     ]
    }
   ],
   "source": [
    "# A függvények listáját és a függvényhez tartozó változók listája notebookban a Tab-bal érhető el\n",
    "# Próbáljuk ki, hogy a cellában lévő két sor végére kattintunk és nyomjuk meg a Tab-ot\n",
    "# Ez fejlesztőkörnyezetenként változik\n",
    "# Eredeti sor: \"alma\".\n",
    "\"alma\".\n",
    "# Itt a P-vel jelölt sorok a paraméterek (pl end=, file=)\n",
    "# Míg a függvényleírást a Shift+Tab kombinációval tudjuk megjeleníteni\n",
    "# Eredeti sor: print(\n",
    "print(\n",
    "# Ha elkezdjük írni egy függvény nevét és megnyomjuk a tabot, megkapjuk a lehetőségeket a folytatáshoz (autocomplete-nek hívják)\n",
    "# Ezt követően ki tudjuk választani a listáról, amit szeretnénk\n",
    "# Eredeti sor: \"asd\".spli\n",
    "\"asd\".split"
   ]
  },
  {
   "cell_type": "code",
   "execution_count": 12,
   "id": "983ba396-0bb4-4869-8e2b-5797ccfd54da",
   "metadata": {},
   "outputs": [
    {
     "name": "stdin",
     "output_type": "stream",
     "text": [
      "adj valami bemenetet alma\n"
     ]
    },
    {
     "name": "stdout",
     "output_type": "stream",
     "text": [
      "ezt olvastam be: alma\n"
     ]
    }
   ],
   "source": [
    "# input: szöveg bekérés, ez főleg konzolon fontos, mert be tudunk kérni értékeket a usertől\n",
    "# kipróbáláshoz Ctrl+Enter\n",
    "a = input(\"adj valami bemenetet\")\n",
    "print(\"ezt olvastam be: \"+a)"
   ]
  },
  {
   "cell_type": "markdown",
   "id": "7fd58324-d436-48ba-8bf3-d265b5febbbc",
   "metadata": {},
   "source": [
    "___\n",
    "## Castolás\n",
    "A Castolás azt jelenti, hogy típust váltunk (int-ből str-t csinálunk például)\n",
    "A megoldás erre az, hogy a típus nevét mint függvényt használjuk, és beletesszük a változót, amit változtatni akarunk"
   ]
  },
  {
   "cell_type": "markdown",
   "id": "dbb03f7c-6891-4722-87df-50422f4ccc58",
   "metadata": {},
   "source": [
    "### Int-té alakítás"
   ]
  },
  {
   "cell_type": "code",
   "execution_count": 27,
   "id": "0651d668-2779-4704-8019-60100dfc4dfe",
   "metadata": {},
   "outputs": [
    {
     "name": "stdout",
     "output_type": "stream",
     "text": [
      "1\n",
      "-2\n",
      "-55\n",
      "241\n"
     ]
    }
   ],
   "source": [
    "# ha törtet alakítunk intté, akkor az olyan, akkor \"csonkolja\" a törtet (egész részét veszi a tört számnak)\n",
    "print(int(1.2323))\n",
    "print(int(-2.545))\n",
    "print(int(-55.0))\n",
    "print(int(241.101))"
   ]
  },
  {
   "cell_type": "code",
   "execution_count": 34,
   "id": "7cf6c642-9fc8-4db0-ab28-9290859dc63d",
   "metadata": {},
   "outputs": [
    {
     "data": {
      "text/plain": [
       "1233"
      ]
     },
     "execution_count": 34,
     "metadata": {},
     "output_type": "execute_result"
    }
   ],
   "source": [
    "# ha szöveget alakítunk intté, figyeljünk, hogy tényleg egy egész szám legyen ott (a whitespace-ek (space, tab, sortörés...) nem zavarók)\n",
    "int(\"1233  \")"
   ]
  },
  {
   "cell_type": "code",
   "execution_count": 24,
   "id": "e9580c47-e13d-4d41-9275-32a4fc95207a",
   "metadata": {},
   "outputs": [
    {
     "ename": "ValueError",
     "evalue": "invalid literal for int() with base 10: 'asd232323'",
     "output_type": "error",
     "traceback": [
      "\u001b[1;31m---------------------------------------------------------------------------\u001b[0m",
      "\u001b[1;31mValueError\u001b[0m                                Traceback (most recent call last)",
      "\u001b[1;32mC:\\Users\\Public\\Documents\\Wondershare\\CreatorTemp/ipykernel_10184/521070881.py\u001b[0m in \u001b[0;36m<module>\u001b[1;34m\u001b[0m\n\u001b[0;32m      1\u001b[0m \u001b[1;31m# ha mégsem számot szeretnénk átalakítani, akkor hibát kapunk\u001b[0m\u001b[1;33m\u001b[0m\u001b[1;33m\u001b[0m\u001b[0m\n\u001b[1;32m----> 2\u001b[1;33m \u001b[0mint\u001b[0m\u001b[1;33m(\u001b[0m\u001b[1;34m\"asd232323\"\u001b[0m\u001b[1;33m)\u001b[0m\u001b[1;33m\u001b[0m\u001b[1;33m\u001b[0m\u001b[0m\n\u001b[0m",
      "\u001b[1;31mValueError\u001b[0m: invalid literal for int() with base 10: 'asd232323'"
     ]
    }
   ],
   "source": [
    "# ha mégsem számot szeretnénk átalakítani, akkor hibát kapunk\n",
    "int(\"asd232323\")"
   ]
  },
  {
   "cell_type": "markdown",
   "id": "82f1ce9f-abac-4ae2-9c62-bd354bd962f9",
   "metadata": {},
   "source": [
    "### Float-tá alakítás"
   ]
  },
  {
   "cell_type": "code",
   "execution_count": 28,
   "id": "906b9339-1210-4f8b-91c0-a147b08c6aa2",
   "metadata": {},
   "outputs": [
    {
     "data": {
      "text/plain": [
       "32.0"
      ]
     },
     "execution_count": 28,
     "metadata": {},
     "output_type": "execute_result"
    }
   ],
   "source": [
    "# int átalakítása esetén egyszerűen annyi történik, hogy mostantól float-ként kezeljük ugyanazt a számot\n",
    "float(32)"
   ]
  },
  {
   "cell_type": "code",
   "execution_count": 29,
   "id": "9b3f0dfd-45c2-4aab-885c-a4647bf291b4",
   "metadata": {},
   "outputs": [
    {
     "data": {
      "text/plain": [
       "434.2"
      ]
     },
     "execution_count": 29,
     "metadata": {},
     "output_type": "execute_result"
    }
   ],
   "source": [
    "#string esetén ugyanaz a helyzet, mint intnél\n",
    "float(\"434.2\")"
   ]
  },
  {
   "cell_type": "code",
   "execution_count": 31,
   "id": "14e9a559-eee6-4731-8dc6-f8b8109b5a82",
   "metadata": {},
   "outputs": [
    {
     "ename": "ValueError",
     "evalue": "could not convert string to float: '3343,123'",
     "output_type": "error",
     "traceback": [
      "\u001b[1;31m---------------------------------------------------------------------------\u001b[0m",
      "\u001b[1;31mValueError\u001b[0m                                Traceback (most recent call last)",
      "\u001b[1;32mC:\\Users\\Public\\Documents\\Wondershare\\CreatorTemp/ipykernel_10184/3982315695.py\u001b[0m in \u001b[0;36m<module>\u001b[1;34m\u001b[0m\n\u001b[0;32m      1\u001b[0m \u001b[1;31m#figyeljünk oda, hogy a , nem jó törthöz, csak . -tal fogadja el\u001b[0m\u001b[1;33m\u001b[0m\u001b[1;33m\u001b[0m\u001b[0m\n\u001b[1;32m----> 2\u001b[1;33m \u001b[0mfloat\u001b[0m\u001b[1;33m(\u001b[0m\u001b[1;34m\"3343,123\"\u001b[0m\u001b[1;33m)\u001b[0m\u001b[1;33m\u001b[0m\u001b[1;33m\u001b[0m\u001b[0m\n\u001b[0m",
      "\u001b[1;31mValueError\u001b[0m: could not convert string to float: '3343,123'"
     ]
    }
   ],
   "source": [
    "#figyeljünk oda, hogy a , nem jó törthöz, csak . -tal fogadja el\n",
    "float(\"3343,123\")"
   ]
  },
  {
   "cell_type": "markdown",
   "id": "2485ac84-5573-4858-8977-5e4727ff3e6c",
   "metadata": {},
   "source": [
    "### String-gé alakítás"
   ]
  },
  {
   "cell_type": "code",
   "execution_count": 33,
   "id": "31f68422-b158-4676-aa68-ca40c8aaa087",
   "metadata": {},
   "outputs": [
    {
     "data": {
      "text/plain": [
       "'Az almafán 3 alma van.'"
      ]
     },
     "execution_count": 33,
     "metadata": {},
     "output_type": "execute_result"
    }
   ],
   "source": [
    "#itt van a megoldás, hogy hogyan tudunk számot összefűzni string-gel. Itt nincs is speciális feltétel, mert a számok mindig stringgé alakíthatók.\n",
    "\"Az almafán \"+str(3)+\" alma van.\""
   ]
  }
 ],
 "metadata": {
  "kernelspec": {
   "display_name": "Python 3 (ipykernel)",
   "language": "python",
   "name": "python3"
  },
  "language_info": {
   "codemirror_mode": {
    "name": "ipython",
    "version": 3
   },
   "file_extension": ".py",
   "mimetype": "text/x-python",
   "name": "python",
   "nbconvert_exporter": "python",
   "pygments_lexer": "ipython3",
   "version": "3.9.7"
  }
 },
 "nbformat": 4,
 "nbformat_minor": 5
}
