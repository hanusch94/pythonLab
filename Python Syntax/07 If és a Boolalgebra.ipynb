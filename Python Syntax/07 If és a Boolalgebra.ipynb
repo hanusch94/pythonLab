{
 "cells": [
  {
   "cell_type": "markdown",
   "id": "5af1bdc2-125a-4071-b372-1462bd73a1df",
   "metadata": {},
   "source": [
    "# If és a Boolok"
   ]
  },
  {
   "cell_type": "markdown",
   "id": "231fd799-7e62-4487-9ac0-3053c8789382",
   "metadata": {},
   "source": [
    "## Boolalgebra\n",
    "A bool/boolean (igaz/hamis, end=\"\\t\") típus-hoz tartozó számításokat boolalgebrának nevezzük."
   ]
  },
  {
   "cell_type": "code",
   "execution_count": 21,
   "id": "a3d3fe49-f7c0-4de9-ae21-3f4463a8233f",
   "metadata": {},
   "outputs": [
    {
     "name": "stdout",
     "output_type": "stream",
     "text": [
      "True  and  True:   True\n",
      "True  and False:   False\n",
      "False and  True:   False\n",
      "False and False:   False\n"
     ]
    }
   ],
   "source": [
    "# AND: és. Akkor igaz, ha mindkét oldal igaz.\n",
    "print(\"True  and  True:  \", True and True)\n",
    "print(\"True  and False:  \", True and False)\n",
    "print(\"False and  True:  \", False and True)\n",
    "print(\"False and False:  \", False and False)"
   ]
  },
  {
   "cell_type": "code",
   "execution_count": 1,
   "id": "067bf152-1f14-4904-a4af-3b017996404a",
   "metadata": {},
   "outputs": [
    {
     "name": "stdout",
     "output_type": "stream",
     "text": [
      "True  or  True:   True\n",
      "True  or False:   True\n",
      "False or  True:   True\n",
      "False or False:   False\n"
     ]
    }
   ],
   "source": [
    "# OR: vagy. Akkor igaz, ha a két olda valamelyike igaz.\n",
    "print(\"True  or  True:  \", True or True)\n",
    "print(\"True  or False:  \", True or False)\n",
    "print(\"False or  True:  \", False or True)\n",
    "print(\"False or False:  \", False or False)"
   ]
  },
  {
   "cell_type": "code",
   "execution_count": 23,
   "id": "0022170d-2e18-44ae-88e3-453547261c1a",
   "metadata": {},
   "outputs": [
    {
     "name": "stdout",
     "output_type": "stream",
     "text": [
      "not  True:   False\n",
      "not False:   True\n",
      "not  True:   False\n",
      "not False:   True\n"
     ]
    }
   ],
   "source": [
    "# AND: és. Akkor igaz, ha mindkét oldal igaz.\n",
    "print(\"not  True:  \", not True)\n",
    "print(\"not False:  \", not False)"
   ]
  },
  {
   "cell_type": "code",
   "execution_count": 2,
   "id": "c7614afc",
   "metadata": {},
   "outputs": [
    {
     "name": "stdout",
     "output_type": "stream",
     "text": [
      "1 in [1,2]:  True\n",
      "0 in [1,2]:  False\n",
      "1 not in [1,2]:  False\n",
      "0 not in [1,2]:  True\n"
     ]
    }
   ],
   "source": [
    "# IN: \"a\" in \"lista\" true, ha \"a\" benne van a \"lista\"-ban, False, ha nincs\n",
    "print(\"1 in [1,2]: \", 1 in [1,2])\n",
    "print(\"0 in [1,2]: \", 0 in [1,2])\n",
    "print(\"1 not in [1,2]: \", 1 not in [1,2])\n",
    "print(\"0 not in [1,2]: \", 0 not in [1,2])"
   ]
  },
  {
   "cell_type": "markdown",
   "id": "cd909c04-de80-4354-b2ba-687ea38ea674",
   "metadata": {},
   "source": [
    "### Boolalgebra gyakorlására játék:\n",
    "- android: 64. pályáig érdemes: https://play.google.com/store/apps/details?id=com.prysryarmr.logicpuzzle&hl=en_US&gl=US"
   ]
  },
  {
   "cell_type": "markdown",
   "id": "07d04769-e8c4-467a-805e-09d3187f7578",
   "metadata": {},
   "source": [
    "## Kasztolás"
   ]
  },
  {
   "cell_type": "code",
   "execution_count": 29,
   "id": "8cd35cdb-e120-4a57-851d-220cc379aa1d",
   "metadata": {},
   "outputs": [
    {
     "name": "stdout",
     "output_type": "stream",
     "text": [
      "bool(\"\") False\n",
      "bool(\"a\") True\n"
     ]
    }
   ],
   "source": [
    "# Stringnél\n",
    "# A 0 hosszú string hamis\n",
    "# A nem 0 hosszú string igaz\n",
    "\n",
    "print('bool(\"\")', bool(\"\"))\n",
    "print('bool(\"a\")', bool(\"a\"))"
   ]
  },
  {
   "cell_type": "code",
   "execution_count": 30,
   "id": "4995876e-dfbf-4593-af91-52a111c6e0e6",
   "metadata": {},
   "outputs": [
    {
     "name": "stdout",
     "output_type": "stream",
     "text": [
      "bool(0) False\n",
      "bool(3) True\n",
      "bool(0.0) False\n",
      "bool(-30.22) True\n"
     ]
    }
   ],
   "source": [
    "# Számnál\n",
    "# A 0 hamis\n",
    "# A nem 0 igaz\n",
    "\n",
    "print('bool(0)', bool(0))\n",
    "print('bool(3)', bool(3))\n",
    "print('bool(0.0)', bool(0.0))\n",
    "print('bool(-30.22)', bool(-30.22))"
   ]
  },
  {
   "cell_type": "markdown",
   "id": "18859e8a-9960-45f9-8458-0d21388b9e1d",
   "metadata": {},
   "source": [
    "## Összehasonlító operátorok"
   ]
  },
  {
   "cell_type": "code",
   "execution_count": 11,
   "id": "7835e6ac-e4fe-40e1-9123-e4bd54a03b67",
   "metadata": {},
   "outputs": [
    {
     "name": "stdout",
     "output_type": "stream",
     "text": [
      "False\tTrue\tTrue\t"
     ]
    }
   ],
   "source": [
    "# == egyenlő\n",
    "print(9 == 7, end=\"\\t\")\n",
    "print(7 == 7, end=\"\\t\")\n",
    "print(\"asd\" == \"asd\", end=\"\\t\")"
   ]
  },
  {
   "cell_type": "code",
   "execution_count": 12,
   "id": "0d3827f8-d07f-4415-904b-29d28cf35e9c",
   "metadata": {},
   "outputs": [
    {
     "name": "stdout",
     "output_type": "stream",
     "text": [
      "True\tFalse\tFalse\t"
     ]
    }
   ],
   "source": [
    "# != nem egyenlő\n",
    "print(9 != 7, end=\"\\t\")\n",
    "print(7 != 7, end=\"\\t\")\n",
    "print(\"asd\" != \"asd\", end=\"\\t\")"
   ]
  },
  {
   "cell_type": "code",
   "execution_count": 13,
   "id": "c521d8e3-5a07-42a4-a6f1-055e80d4f62b",
   "metadata": {},
   "outputs": [
    {
     "name": "stdout",
     "output_type": "stream",
     "text": [
      "True\tFalse\tFalse\tTrue\t"
     ]
    }
   ],
   "source": [
    "# > nagyobb\n",
    "print(9 > 7, end=\"\\t\")\n",
    "print(7 > 7, end=\"\\t\")\n",
    "# Szöveg esetén ABC sorrend\n",
    "print(\"zsd\" > \"zzz\", end=\"\\t\")\n",
    "print(\"bsd\" > \"asd\", end=\"\\t\")"
   ]
  },
  {
   "cell_type": "code",
   "execution_count": 14,
   "id": "7759bc95-6598-4063-a26e-dc320adda9c5",
   "metadata": {},
   "outputs": [
    {
     "name": "stdout",
     "output_type": "stream",
     "text": [
      "True\tTrue\tFalse\tFalse\tTrue\t"
     ]
    }
   ],
   "source": [
    "# >= nagyobb egyenlő\n",
    "print(9 >= 7, end=\"\\t\")\n",
    "print(7 >= 7, end=\"\\t\")\n",
    "print(7 >= 9, end=\"\\t\")\n",
    "# Szöveg esetén ABC sorrend\n",
    "print(\"zsd\" >= \"zzz\", end=\"\\t\")\n",
    "print(\"bsd\" >= \"asd\", end=\"\\t\")"
   ]
  },
  {
   "cell_type": "code",
   "execution_count": 15,
   "id": "81c01550-277b-4430-bafc-a4689e501f77",
   "metadata": {},
   "outputs": [
    {
     "name": "stdout",
     "output_type": "stream",
     "text": [
      "False\tFalse\tTrue\tTrue\tFalse\t"
     ]
    }
   ],
   "source": [
    "# < kissebb\n",
    "print(9 < 7, end=\"\\t\")\n",
    "print(7 < 7, end=\"\\t\")\n",
    "print(7 < 9, end=\"\\t\")\n",
    "# Szöveg esetén ABC sorrend\n",
    "print(\"zsd\" < \"zzz\", end=\"\\t\")\n",
    "print(\"bsd\" < \"asd\", end=\"\\t\")"
   ]
  },
  {
   "cell_type": "code",
   "execution_count": 16,
   "id": "b73a698b-cb40-4b15-998c-1346eba6dec6",
   "metadata": {},
   "outputs": [
    {
     "name": "stdout",
     "output_type": "stream",
     "text": [
      "False\tTrue\tTrue\tTrue\tFalse\t"
     ]
    }
   ],
   "source": [
    "# < nagyobb egyenlő\n",
    "print(9 <= 7, end=\"\\t\")\n",
    "print(7 <= 7, end=\"\\t\")\n",
    "print(7 <= 9, end=\"\\t\")\n",
    "# Szöveg esetén ABC sorrend\n",
    "print(\"zsd\" <= \"zzz\", end=\"\\t\")\n",
    "print(\"bsd\" <= \"asd\", end=\"\\t\")"
   ]
  },
  {
   "cell_type": "markdown",
   "id": "563d30e9-9151-470a-ab24-0df5c5c0109c",
   "metadata": {},
   "source": [
    "## If , azaz a feltételesen futtatandó kód\n",
    "Az if belseje akkor fut le, ha a ()-ben lévő feltétel igaz"
   ]
  },
  {
   "cell_type": "code",
   "execution_count": 32,
   "id": "78b1cba4-7907-4775-ac38-c1c33e51279d",
   "metadata": {},
   "outputs": [
    {
     "name": "stdout",
     "output_type": "stream",
     "text": [
      "If előtt kívül\n",
      "If belseje\n",
      "If után kívül\n"
     ]
    }
   ],
   "source": [
    "print(\"If előtt kívül\")\n",
    "if(True):\n",
    "    print(\"If belseje\")\n",
    "print(\"If után kívül\")"
   ]
  },
  {
   "cell_type": "code",
   "execution_count": 33,
   "id": "27dc7ffb-b8b2-4f8e-971c-6b87cb5bb08a",
   "metadata": {},
   "outputs": [
    {
     "name": "stdout",
     "output_type": "stream",
     "text": [
      "If előtt kívül\n",
      "If után kívül\n"
     ]
    }
   ],
   "source": [
    "print(\"If előtt kívül\")\n",
    "if(False):\n",
    "    print(\"If belseje\")\n",
    "print(\"If után kívül\")"
   ]
  },
  {
   "cell_type": "code",
   "execution_count": 34,
   "id": "e180cdfb-e075-4d39-a0b4-b3d9ce5fdec7",
   "metadata": {},
   "outputs": [
    {
     "name": "stdout",
     "output_type": "stream",
     "text": [
      "If előtt kívül\n",
      "If belseje\n",
      "If után kívül\n"
     ]
    }
   ],
   "source": [
    "# Ha a belsejébe egy nem bool értéket teszünk, akkor automatikusan átcastolódik\n",
    "print(\"If előtt kívül\")\n",
    "if(3):\n",
    "    print(\"If belseje\")\n",
    "print(\"If után kívül\")"
   ]
  },
  {
   "cell_type": "code",
   "execution_count": 35,
   "id": "4209a279-3588-40e0-973b-05ab1a05374a",
   "metadata": {},
   "outputs": [
    {
     "name": "stdout",
     "output_type": "stream",
     "text": [
      "If előtt kívül\n",
      "If után kívül\n"
     ]
    }
   ],
   "source": [
    "print(\"If előtt kívül\")\n",
    "if(\"\"):\n",
    "    print(\"If belseje\")\n",
    "print(\"If után kívül\")"
   ]
  },
  {
   "cell_type": "markdown",
   "id": "583828ef-e306-4f64-9791-d8279e6ecb99",
   "metadata": {},
   "source": [
    "___\n",
    "## Else"
   ]
  },
  {
   "cell_type": "code",
   "execution_count": 1,
   "id": "c005e329-cea7-4841-8c93-e935b0dd064b",
   "metadata": {},
   "outputs": [
    {
     "name": "stdout",
     "output_type": "stream",
     "text": [
      "If előtt\n",
      "Ez lefut az else-ben\n",
      "Ez pedig mindenképp lefut\n"
     ]
    }
   ],
   "source": [
    "print(\"If előtt\")\n",
    "if(False):\n",
    "    print(\"Ez nem íródik ki\")\n",
    "# Az else ugyanúgy feltételesen lefutó kódot jelez, viszont akkor fut le, ha az előtte lévő if nem teljesül\n",
    "else:\n",
    "    print(\"Ez lefut az else-ben\")\n",
    "print(\"Ez pedig mindenképp lefut\")"
   ]
  },
  {
   "cell_type": "code",
   "execution_count": 2,
   "id": "e73613b6-ae8f-4063-b73c-ed36ff3a026a",
   "metadata": {},
   "outputs": [
    {
     "name": "stdout",
     "output_type": "stream",
     "text": [
      "If előtt\n",
      "Ez lefut az if-en belül\n",
      "Ez pedig mindenképp lefut\n"
     ]
    }
   ],
   "source": [
    "print(\"If előtt\")\n",
    "if(True):\n",
    "    print(\"Ez lefut az if-en belül\")\n",
    "# Ha az if lefut, akkor az else nem\n",
    "else:\n",
    "    print(\"Ez nem fut le\")\n",
    "print(\"Ez pedig mindenképp lefut\")"
   ]
  },
  {
   "cell_type": "markdown",
   "id": "541fc65b-fb66-409c-910f-f25637c7925e",
   "metadata": {},
   "source": [
    "___\n",
    "## Elif"
   ]
  },
  {
   "cell_type": "code",
   "execution_count": 5,
   "id": "cd6b7003-e52e-40a1-ac16-6e00c59418aa",
   "metadata": {},
   "outputs": [
    {
     "name": "stdout",
     "output_type": "stream",
     "text": [
      "If előtt\n",
      "Ez lefut az elif-en belül\n",
      "Ez pedig mindenképp lefut\n"
     ]
    }
   ],
   "source": [
    "print(\"If előtt\")\n",
    "if(False):\n",
    "    print(\"Ez nem fut le\")\n",
    "# Ha az else-ben szeretnénk még egy feltételt tenni, akkor ezt az elif-fel tehetjük meg\n",
    "elif(True):\n",
    "    print(\"Ez lefut az elif-en belül\")\n",
    "print(\"Ez pedig mindenképp lefut\")"
   ]
  },
  {
   "cell_type": "code",
   "execution_count": 4,
   "id": "91932aa0-a296-46fd-9dbd-1f624df0ee25",
   "metadata": {},
   "outputs": [
    {
     "name": "stdout",
     "output_type": "stream",
     "text": [
      "If előtt\n",
      "Ez pedig mindenképp lefut\n"
     ]
    }
   ],
   "source": [
    "print(\"If előtt\")\n",
    "if(False):\n",
    "    print(\"Ez nem fut le\")\n",
    "elif(False):\n",
    "    print(\"Most az elif belseje sem fut le\")\n",
    "print(\"Ez pedig mindenképp lefut\")"
   ]
  },
  {
   "cell_type": "code",
   "execution_count": 3,
   "id": "98525749-d96e-4d37-bc33-40ee1a9f4d01",
   "metadata": {},
   "outputs": [
    {
     "name": "stdout",
     "output_type": "stream",
     "text": [
      "If előtt\n",
      "Ez pedig kiíródik\n",
      "Ez pedig mindenképp lefut\n"
     ]
    }
   ],
   "source": [
    "# Akárhány elif egybeköthető\n",
    "print(\"If előtt\")\n",
    "if(False):\n",
    "    print(\"Ez nem fut le\")\n",
    "elif(False):\n",
    "    print(\"Ez nem fut le\")\n",
    "# Minden elif csak azt az esetet vizsgálja, ha az előtte lévő if, elif-ek false-ra futottak\n",
    "elif(False):\n",
    "    print(\"Ez nem fut le\")\n",
    "elif(False):\n",
    "    print(\"Ez nem fut le\")\n",
    "else:\n",
    "    print(\"Ez pedig kiíródik\")\n",
    "print(\"Ez pedig mindenképp lefut\")"
   ]
  }
 ],
 "metadata": {
  "interpreter": {
   "hash": "cdd33eb7a732f8bbc22e26ba9551d320ea5d538e8f030e8b706e9cc2ab241d6b"
  },
  "kernelspec": {
   "display_name": "Python 3.10.4 64-bit",
   "language": "python",
   "name": "python3"
  },
  "language_info": {
   "codemirror_mode": {
    "name": "ipython",
    "version": 3
   },
   "file_extension": ".py",
   "mimetype": "text/x-python",
   "name": "python",
   "nbconvert_exporter": "python",
   "pygments_lexer": "ipython3",
   "version": "3.10.4"
  }
 },
 "nbformat": 4,
 "nbformat_minor": 5
}
