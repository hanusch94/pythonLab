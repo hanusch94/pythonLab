{
 "cells": [
  {
   "cell_type": "markdown",
   "id": "3250c9ba-cca3-4b66-b1ec-0571376509e3",
   "metadata": {},
   "source": [
    "# Listák"
   ]
  },
  {
   "cell_type": "markdown",
   "id": "833f9bb8-439d-4d7a-842a-76a08e216fd8",
   "metadata": {},
   "source": [
    "## Tömbök\n",
    "Ezek egyszerű listák, amiben bármilyen típusú elemet lehet tárolni"
   ]
  },
  {
   "cell_type": "code",
   "execution_count": 2,
   "id": "59a129d7-955c-4f3e-b23b-2861d8ff75de",
   "metadata": {},
   "outputs": [
    {
     "data": {
      "text/plain": [
       "['alma', 2, True, 54.2]"
      ]
     },
     "execution_count": 2,
     "metadata": {},
     "output_type": "execute_result"
    }
   ],
   "source": [
    "# Értékadáshoz egy [] zárójelben , -vel elválasztva kell megadni az értékeket\n",
    "a = [\"alma\", 2, True, 54.2]\n",
    "a"
   ]
  },
  {
   "cell_type": "code",
   "execution_count": 6,
   "id": "2fe8e188-ba89-4df6-a573-aae357a86360",
   "metadata": {},
   "outputs": [
    {
     "name": "stdout",
     "output_type": "stream",
     "text": [
      "első elem: 1. elem\n",
      "hátulról 2. elem: 4. elem\n",
      "\n",
      "első 3 elem: ['1. elem', '2. elem', '3. elem']\n",
      "utolsó 2 elem: ['4. elem', '5. elem']\n"
     ]
    }
   ],
   "source": [
    "# Egy elemet a következő képp tudjuk visszakérni\n",
    "a = [\"1. elem\", \"2. elem\", \"3. elem\", \"4. elem\", \"5. elem\"]\n",
    "# Az indexelés (sorszámozás) 0-tól kezdődik\n",
    "# Tehát az 1. elemet így tudjuk visszakapni\n",
    "print(\"első elem: \"+a[0])\n",
    "# Pythonban hátulról is tudunk számolni negatív indexeléssel\n",
    "# Itt -1 jelenti hátulról az első elemet, tehát a hátulról második elemet így tudjuk lekérni\n",
    "print(\"hátulról 2. elem: \"+a[-2])\n",
    "\n",
    "# Ha a listának egy részét szeretnénk visszakapni, akkor :-tal tudjuk megadni az intervallumot\n",
    "print(\"\\nelső 3 elem: \"+str(a[0:3]))\n",
    "# Ha az első vagy az utolsó elem is része a részlistának, akkor elhagyható a 0. és a -1 érték\n",
    "print(\"utolsó 2 elem: \"+str(a[-2:]))"
   ]
  },
  {
   "cell_type": "code",
   "execution_count": 13,
   "id": "c0cc9111-4b99-42d0-a4cc-3b1b989c4864",
   "metadata": {},
   "outputs": [
    {
     "name": "stdout",
     "output_type": "stream",
     "text": [
      "előtte: [1, 2, 3, 4]\n",
      "1. elem felülírva 8-ra: [1, 8, 3, 4]\n",
      "1. és 2. elem felülírva: [1, 11, 12, 4]\n"
     ]
    },
    {
     "data": {
      "text/plain": [
       "[1, 11, 12, 13, 14, 4]"
      ]
     },
     "execution_count": 13,
     "metadata": {},
     "output_type": "execute_result"
    }
   ],
   "source": [
    "# Egy elem felülírásához a lista[index] = érték módon tehetjük\n",
    "a = [1, 2, 3, 4]\n",
    "print(\"előtte: \" + str(a))\n",
    "# A lista 1. elemét (2) így tudjuk felül írni\n",
    "a[1] = 8\n",
    "print(\"1. elem felülírva 8-ra: \" + str(a))"
   ]
  },
  {
   "cell_type": "code",
   "execution_count": 14,
   "id": "968b3220-58da-4611-9d2a-b08735ed5339",
   "metadata": {},
   "outputs": [
    {
     "name": "stdout",
     "output_type": "stream",
     "text": [
      "1. és 2. elem felülírva: [1, 11, 12, 4]\n",
      "1. és 2. elem helyett 4 elem beszúrása: [1, 11, 12, 13, 14, 4]\n"
     ]
    }
   ],
   "source": [
    "a = [1, 2, 3, 4]\n",
    "# Ha egy részlistát szeretnénk felülírni, azt is megtehetjük\n",
    "a[1:3] = [11, 12]\n",
    "print(\"1. és 2. elem felülírva: \" + str(a))\n",
    "# Ugyanígy lehet bővíteni a listát\n",
    "a[1:3] = [11, 12, 13, 14]\n",
    "print(\"1. és 2. elem helyett 4 elem beszúrása: \" + str(a))"
   ]
  },
  {
   "cell_type": "code",
   "execution_count": 19,
   "id": "27f2b2ec-a68e-4e31-bf11-a178a9b8a154",
   "metadata": {},
   "outputs": [
    {
     "name": "stdout",
     "output_type": "stream",
     "text": [
      "a[0]:   [1, 2, 3]\n",
      "a[0]:   1\n"
     ]
    }
   ],
   "source": [
    "# Mivel egy listába bármilyen elem beilleszthető, így lista is lehet egy elem\n",
    "a = [[1,2,3],[4,5,6],[7,8,9]]\n",
    "# Ebben az esetben az indexelésnél az a[0]-val visszakapjuk az első tömböt\n",
    "print(\"a[0]:   \" + str(a[0]))\n",
    "# Ezt követően az a[0][0]-val tudjuk kiszedni az első számot, mert az a[0] tömbre hívunk egy indexelést a második [0]-vel\n",
    "print(\"a[0]:   \" + str(a[0][0]))\n",
    "# Amikor egy tömbnek minden eleme egy ugyanannyi elemet tartalmazó lista, akkor egy mátrixról beszélünk\n",
    "# A mátrixokról az elméleti anyagoknál található egy leírás, ami a numpy-t is bemutatja"
   ]
  },
  {
   "cell_type": "markdown",
   "id": "b2186e75-78ba-4690-9d73-5e29b783ea9b",
   "metadata": {},
   "source": [
    "### Tömbhöz tartozó függvények"
   ]
  },
  {
   "cell_type": "code",
   "execution_count": 17,
   "id": "ea5720d3-a250-4f4f-8301-66776129441b",
   "metadata": {},
   "outputs": [
    {
     "name": "stdout",
     "output_type": "stream",
     "text": [
      "['append', 'clear', 'copy', 'count', 'extend', 'index', 'insert', 'pop', 'remove', 'reverse', 'sort']\n"
     ]
    }
   ],
   "source": [
    "print(dir(a)[-11:])"
   ]
  },
  {
   "cell_type": "code",
   "execution_count": 9,
   "id": "4602e539-488a-4efd-be2d-c86e95f3314b",
   "metadata": {},
   "outputs": [
    {
     "data": {
      "text/plain": [
       "[1, 2, 3, 4, 5]"
      ]
     },
     "execution_count": 9,
     "metadata": {},
     "output_type": "execute_result"
    }
   ],
   "source": [
    "# A tömb végéhez új elemet az appenddel tudunk hozzáadni\n",
    "a = [1,2,3,4]\n",
    "a.append(5)\n",
    "a"
   ]
  },
  {
   "cell_type": "code",
   "execution_count": 15,
   "id": "8be20b76-8da8-4f6a-902a-6efa96c428ec",
   "metadata": {},
   "outputs": [
    {
     "name": "stdout",
     "output_type": "stream",
     "text": [
      "[1, 2, 3, 4]\n",
      "[]\n"
     ]
    }
   ],
   "source": [
    "# A clear függvény kiüríti a listát, ezt követően egy üres listánk lesz\n",
    "a = [1,2,3,4]\n",
    "print(a)\n",
    "a.clear()\n",
    "print(a)"
   ]
  },
  {
   "cell_type": "code",
   "execution_count": null,
   "id": "97f3c8b6-9ac4-49bd-8996-1741c0d8bc00",
   "metadata": {},
   "outputs": [],
   "source": []
  },
  {
   "cell_type": "code",
   "execution_count": null,
   "id": "e0f0d1cd-7adc-46b2-91a1-c5ff4823c31f",
   "metadata": {},
   "outputs": [],
   "source": []
  },
  {
   "cell_type": "code",
   "execution_count": 13,
   "id": "ee493437-8980-4c5d-a9fc-8a05527ca768",
   "metadata": {},
   "outputs": [
    {
     "data": {
      "text/plain": [
       "['append',\n",
       " 'clear',\n",
       " 'copy',\n",
       " 'count',\n",
       " 'extend',\n",
       " 'index',\n",
       " 'insert',\n",
       " 'pop',\n",
       " 'remove',\n",
       " 'reverse',\n",
       " 'sort']"
      ]
     },
     "execution_count": 13,
     "metadata": {},
     "output_type": "execute_result"
    }
   ],
   "source": [
    "dir(a)[-11:]"
   ]
  },
  {
   "cell_type": "code",
   "execution_count": null,
   "id": "672538ae-a019-4fef-9b46-abd4314e5967",
   "metadata": {},
   "outputs": [],
   "source": [
    "# A ciklusoknál írom le, hogyan lehet minden elemre ugyanazt a fügvényt lefuttatni"
   ]
  },
  {
   "cell_type": "markdown",
   "id": "743f9a4b-d5bd-4baf-9745-aab8d9859d90",
   "metadata": {},
   "source": [
    "## Tuple\n",
    "Gyakorlatilag egy readonly (csak olvasható) tömb"
   ]
  },
  {
   "cell_type": "code",
   "execution_count": 2,
   "id": "4ccba93c-c5cc-4cf7-9484-e70856aee465",
   "metadata": {},
   "outputs": [
    {
     "name": "stdout",
     "output_type": "stream",
     "text": [
      "2\n"
     ]
    },
    {
     "ename": "TypeError",
     "evalue": "'tuple' object does not support item assignment",
     "output_type": "error",
     "traceback": [
      "\u001b[1;31m---------------------------------------------------------------------------\u001b[0m",
      "\u001b[1;31mTypeError\u001b[0m                                 Traceback (most recent call last)",
      "\u001b[1;32mC:\\Users\\Public\\Documents\\Wondershare\\CreatorTemp/ipykernel_17180/3691419997.py\u001b[0m in \u001b[0;36m<module>\u001b[1;34m\u001b[0m\n\u001b[0;32m      4\u001b[0m \u001b[0mprint\u001b[0m\u001b[1;33m(\u001b[0m\u001b[0ma\u001b[0m\u001b[1;33m[\u001b[0m\u001b[1;36m1\u001b[0m\u001b[1;33m]\u001b[0m\u001b[1;33m)\u001b[0m\u001b[1;33m\u001b[0m\u001b[1;33m\u001b[0m\u001b[0m\n\u001b[0;32m      5\u001b[0m \u001b[1;31m# Viszont ha törölni akarunk belőle, futás idejú hibát kapunk\u001b[0m\u001b[1;33m\u001b[0m\u001b[1;33m\u001b[0m\u001b[0m\n\u001b[1;32m----> 6\u001b[1;33m \u001b[0ma\u001b[0m\u001b[1;33m[\u001b[0m\u001b[1;36m1\u001b[0m\u001b[1;33m]\u001b[0m \u001b[1;33m=\u001b[0m \u001b[1;36m10\u001b[0m\u001b[1;33m\u001b[0m\u001b[1;33m\u001b[0m\u001b[0m\n\u001b[0m",
      "\u001b[1;31mTypeError\u001b[0m: 'tuple' object does not support item assignment"
     ]
    }
   ],
   "source": [
    "# Egy tuple létrehozásához (deklarálásához/inicializálásához) ()-be kell írni az elemeket vesszővel elválasztva\n",
    "a = (1,2,3,4,5)\n",
    "# Ugyanúgy tudjuk indexelni\n",
    "print(a[1])\n",
    "# Viszont ha törölni akarunk belőle, futás idejú hibát kapunk\n",
    "a[1] = 10"
   ]
  },
  {
   "cell_type": "markdown",
   "id": "cfa28ce5-c77e-4e75-8152-03543feb8908",
   "metadata": {},
   "source": [
    "## Dictionary\n",
    "Ezek olyan listák, ahol az összes értékhez (\"value\") tartozik egy kulcs (\"key\")\n",
    "\n",
    "Ez annyit tesz, hogy sorszám helyett a kulcsokkal lehet indexelni a listát"
   ]
  },
  {
   "cell_type": "code",
   "execution_count": 7,
   "id": "f1d2b60a-72e4-496e-8e7f-7bd2f0f17676",
   "metadata": {},
   "outputs": [
    {
     "name": "stdout",
     "output_type": "stream",
     "text": [
      "almafa\n"
     ]
    },
    {
     "ename": "KeyError",
     "evalue": "0",
     "output_type": "error",
     "traceback": [
      "\u001b[1;31m---------------------------------------------------------------------------\u001b[0m",
      "\u001b[1;31mKeyError\u001b[0m                                  Traceback (most recent call last)",
      "\u001b[1;32mC:\\Users\\Public\\Documents\\Wondershare\\CreatorTemp/ipykernel_17180/176847695.py\u001b[0m in \u001b[0;36m<module>\u001b[1;34m\u001b[0m\n\u001b[0;32m      4\u001b[0m \u001b[0mprint\u001b[0m\u001b[1;33m(\u001b[0m\u001b[0ma\u001b[0m\u001b[1;33m[\u001b[0m\u001b[1;34m\"alma\"\u001b[0m\u001b[1;33m]\u001b[0m\u001b[1;33m)\u001b[0m\u001b[1;33m\u001b[0m\u001b[1;33m\u001b[0m\u001b[0m\n\u001b[0;32m      5\u001b[0m \u001b[1;31m# A klasszikus sorszám alapján indexelés nem is működik ilyenkor\u001b[0m\u001b[1;33m\u001b[0m\u001b[1;33m\u001b[0m\u001b[0m\n\u001b[1;32m----> 6\u001b[1;33m \u001b[0mprint\u001b[0m\u001b[1;33m(\u001b[0m\u001b[0ma\u001b[0m\u001b[1;33m[\u001b[0m\u001b[1;36m0\u001b[0m\u001b[1;33m]\u001b[0m\u001b[1;33m)\u001b[0m\u001b[1;33m\u001b[0m\u001b[1;33m\u001b[0m\u001b[0m\n\u001b[0m",
      "\u001b[1;31mKeyError\u001b[0m: 0"
     ]
    }
   ],
   "source": [
    "# A létrehozásához {}-ben kell megadni a kulcs:érték párokat\n",
    "a = {\"alma\": \"almafa\", \"korte\": \"kortefa\", \"barack\": \"barackfa\"}\n",
    "# Ezt követően tudjuk használni a kulcsokat az értékek kinyerésére\n",
    "print(a[\"alma\"])\n",
    "# A klasszikus sorszám alapján indexelés nem is működik ilyenkor\n",
    "print(a[0])"
   ]
  },
  {
   "cell_type": "code",
   "execution_count": null,
   "id": "bca8ba5c-8e41-4f1c-9228-0d9c564d57bb",
   "metadata": {},
   "outputs": [],
   "source": [
    "# Egy érték ugyanúgy tudunk felülírni\n",
    "a = {\"alma\": \"almafa\", \"korte\": \"kortefa\", \"barack\": \"barackfa\"}\n",
    "print(\"előtte: \"+str(a))\n",
    "a[\"alma\"] = "
   ]
  },
  {
   "cell_type": "code",
   "execution_count": null,
   "id": "a35aba6b-c5f3-4d13-a469-80815074ed9f",
   "metadata": {},
   "outputs": [],
   "source": []
  },
  {
   "cell_type": "code",
   "execution_count": null,
   "id": "03a45c50-d8f9-4295-a4d7-2cd1de5da1a6",
   "metadata": {},
   "outputs": [],
   "source": []
  },
  {
   "cell_type": "code",
   "execution_count": null,
   "id": "efd57e3b-b24a-4971-baa0-6c8ab1547833",
   "metadata": {},
   "outputs": [],
   "source": []
  },
  {
   "cell_type": "code",
   "execution_count": null,
   "id": "c47e3c36-3ed0-4c13-804e-807954f5bd0c",
   "metadata": {},
   "outputs": [],
   "source": []
  },
  {
   "cell_type": "code",
   "execution_count": null,
   "id": "bc51f321-55e4-49c1-9a11-912fba462ec5",
   "metadata": {},
   "outputs": [],
   "source": []
  }
 ],
 "metadata": {
  "kernelspec": {
   "display_name": "Python 3 (ipykernel)",
   "language": "python",
   "name": "python3"
  },
  "language_info": {
   "codemirror_mode": {
    "name": "ipython",
    "version": 3
   },
   "file_extension": ".py",
   "mimetype": "text/x-python",
   "name": "python",
   "nbconvert_exporter": "python",
   "pygments_lexer": "ipython3",
   "version": "3.9.7"
  }
 },
 "nbformat": 4,
 "nbformat_minor": 5
}
