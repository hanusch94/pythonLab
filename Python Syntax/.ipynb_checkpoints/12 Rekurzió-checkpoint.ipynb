{
 "cells": [
  {
   "cell_type": "markdown",
   "id": "1db63856-39a3-4949-a09d-91fab4cf5f9e",
   "metadata": {},
   "source": [
    "# Rekurzió"
   ]
  },
  {
   "cell_type": "code",
   "execution_count": 6,
   "id": "9879c1eb-3d52-43e3-810f-ddaf31be710b",
   "metadata": {},
   "outputs": [
    {
     "name": "stdout",
     "output_type": "stream",
     "text": [
      "if előtt:  1\n",
      "if előtt:  2\n",
      "if előtt:  3\n",
      "Rekurziv visszatér:  3\n",
      "Rekurziv visszatér:  2\n",
      "az első függvényhívás visszatérése 1\n"
     ]
    }
   ],
   "source": [
    "# Rekurziónak hívjük azt, amikor a függvény önmagát hívja\n",
    "\n",
    "# VÉGTELEN CIKLUS VESZÉLY\n",
    "# Itt is vigyáznunk kell a végtelen ciklussal\n",
    "def rekurzivFuggven(a):\n",
    "    a+=1\n",
    "    print(\"if előtt: \", a)\n",
    "    if(a<3):\n",
    "        b = rekurzivFuggven(a)\n",
    "        print(\"Rekurziv visszatér: \", b)\n",
    "    return a\n",
    "\n",
    "print(\"az első függvényhívás visszatérése\", rekurzivFuggven(0))"
   ]
  },
  {
   "cell_type": "markdown",
   "id": "85aa14f9-0c5c-4e4c-a170-c1c82257a3d9",
   "metadata": {},
   "source": [
    "### A futásnál a következő dolog történik\n",
    "- rekurzivFuggven(0)\n",
    "    - a+=1   //___________________________________________________a=1\n",
    "    - print(\"if előtt: \", a)   //______________________________________Kiír 1\n",
    "    - if(a<3):   //_________________________________________________1<3\n",
    "        - b = rekurzivFuggven(a)   //____________________________Meghívódik a 2. szint\n",
    "            - a+=1   //__________________________________________a=2\n",
    "            - print(\"if előtt: \", a)   // ____________________________Kiír 2\n",
    "            - if(a<3):   //________________________________________2<3\n",
    "                - b = rekurzivFuggven(a)   //__________________Meghívódik a 3. szint\n",
    "                    - a+=1   //________________________________a=3\n",
    "                    - print(\"if előtt: \", a)   //___________________Kiír 3\n",
    "                    - if(a<3):   //_______________________________3<3 (FALSE)\n",
    "                        - b = rekurzivFuggven(a)   //_________NEM FUT LE AZ IF MIATT\n",
    "                        - print(\"Rekurziv visszatér: \", b) //___NEM FUT LE AZ IF MIATT\n",
    "                    - return a   //______________________________Visszaadjuk a saját szintünk értékét (3)\n",
    "                - print(\"Rekurziv visszatér: \", b)   //_____________Kiírjuk a visszatért értéket (3)\n",
    "            - return a   //_________________________________________Visszaadjuk a saját szintünk értékét (2)\n",
    "        - print(\"Rekurziv visszatér: \", b)   //_______________________Kiírjuk a visszatért értéket (2)\n",
    "    - return a   //__________________________________________________Visszaadjuk a saját szintünk értékét\n",
    "- print() //_________________________________________________________A visszartért érték kiíródik (1)"
   ]
  },
  {
   "cell_type": "markdown",
   "id": "f625b6c7-900c-41a7-b77e-174215f3c9a7",
   "metadata": {},
   "source": [
    "___\n",
    "## Python és a rekurzió\n",
    "- Pythonban azért nem célszerű túlságosan komplex dolgokat csinálni, mert a függvény hívás időigényes, sokba kerül erőforrás ügyileg\n",
    "- Ezt a rekurziónál nagyon szépen lehet látni\n",
    "- Ha túl mélyre kerülünk, igencsak be tud lassulni a folyamat"
   ]
  },
  {
   "cell_type": "code",
   "execution_count": 9,
   "id": "a2800292-808a-4369-9f2c-a91181274b59",
   "metadata": {},
   "outputs": [
    {
     "ename": "TypeError",
     "evalue": "'module' object is not callable",
     "output_type": "error",
     "traceback": [
      "\u001b[1;31m---------------------------------------------------------------------------\u001b[0m",
      "\u001b[1;31mTypeError\u001b[0m                                 Traceback (most recent call last)",
      "\u001b[1;32mC:\\Users\\Public\\Documents\\Wondershare\\CreatorTemp/ipykernel_14100/2809400756.py\u001b[0m in \u001b[0;36m<module>\u001b[1;34m\u001b[0m\n\u001b[0;32m      1\u001b[0m \u001b[1;32mimport\u001b[0m \u001b[0msrc\u001b[0m\u001b[1;33m.\u001b[0m\u001b[0mmyTime\u001b[0m \u001b[1;32mas\u001b[0m \u001b[0mTime\u001b[0m\u001b[1;33m\u001b[0m\u001b[1;33m\u001b[0m\u001b[0m\n\u001b[0;32m      2\u001b[0m \u001b[1;33m\u001b[0m\u001b[0m\n\u001b[1;32m----> 3\u001b[1;33m \u001b[0mt\u001b[0m \u001b[1;33m=\u001b[0m \u001b[0mTime\u001b[0m\u001b[1;33m(\u001b[0m\u001b[1;33m)\u001b[0m\u001b[1;33m\u001b[0m\u001b[1;33m\u001b[0m\u001b[0m\n\u001b[0m\u001b[0;32m      4\u001b[0m \u001b[0mprint\u001b[0m\u001b[1;33m(\u001b[0m\u001b[1;33m)\u001b[0m\u001b[1;33m\u001b[0m\u001b[1;33m\u001b[0m\u001b[0m\n",
      "\u001b[1;31mTypeError\u001b[0m: 'module' object is not callable"
     ]
    }
   ],
   "source": [
    "import src.myTime as time\n",
    "\n",
    "t = Time()\n",
    "print()"
   ]
  },
  {
   "cell_type": "code",
   "execution_count": null,
   "id": "90879e76-570b-45bf-8559-f0f4bd1bb3a9",
   "metadata": {},
   "outputs": [],
   "source": []
  },
  {
   "cell_type": "code",
   "execution_count": null,
   "id": "2238ba31-65cb-444b-9303-0b6ef3f756c4",
   "metadata": {},
   "outputs": [],
   "source": []
  },
  {
   "cell_type": "code",
   "execution_count": null,
   "id": "1df75142-3363-4892-8117-35a231137fa2",
   "metadata": {},
   "outputs": [],
   "source": []
  },
  {
   "cell_type": "code",
   "execution_count": null,
   "id": "bc1df246-c4c6-4bca-8649-552fcdf57da1",
   "metadata": {},
   "outputs": [],
   "source": []
  },
  {
   "cell_type": "code",
   "execution_count": null,
   "id": "edcbc393-48cd-46e0-835a-f40fcb9ace5e",
   "metadata": {},
   "outputs": [],
   "source": []
  },
  {
   "cell_type": "code",
   "execution_count": null,
   "id": "23798552-26de-47a7-acd1-8a66040e37ed",
   "metadata": {},
   "outputs": [],
   "source": []
  }
 ],
 "metadata": {
  "kernelspec": {
   "display_name": "Python 3 (ipykernel)",
   "language": "python",
   "name": "python3"
  },
  "language_info": {
   "codemirror_mode": {
    "name": "ipython",
    "version": 3
   },
   "file_extension": ".py",
   "mimetype": "text/x-python",
   "name": "python",
   "nbconvert_exporter": "python",
   "pygments_lexer": "ipython3",
   "version": "3.9.7"
  }
 },
 "nbformat": 4,
 "nbformat_minor": 5
}
