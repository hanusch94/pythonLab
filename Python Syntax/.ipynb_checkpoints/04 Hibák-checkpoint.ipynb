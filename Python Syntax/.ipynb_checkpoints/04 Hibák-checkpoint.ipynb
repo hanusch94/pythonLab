{
 "cells": [
  {
   "cell_type": "markdown",
   "id": "b730323e-7223-4213-bf9a-c9afeb456f69",
   "metadata": {},
   "source": [
    "# Hibák"
   ]
  },
  {
   "cell_type": "markdown",
   "id": "5e92c62b-c7e0-4351-95c4-646f29ef1893",
   "metadata": {},
   "source": [
    "## Szintaktikai Vs Szemantikai hibák\n",
    "- A Szintaktikai hiba olyan, mintha nyelvtani hibát ejtenénk\n",
    "- A szemantikai hiba olyan, mintha rosszul használnánk egy szót"
   ]
  },
  {
   "cell_type": "code",
   "execution_count": null,
   "id": "84091cd4-b2ba-48de-9e21-c70434f358cc",
   "metadata": {},
   "outputs": [],
   "source": [
    "# Szemantikai hiba, ha össze szeretnénk adni és ezt írjuk\n",
    "3-2\n",
    "# Az ilyen hibákat gyakori print használatával és az értékek folyamatos vizsgálatával lehet javítani (debugolni)"
   ]
  },
  {
   "cell_type": "code",
   "execution_count": 7,
   "id": "aef23efd-787a-4c25-a4b2-c2341c4ece70",
   "metadata": {},
   "outputs": [
    {
     "ename": "SyntaxError",
     "evalue": "invalid syntax (CreatorTemp/ipykernel_2932/1444579827.py, line 2)",
     "output_type": "error",
     "traceback": [
      "\u001b[1;36m  File \u001b[1;32m\"C:\\Users\\Public\\Documents\\Wondershare\\CreatorTemp/ipykernel_2932/1444579827.py\"\u001b[1;36m, line \u001b[1;32m2\u001b[0m\n\u001b[1;33m    3+;2\u001b[0m\n\u001b[1;37m      ^\u001b[0m\n\u001b[1;31mSyntaxError\u001b[0m\u001b[1;31m:\u001b[0m invalid syntax\n"
     ]
    }
   ],
   "source": [
    "# Szintaktikai\n",
    "3+;2"
   ]
  },
  {
   "cell_type": "code",
   "execution_count": 8,
   "id": "f91a56d1-f093-4d0e-bb8c-cc0cbd4eb8c7",
   "metadata": {},
   "outputs": [
    {
     "ename": "SyntaxError",
     "evalue": "invalid syntax (CreatorTemp/ipykernel_2932/3080640266.py, line 4)",
     "output_type": "error",
     "traceback": [
      "\u001b[1;36m  File \u001b[1;32m\"C:\\Users\\Public\\Documents\\Wondershare\\CreatorTemp/ipykernel_2932/3080640266.py\"\u001b[1;36m, line \u001b[1;32m4\u001b[0m\n\u001b[1;33m    b = Itt lesz egy hiba\u001b[0m\n\u001b[1;37m            ^\u001b[0m\n\u001b[1;31mSyntaxError\u001b[0m\u001b[1;31m:\u001b[0m invalid syntax\n"
     ]
    }
   ],
   "source": [
    "# A szintaktikai hibáknál mindig van hibaüzenet\n",
    "# Itt jelölve van, hogy melyik sorban, melyik ponton jött a hiba\n",
    "# Ezen kícül van egy hibaüzenet, ami megmondja mi a probléma (legrosszabb esetben google-el ki lehet találni az okát ez alapján)\n",
    "a = \"Itt nem lesz hiba\"\n",
    "b = Itt lesz egy hiba\n",
    "a = \"Itt nem lesz hiba\""
   ]
  },
  {
   "cell_type": "code",
   "execution_count": 9,
   "id": "887627e1-2de3-468a-871a-9049b6f5fccc",
   "metadata": {},
   "outputs": [
    {
     "ename": "TypeError",
     "evalue": "unsupported operand type(s) for +: 'int' and 'str'",
     "output_type": "error",
     "traceback": [
      "\u001b[1;31m---------------------------------------------------------------------------\u001b[0m",
      "\u001b[1;31mTypeError\u001b[0m                                 Traceback (most recent call last)",
      "\u001b[1;32mC:\\Users\\Public\\Documents\\Wondershare\\CreatorTemp/ipykernel_2932/1976203051.py\u001b[0m in \u001b[0;36m<module>\u001b[1;34m\u001b[0m\n\u001b[0;32m      5\u001b[0m     \u001b[0mszor\u001b[0m\u001b[1;33m.\u001b[0m\u001b[0mhiba\u001b[0m\u001b[1;33m(\u001b[0m\u001b[1;33m)\u001b[0m\u001b[1;33m\u001b[0m\u001b[1;33m\u001b[0m\u001b[0m\n\u001b[0;32m      6\u001b[0m \u001b[1;33m\u001b[0m\u001b[0m\n\u001b[1;32m----> 7\u001b[1;33m \u001b[0mkulsoFuggveny\u001b[0m\u001b[1;33m(\u001b[0m\u001b[1;33m)\u001b[0m\u001b[1;33m\u001b[0m\u001b[1;33m\u001b[0m\u001b[0m\n\u001b[0m",
      "\u001b[1;32mC:\\Users\\Public\\Documents\\Wondershare\\CreatorTemp/ipykernel_2932/1976203051.py\u001b[0m in \u001b[0;36mkulsoFuggveny\u001b[1;34m()\u001b[0m\n\u001b[0;32m      3\u001b[0m \u001b[1;33m\u001b[0m\u001b[0m\n\u001b[0;32m      4\u001b[0m \u001b[1;32mdef\u001b[0m \u001b[0mkulsoFuggveny\u001b[0m\u001b[1;33m(\u001b[0m\u001b[1;33m)\u001b[0m\u001b[1;33m:\u001b[0m\u001b[1;33m\u001b[0m\u001b[1;33m\u001b[0m\u001b[0m\n\u001b[1;32m----> 5\u001b[1;33m     \u001b[0mszor\u001b[0m\u001b[1;33m.\u001b[0m\u001b[0mhiba\u001b[0m\u001b[1;33m(\u001b[0m\u001b[1;33m)\u001b[0m\u001b[1;33m\u001b[0m\u001b[1;33m\u001b[0m\u001b[0m\n\u001b[0m\u001b[0;32m      6\u001b[0m \u001b[1;33m\u001b[0m\u001b[0m\n\u001b[0;32m      7\u001b[0m \u001b[0mkulsoFuggveny\u001b[0m\u001b[1;33m(\u001b[0m\u001b[1;33m)\u001b[0m\u001b[1;33m\u001b[0m\u001b[1;33m\u001b[0m\u001b[0m\n",
      "\u001b[1;32m~\\Jupyter\\PythonOktatas\\python syntax\\src\\szorzasiFuggvenyek.py\u001b[0m in \u001b[0;36mhiba\u001b[1;34m()\u001b[0m\n\u001b[0;32m     12\u001b[0m \u001b[1;33m\u001b[0m\u001b[0m\n\u001b[0;32m     13\u001b[0m \u001b[1;32mdef\u001b[0m \u001b[0mhiba\u001b[0m\u001b[1;33m(\u001b[0m\u001b[1;33m)\u001b[0m\u001b[1;33m:\u001b[0m\u001b[1;33m\u001b[0m\u001b[1;33m\u001b[0m\u001b[0m\n\u001b[1;32m---> 14\u001b[1;33m     \u001b[0ma\u001b[0m \u001b[1;33m=\u001b[0m \u001b[1;36m2\u001b[0m\u001b[1;33m+\u001b[0m\u001b[1;34m\"s\"\u001b[0m\u001b[1;33m\u001b[0m\u001b[1;33m\u001b[0m\u001b[0m\n\u001b[0m",
      "\u001b[1;31mTypeError\u001b[0m: unsupported operand type(s) for +: 'int' and 'str'"
     ]
    }
   ],
   "source": [
    "# Ha egy fájlban vagy függvényben van hiba, akkor vissza van vezetve minden szinten, hogy honnan jött a hiba\n",
    "import src.szorzasiFuggvenyek as szor\n",
    "\n",
    "def kulsoFuggveny():\n",
    "    szor.hiba()\n",
    "    \n",
    "kulsoFuggveny()"
   ]
  },
  {
   "cell_type": "code",
   "execution_count": 10,
   "id": "d46baca7-8da1-4427-a7ae-908a1afb990a",
   "metadata": {},
   "outputs": [
    {
     "name": "stdout",
     "output_type": "stream",
     "text": [
      "nincs hibaüzenet, pedig a függvényben van hiba\n"
     ]
    }
   ],
   "source": [
    "# Viszont ha nem hívjuk meg azt a függvényt, amiven a hiba van, nem fogunk hibát kapni\n",
    "\n",
    "def hibasFuggven():\n",
    "    a = \"a\"+1\n",
    "    \n",
    "print(\"nincs hibaüzenet, pedig a függvényben van hiba\")"
   ]
  },
  {
   "cell_type": "code",
   "execution_count": 12,
   "id": "a0e7ddac-43de-4654-be1a-f407eba6d3ba",
   "metadata": {},
   "outputs": [
    {
     "name": "stdout",
     "output_type": "stream",
     "text": [
      "Kiírom\n",
      "Tudok debugolás (hibajavítás) közben is printelni\n",
      "Mert egészen a hibáig kiírok mindent\n"
     ]
    },
    {
     "ename": "TypeError",
     "evalue": "can only concatenate str (not \"int\") to str",
     "output_type": "error",
     "traceback": [
      "\u001b[1;31m---------------------------------------------------------------------------\u001b[0m",
      "\u001b[1;31mTypeError\u001b[0m                                 Traceback (most recent call last)",
      "\u001b[1;32mC:\\Users\\Public\\Documents\\Wondershare\\CreatorTemp/ipykernel_2932/2644274576.py\u001b[0m in \u001b[0;36m<module>\u001b[1;34m\u001b[0m\n\u001b[0;32m      4\u001b[0m \u001b[0mprint\u001b[0m\u001b[1;33m(\u001b[0m\u001b[1;34m\"Tudok debugolás (hibajavítás) közben is printelni\"\u001b[0m\u001b[1;33m)\u001b[0m\u001b[1;33m\u001b[0m\u001b[1;33m\u001b[0m\u001b[0m\n\u001b[0;32m      5\u001b[0m \u001b[0mprint\u001b[0m\u001b[1;33m(\u001b[0m\u001b[1;34m\"Mert egészen a hibáig kiírok mindent\"\u001b[0m\u001b[1;33m)\u001b[0m\u001b[1;33m\u001b[0m\u001b[1;33m\u001b[0m\u001b[0m\n\u001b[1;32m----> 6\u001b[1;33m \u001b[0ma\u001b[0m \u001b[1;33m=\u001b[0m \u001b[1;34m\"a\"\u001b[0m \u001b[1;33m+\u001b[0m \u001b[1;36m1\u001b[0m\u001b[1;33m\u001b[0m\u001b[1;33m\u001b[0m\u001b[0m\n\u001b[0m",
      "\u001b[1;31mTypeError\u001b[0m: can only concatenate str (not \"int\") to str"
     ]
    }
   ],
   "source": [
    "# Arra érdemes még figyelni, hogy a hiba előtt minden kiírt dolog megtalálható a piros terület felett\n",
    "\n",
    "print(\"Kiírom\")\n",
    "print(\"Tudok debugolás (hibajavítás) közben is printelni\")\n",
    "print(\"Mert egészen a hibáig kiírok mindent\")\n",
    "a = \"a\" + 1"
   ]
  }
 ],
 "metadata": {
  "kernelspec": {
   "display_name": "Python 3 (ipykernel)",
   "language": "python",
   "name": "python3"
  },
  "language_info": {
   "codemirror_mode": {
    "name": "ipython",
    "version": 3
   },
   "file_extension": ".py",
   "mimetype": "text/x-python",
   "name": "python",
   "nbconvert_exporter": "python",
   "pygments_lexer": "ipython3",
   "version": "3.9.7"
  }
 },
 "nbformat": 4,
 "nbformat_minor": 5
}
