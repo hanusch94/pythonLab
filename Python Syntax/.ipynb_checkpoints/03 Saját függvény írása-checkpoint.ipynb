{
 "cells": [
  {
   "cell_type": "markdown",
   "id": "44e9808b-62d9-479d-a24d-b5ee9153ade8",
   "metadata": {},
   "source": [
    "# Saját függvény írása"
   ]
  },
  {
   "cell_type": "markdown",
   "id": "e3991261-2615-4800-93d1-1f4b7a6172d6",
   "metadata": {},
   "source": [
    "## Hogyan képzeljük el a függvényeket\n",
    "\n",
    "### Analógia (hasonlat)\n",
    "- Képzeljük azt, hogy a program egy futószalag egy autógyárban\n",
    "- Az egyes állomások egy-egy függvény, ahova megérkezik az autó és pár alkatrész és mikor távozik, akkor már fel van szerelve rá az alkatrész\n",
    "\n",
    "### Valóság\n",
    "- A függvény egy olyan meghívható feladatsor, aminek lehetnek bemenő paraméterei és visszatérési értéke.\n",
    "- Általában olyan esetben érdemes függvényt írni, amikor:\n",
    "    -vagy az átláthatóságot szeretnénk javítani\n",
    "    -vagy egy rendszeresen végrehajtandó feladatot szeretnénk 1 helyen leírni, majd sok helyen használni"
   ]
  },
  {
   "cell_type": "code",
   "execution_count": 4,
   "id": "17908593-b12a-4be7-9acf-6154ec8ef025",
   "metadata": {},
   "outputs": [
    {
     "name": "stdout",
     "output_type": "stream",
     "text": [
      "2\n"
     ]
    }
   ],
   "source": [
    "# Függvénydefiniálás\n",
    "\n",
    "# Figyeljük meg:\n",
    "#    -Def szóval kezdődik egy függvény definiálása\n",
    "#    -Utána következik a függvény név\n",
    "#    -A függvény név után jön a zarojel\n",
    "#    -A zárójel után : van\n",
    "#    -Ezt követően behúzva található a függvény belseje (a pythonban nagyon fontos a behúzás, mert addig tart a függvény belseje, ameddig behúzva vannak a dolgok)\n",
    "\n",
    "def printKetto():\n",
    "    print(2)\n",
    "    \n",
    "# Definíció után úgy tudjuk meghívni a függvényünk, mint akármelyik másikat függvénynév()\n",
    "printKetto()"
   ]
  },
  {
   "cell_type": "code",
   "execution_count": 5,
   "id": "a4b6e6fa-cb32-45a1-bdf4-971130423fc3",
   "metadata": {},
   "outputs": [
    {
     "name": "stdout",
     "output_type": "stream",
     "text": [
      "2\n"
     ]
    }
   ],
   "source": [
    "# Ha definiáltunk egy függvényt, máshonnan is meg tudjuk hívni\n",
    "printKetto()"
   ]
  },
  {
   "cell_type": "code",
   "execution_count": 8,
   "id": "2eddf9f0-2d02-4486-944a-f04e1f9bf649",
   "metadata": {},
   "outputs": [
    {
     "name": "stdout",
     "output_type": "stream",
     "text": [
      "8\n"
     ]
    }
   ],
   "source": [
    "# Ha bemeneti paramétereket szeretnénk a függvénynek, a definíciókor a zárójelbe kell megadni\n",
    "def prtintSzorKetto(szam):\n",
    "    print(2*szam)\n",
    "\n",
    "prtintSzorKetto(4)"
   ]
  },
  {
   "cell_type": "code",
   "execution_count": 11,
   "id": "df973221-e9f0-48a5-9978-b147407c607b",
   "metadata": {},
   "outputs": [
    {
     "name": "stdout",
     "output_type": "stream",
     "text": [
      "6\n"
     ]
    }
   ],
   "source": [
    "# Ha visszatérési értéket szeretnénk, azt return-nel tudjuk visszaadni\n",
    "def getSzorKetto(szam):\n",
    "    return 2*szam\n",
    "\n",
    "print(getSzorKetto(3))"
   ]
  },
  {
   "cell_type": "code",
   "execution_count": 12,
   "id": "fc185a65-a18c-4381-8df5-9a7d70357e53",
   "metadata": {},
   "outputs": [
    {
     "name": "stdout",
     "output_type": "stream",
     "text": [
      "6\n"
     ]
    },
    {
     "ename": "NameError",
     "evalue": "name 'ret' is not defined",
     "output_type": "error",
     "traceback": [
      "\u001b[1;31m---------------------------------------------------------------------------\u001b[0m",
      "\u001b[1;31mNameError\u001b[0m                                 Traceback (most recent call last)",
      "\u001b[1;32mC:\\Users\\Public\\Documents\\Wondershare\\CreatorTemp/ipykernel_16940/3459981537.py\u001b[0m in \u001b[0;36m<module>\u001b[1;34m\u001b[0m\n\u001b[0;32m      5\u001b[0m \u001b[1;33m\u001b[0m\u001b[0m\n\u001b[0;32m      6\u001b[0m \u001b[0mprint\u001b[0m\u001b[1;33m(\u001b[0m\u001b[0mgetSzorKetto\u001b[0m\u001b[1;33m(\u001b[0m\u001b[1;36m3\u001b[0m\u001b[1;33m)\u001b[0m\u001b[1;33m)\u001b[0m\u001b[1;33m\u001b[0m\u001b[1;33m\u001b[0m\u001b[0m\n\u001b[1;32m----> 7\u001b[1;33m \u001b[0mprint\u001b[0m\u001b[1;33m(\u001b[0m\u001b[0mret\u001b[0m\u001b[1;33m)\u001b[0m\u001b[1;33m\u001b[0m\u001b[1;33m\u001b[0m\u001b[0m\n\u001b[0m",
      "\u001b[1;31mNameError\u001b[0m: name 'ret' is not defined"
     ]
    }
   ],
   "source": [
    "# A függvényen belüli változók csak a függvényen belül látszódnak\n",
    "def getSzorKetto(szam):\n",
    "    ret = 2*szam\n",
    "    return ret\n",
    "\n",
    "print(getSzorKetto(3))\n",
    "#ezért kícül nincs is ilyen változó\n",
    "print(ret)"
   ]
  },
  {
   "cell_type": "code",
   "execution_count": 16,
   "id": "eacac2d5-c0c7-40ba-8036-c2eac143b530",
   "metadata": {},
   "outputs": [
    {
     "name": "stdout",
     "output_type": "stream",
     "text": [
      "a kint:  3\n",
      "a bent:  2\n",
      "a kint:  3\n",
      "b:  6\n"
     ]
    }
   ],
   "source": [
    "# Ugyanaz a függvénynév használható kícül és belül is, belül egy zárt rendszerben vagyunk, ahol csak a paraméterek látszódnak\n",
    "def getSzorKetto(szam):\n",
    "    a = 2\n",
    "    print(\"a bent: \", a)\n",
    "    return a*szam\n",
    "\n",
    "a = 3\n",
    "print(\"a kint: \", a)\n",
    "b = getSzorKetto(a)\n",
    "print(\"a kint: \", a)\n",
    "print(\"b: \", b)"
   ]
  },
  {
   "cell_type": "code",
   "execution_count": null,
   "id": "89d200bd-9ac3-4ac0-afad-242f5af97144",
   "metadata": {},
   "outputs": [],
   "source": [
    "## Könyvtárak kezelése, könyvtárak készítése\n",
    "A könyvtárak olyan függvénygyűjtemények, amiket be tudunk húzni, és használni az ott leírt függvényeket"
   ]
  },
  {
   "cell_type": "code",
   "execution_count": 17,
   "id": "038de1bf-bb62-4dc9-8023-71efd0f516b6",
   "metadata": {},
   "outputs": [],
   "source": [
    "# Vannak kész függvények is, mint a math, pandas, numpy\n",
    "# A math-ben például matematikai függvények vannak, pl a gyökvonás\n",
    "# Behúzni egy függvénykönyvtárat az import-tal tudjuk\n",
    "import math"
   ]
  },
  {
   "cell_type": "code",
   "execution_count": null,
   "id": "e09b110c-f696-47b3-b736-c6593a5cad5e",
   "metadata": {},
   "outputs": [],
   "source": []
  }
 ],
 "metadata": {
  "kernelspec": {
   "display_name": "Python 3 (ipykernel)",
   "language": "python",
   "name": "python3"
  },
  "language_info": {
   "codemirror_mode": {
    "name": "ipython",
    "version": 3
   },
   "file_extension": ".py",
   "mimetype": "text/x-python",
   "name": "python",
   "nbconvert_exporter": "python",
   "pygments_lexer": "ipython3",
   "version": "3.9.7"
  }
 },
 "nbformat": 4,
 "nbformat_minor": 5
}
