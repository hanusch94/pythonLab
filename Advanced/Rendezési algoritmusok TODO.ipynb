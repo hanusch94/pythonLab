{
 "cells": [
  {
   "cell_type": "markdown",
   "id": "aff7fe7b-6f6d-4c81-9c00-348758a6e471",
   "metadata": {},
   "source": [
    "# Rendezési algoritmusok\n",
    "Ez előtt a téma előtt érdemes a szintaktikában eljutni a Ciklusok tananyagig"
   ]
  }
 ],
 "metadata": {
  "kernelspec": {
   "display_name": "Python 3 (ipykernel)",
   "language": "python",
   "name": "python3"
  },
  "language_info": {
   "codemirror_mode": {
    "name": "ipython",
    "version": 3
   },
   "file_extension": ".py",
   "mimetype": "text/x-python",
   "name": "python",
   "nbconvert_exporter": "python",
   "pygments_lexer": "ipython3",
   "version": "3.9.7"
  }
 },
 "nbformat": 4,
 "nbformat_minor": 5
}
